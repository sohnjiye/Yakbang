{
  "nbformat": 4,
  "nbformat_minor": 0,
  "metadata": {
    "colab": {
      "provenance": [],
      "machine_shape": "hm",
      "gpuType": "A100"
    },
    "kernelspec": {
      "name": "python3",
      "display_name": "Python 3"
    },
    "language_info": {
      "name": "python"
    },
    "accelerator": "GPU"
  },
  "cells": [
    {
      "cell_type": "code",
      "execution_count": null,
      "metadata": {
        "id": "GTdXPJALG0vC",
        "colab": {
          "base_uri": "https://localhost:8080/"
        },
        "outputId": "5ee4746c-0f1c-445a-b352-e748e5b58d1e"
      },
      "outputs": [
        {
          "output_type": "stream",
          "name": "stdout",
          "text": [
            "Collecting ultralytics\n",
            "  Downloading ultralytics-8.3.154-py3-none-any.whl.metadata (37 kB)\n",
            "Requirement already satisfied: numpy>=1.23.0 in /usr/local/lib/python3.11/dist-packages (from ultralytics) (2.0.2)\n",
            "Requirement already satisfied: matplotlib>=3.3.0 in /usr/local/lib/python3.11/dist-packages (from ultralytics) (3.10.0)\n",
            "Requirement already satisfied: opencv-python>=4.6.0 in /usr/local/lib/python3.11/dist-packages (from ultralytics) (4.11.0.86)\n",
            "Requirement already satisfied: pillow>=7.1.2 in /usr/local/lib/python3.11/dist-packages (from ultralytics) (11.2.1)\n",
            "Requirement already satisfied: pyyaml>=5.3.1 in /usr/local/lib/python3.11/dist-packages (from ultralytics) (6.0.2)\n",
            "Requirement already satisfied: requests>=2.23.0 in /usr/local/lib/python3.11/dist-packages (from ultralytics) (2.32.3)\n",
            "Requirement already satisfied: scipy>=1.4.1 in /usr/local/lib/python3.11/dist-packages (from ultralytics) (1.15.3)\n",
            "Requirement already satisfied: torch>=1.8.0 in /usr/local/lib/python3.11/dist-packages (from ultralytics) (2.6.0+cu124)\n",
            "Requirement already satisfied: torchvision>=0.9.0 in /usr/local/lib/python3.11/dist-packages (from ultralytics) (0.21.0+cu124)\n",
            "Requirement already satisfied: tqdm>=4.64.0 in /usr/local/lib/python3.11/dist-packages (from ultralytics) (4.67.1)\n",
            "Requirement already satisfied: psutil in /usr/local/lib/python3.11/dist-packages (from ultralytics) (5.9.5)\n",
            "Requirement already satisfied: py-cpuinfo in /usr/local/lib/python3.11/dist-packages (from ultralytics) (9.0.0)\n",
            "Requirement already satisfied: pandas>=1.1.4 in /usr/local/lib/python3.11/dist-packages (from ultralytics) (2.2.2)\n",
            "Collecting ultralytics-thop>=2.0.0 (from ultralytics)\n",
            "  Downloading ultralytics_thop-2.0.14-py3-none-any.whl.metadata (9.4 kB)\n",
            "Requirement already satisfied: contourpy>=1.0.1 in /usr/local/lib/python3.11/dist-packages (from matplotlib>=3.3.0->ultralytics) (1.3.2)\n",
            "Requirement already satisfied: cycler>=0.10 in /usr/local/lib/python3.11/dist-packages (from matplotlib>=3.3.0->ultralytics) (0.12.1)\n",
            "Requirement already satisfied: fonttools>=4.22.0 in /usr/local/lib/python3.11/dist-packages (from matplotlib>=3.3.0->ultralytics) (4.58.1)\n",
            "Requirement already satisfied: kiwisolver>=1.3.1 in /usr/local/lib/python3.11/dist-packages (from matplotlib>=3.3.0->ultralytics) (1.4.8)\n",
            "Requirement already satisfied: packaging>=20.0 in /usr/local/lib/python3.11/dist-packages (from matplotlib>=3.3.0->ultralytics) (24.2)\n",
            "Requirement already satisfied: pyparsing>=2.3.1 in /usr/local/lib/python3.11/dist-packages (from matplotlib>=3.3.0->ultralytics) (3.2.3)\n",
            "Requirement already satisfied: python-dateutil>=2.7 in /usr/local/lib/python3.11/dist-packages (from matplotlib>=3.3.0->ultralytics) (2.9.0.post0)\n",
            "Requirement already satisfied: pytz>=2020.1 in /usr/local/lib/python3.11/dist-packages (from pandas>=1.1.4->ultralytics) (2025.2)\n",
            "Requirement already satisfied: tzdata>=2022.7 in /usr/local/lib/python3.11/dist-packages (from pandas>=1.1.4->ultralytics) (2025.2)\n",
            "Requirement already satisfied: charset-normalizer<4,>=2 in /usr/local/lib/python3.11/dist-packages (from requests>=2.23.0->ultralytics) (3.4.2)\n",
            "Requirement already satisfied: idna<4,>=2.5 in /usr/local/lib/python3.11/dist-packages (from requests>=2.23.0->ultralytics) (3.10)\n",
            "Requirement already satisfied: urllib3<3,>=1.21.1 in /usr/local/lib/python3.11/dist-packages (from requests>=2.23.0->ultralytics) (2.4.0)\n",
            "Requirement already satisfied: certifi>=2017.4.17 in /usr/local/lib/python3.11/dist-packages (from requests>=2.23.0->ultralytics) (2025.4.26)\n",
            "Requirement already satisfied: filelock in /usr/local/lib/python3.11/dist-packages (from torch>=1.8.0->ultralytics) (3.18.0)\n",
            "Requirement already satisfied: typing-extensions>=4.10.0 in /usr/local/lib/python3.11/dist-packages (from torch>=1.8.0->ultralytics) (4.14.0)\n",
            "Requirement already satisfied: networkx in /usr/local/lib/python3.11/dist-packages (from torch>=1.8.0->ultralytics) (3.5)\n",
            "Requirement already satisfied: jinja2 in /usr/local/lib/python3.11/dist-packages (from torch>=1.8.0->ultralytics) (3.1.6)\n",
            "Requirement already satisfied: fsspec in /usr/local/lib/python3.11/dist-packages (from torch>=1.8.0->ultralytics) (2025.3.2)\n",
            "Collecting nvidia-cuda-nvrtc-cu12==12.4.127 (from torch>=1.8.0->ultralytics)\n",
            "  Downloading nvidia_cuda_nvrtc_cu12-12.4.127-py3-none-manylinux2014_x86_64.whl.metadata (1.5 kB)\n",
            "Collecting nvidia-cuda-runtime-cu12==12.4.127 (from torch>=1.8.0->ultralytics)\n",
            "  Downloading nvidia_cuda_runtime_cu12-12.4.127-py3-none-manylinux2014_x86_64.whl.metadata (1.5 kB)\n",
            "Collecting nvidia-cuda-cupti-cu12==12.4.127 (from torch>=1.8.0->ultralytics)\n",
            "  Downloading nvidia_cuda_cupti_cu12-12.4.127-py3-none-manylinux2014_x86_64.whl.metadata (1.6 kB)\n",
            "Collecting nvidia-cudnn-cu12==9.1.0.70 (from torch>=1.8.0->ultralytics)\n",
            "  Downloading nvidia_cudnn_cu12-9.1.0.70-py3-none-manylinux2014_x86_64.whl.metadata (1.6 kB)\n",
            "Collecting nvidia-cublas-cu12==12.4.5.8 (from torch>=1.8.0->ultralytics)\n",
            "  Downloading nvidia_cublas_cu12-12.4.5.8-py3-none-manylinux2014_x86_64.whl.metadata (1.5 kB)\n",
            "Collecting nvidia-cufft-cu12==11.2.1.3 (from torch>=1.8.0->ultralytics)\n",
            "  Downloading nvidia_cufft_cu12-11.2.1.3-py3-none-manylinux2014_x86_64.whl.metadata (1.5 kB)\n",
            "Collecting nvidia-curand-cu12==10.3.5.147 (from torch>=1.8.0->ultralytics)\n",
            "  Downloading nvidia_curand_cu12-10.3.5.147-py3-none-manylinux2014_x86_64.whl.metadata (1.5 kB)\n",
            "Collecting nvidia-cusolver-cu12==11.6.1.9 (from torch>=1.8.0->ultralytics)\n",
            "  Downloading nvidia_cusolver_cu12-11.6.1.9-py3-none-manylinux2014_x86_64.whl.metadata (1.6 kB)\n",
            "Collecting nvidia-cusparse-cu12==12.3.1.170 (from torch>=1.8.0->ultralytics)\n",
            "  Downloading nvidia_cusparse_cu12-12.3.1.170-py3-none-manylinux2014_x86_64.whl.metadata (1.6 kB)\n",
            "Requirement already satisfied: nvidia-cusparselt-cu12==0.6.2 in /usr/local/lib/python3.11/dist-packages (from torch>=1.8.0->ultralytics) (0.6.2)\n",
            "Requirement already satisfied: nvidia-nccl-cu12==2.21.5 in /usr/local/lib/python3.11/dist-packages (from torch>=1.8.0->ultralytics) (2.21.5)\n",
            "Requirement already satisfied: nvidia-nvtx-cu12==12.4.127 in /usr/local/lib/python3.11/dist-packages (from torch>=1.8.0->ultralytics) (12.4.127)\n",
            "Collecting nvidia-nvjitlink-cu12==12.4.127 (from torch>=1.8.0->ultralytics)\n",
            "  Downloading nvidia_nvjitlink_cu12-12.4.127-py3-none-manylinux2014_x86_64.whl.metadata (1.5 kB)\n",
            "Requirement already satisfied: triton==3.2.0 in /usr/local/lib/python3.11/dist-packages (from torch>=1.8.0->ultralytics) (3.2.0)\n",
            "Requirement already satisfied: sympy==1.13.1 in /usr/local/lib/python3.11/dist-packages (from torch>=1.8.0->ultralytics) (1.13.1)\n",
            "Requirement already satisfied: mpmath<1.4,>=1.1.0 in /usr/local/lib/python3.11/dist-packages (from sympy==1.13.1->torch>=1.8.0->ultralytics) (1.3.0)\n",
            "Requirement already satisfied: six>=1.5 in /usr/local/lib/python3.11/dist-packages (from python-dateutil>=2.7->matplotlib>=3.3.0->ultralytics) (1.17.0)\n",
            "Requirement already satisfied: MarkupSafe>=2.0 in /usr/local/lib/python3.11/dist-packages (from jinja2->torch>=1.8.0->ultralytics) (3.0.2)\n",
            "Downloading ultralytics-8.3.154-py3-none-any.whl (1.0 MB)\n",
            "\u001b[2K   \u001b[90m━━━━━━━━━━━━━━━━━━━━━━━━━━━━━━━━━━━━━━━━\u001b[0m \u001b[32m1.0/1.0 MB\u001b[0m \u001b[31m18.4 MB/s\u001b[0m eta \u001b[36m0:00:00\u001b[0m\n",
            "\u001b[?25hDownloading nvidia_cublas_cu12-12.4.5.8-py3-none-manylinux2014_x86_64.whl (363.4 MB)\n",
            "\u001b[2K   \u001b[90m━━━━━━━━━━━━━━━━━━━━━━━━━━━━━━━━━━━━━━━━\u001b[0m \u001b[32m363.4/363.4 MB\u001b[0m \u001b[31m3.1 MB/s\u001b[0m eta \u001b[36m0:00:00\u001b[0m\n",
            "\u001b[?25hDownloading nvidia_cuda_cupti_cu12-12.4.127-py3-none-manylinux2014_x86_64.whl (13.8 MB)\n",
            "\u001b[2K   \u001b[90m━━━━━━━━━━━━━━━━━━━━━━━━━━━━━━━━━━━━━━━━\u001b[0m \u001b[32m13.8/13.8 MB\u001b[0m \u001b[31m76.4 MB/s\u001b[0m eta \u001b[36m0:00:00\u001b[0m\n",
            "\u001b[?25hDownloading nvidia_cuda_nvrtc_cu12-12.4.127-py3-none-manylinux2014_x86_64.whl (24.6 MB)\n",
            "\u001b[2K   \u001b[90m━━━━━━━━━━━━━━━━━━━━━━━━━━━━━━━━━━━━━━━━\u001b[0m \u001b[32m24.6/24.6 MB\u001b[0m \u001b[31m88.4 MB/s\u001b[0m eta \u001b[36m0:00:00\u001b[0m\n",
            "\u001b[?25hDownloading nvidia_cuda_runtime_cu12-12.4.127-py3-none-manylinux2014_x86_64.whl (883 kB)\n",
            "\u001b[2K   \u001b[90m━━━━━━━━━━━━━━━━━━━━━━━━━━━━━━━━━━━━━━━━\u001b[0m \u001b[32m883.7/883.7 kB\u001b[0m \u001b[31m49.9 MB/s\u001b[0m eta \u001b[36m0:00:00\u001b[0m\n",
            "\u001b[?25hDownloading nvidia_cudnn_cu12-9.1.0.70-py3-none-manylinux2014_x86_64.whl (664.8 MB)\n",
            "\u001b[2K   \u001b[90m━━━━━━━━━━━━━━━━━━━━━━━━━━━━━━━━━━━━━━━━\u001b[0m \u001b[32m664.8/664.8 MB\u001b[0m \u001b[31m1.6 MB/s\u001b[0m eta \u001b[36m0:00:00\u001b[0m\n",
            "\u001b[?25hDownloading nvidia_cufft_cu12-11.2.1.3-py3-none-manylinux2014_x86_64.whl (211.5 MB)\n",
            "\u001b[2K   \u001b[90m━━━━━━━━━━━━━━━━━━━━━━━━━━━━━━━━━━━━━━━━\u001b[0m \u001b[32m211.5/211.5 MB\u001b[0m \u001b[31m11.4 MB/s\u001b[0m eta \u001b[36m0:00:00\u001b[0m\n",
            "\u001b[?25hDownloading nvidia_curand_cu12-10.3.5.147-py3-none-manylinux2014_x86_64.whl (56.3 MB)\n",
            "\u001b[2K   \u001b[90m━━━━━━━━━━━━━━━━━━━━━━━━━━━━━━━━━━━━━━━━\u001b[0m \u001b[32m56.3/56.3 MB\u001b[0m \u001b[31m41.8 MB/s\u001b[0m eta \u001b[36m0:00:00\u001b[0m\n",
            "\u001b[?25hDownloading nvidia_cusolver_cu12-11.6.1.9-py3-none-manylinux2014_x86_64.whl (127.9 MB)\n",
            "\u001b[2K   \u001b[90m━━━━━━━━━━━━━━━━━━━━━━━━━━━━━━━━━━━━━━━━\u001b[0m \u001b[32m127.9/127.9 MB\u001b[0m \u001b[31m19.0 MB/s\u001b[0m eta \u001b[36m0:00:00\u001b[0m\n",
            "\u001b[?25hDownloading nvidia_cusparse_cu12-12.3.1.170-py3-none-manylinux2014_x86_64.whl (207.5 MB)\n",
            "\u001b[2K   \u001b[90m━━━━━━━━━━━━━━━━━━━━━━━━━━━━━━━━━━━━━━━━\u001b[0m \u001b[32m207.5/207.5 MB\u001b[0m \u001b[31m4.9 MB/s\u001b[0m eta \u001b[36m0:00:00\u001b[0m\n",
            "\u001b[?25hDownloading nvidia_nvjitlink_cu12-12.4.127-py3-none-manylinux2014_x86_64.whl (21.1 MB)\n",
            "\u001b[2K   \u001b[90m━━━━━━━━━━━━━━━━━━━━━━━━━━━━━━━━━━━━━━━━\u001b[0m \u001b[32m21.1/21.1 MB\u001b[0m \u001b[31m107.5 MB/s\u001b[0m eta \u001b[36m0:00:00\u001b[0m\n",
            "\u001b[?25hDownloading ultralytics_thop-2.0.14-py3-none-any.whl (26 kB)\n",
            "Installing collected packages: nvidia-nvjitlink-cu12, nvidia-curand-cu12, nvidia-cufft-cu12, nvidia-cuda-runtime-cu12, nvidia-cuda-nvrtc-cu12, nvidia-cuda-cupti-cu12, nvidia-cublas-cu12, nvidia-cusparse-cu12, nvidia-cudnn-cu12, nvidia-cusolver-cu12, ultralytics-thop, ultralytics\n",
            "  Attempting uninstall: nvidia-nvjitlink-cu12\n",
            "    Found existing installation: nvidia-nvjitlink-cu12 12.5.82\n",
            "    Uninstalling nvidia-nvjitlink-cu12-12.5.82:\n",
            "      Successfully uninstalled nvidia-nvjitlink-cu12-12.5.82\n",
            "  Attempting uninstall: nvidia-curand-cu12\n",
            "    Found existing installation: nvidia-curand-cu12 10.3.6.82\n",
            "    Uninstalling nvidia-curand-cu12-10.3.6.82:\n",
            "      Successfully uninstalled nvidia-curand-cu12-10.3.6.82\n",
            "  Attempting uninstall: nvidia-cufft-cu12\n",
            "    Found existing installation: nvidia-cufft-cu12 11.2.3.61\n",
            "    Uninstalling nvidia-cufft-cu12-11.2.3.61:\n",
            "      Successfully uninstalled nvidia-cufft-cu12-11.2.3.61\n",
            "  Attempting uninstall: nvidia-cuda-runtime-cu12\n",
            "    Found existing installation: nvidia-cuda-runtime-cu12 12.5.82\n",
            "    Uninstalling nvidia-cuda-runtime-cu12-12.5.82:\n",
            "      Successfully uninstalled nvidia-cuda-runtime-cu12-12.5.82\n",
            "  Attempting uninstall: nvidia-cuda-nvrtc-cu12\n",
            "    Found existing installation: nvidia-cuda-nvrtc-cu12 12.5.82\n",
            "    Uninstalling nvidia-cuda-nvrtc-cu12-12.5.82:\n",
            "      Successfully uninstalled nvidia-cuda-nvrtc-cu12-12.5.82\n",
            "  Attempting uninstall: nvidia-cuda-cupti-cu12\n",
            "    Found existing installation: nvidia-cuda-cupti-cu12 12.5.82\n",
            "    Uninstalling nvidia-cuda-cupti-cu12-12.5.82:\n",
            "      Successfully uninstalled nvidia-cuda-cupti-cu12-12.5.82\n",
            "  Attempting uninstall: nvidia-cublas-cu12\n",
            "    Found existing installation: nvidia-cublas-cu12 12.5.3.2\n",
            "    Uninstalling nvidia-cublas-cu12-12.5.3.2:\n",
            "      Successfully uninstalled nvidia-cublas-cu12-12.5.3.2\n",
            "  Attempting uninstall: nvidia-cusparse-cu12\n",
            "    Found existing installation: nvidia-cusparse-cu12 12.5.1.3\n",
            "    Uninstalling nvidia-cusparse-cu12-12.5.1.3:\n",
            "      Successfully uninstalled nvidia-cusparse-cu12-12.5.1.3\n",
            "  Attempting uninstall: nvidia-cudnn-cu12\n",
            "    Found existing installation: nvidia-cudnn-cu12 9.3.0.75\n",
            "    Uninstalling nvidia-cudnn-cu12-9.3.0.75:\n",
            "      Successfully uninstalled nvidia-cudnn-cu12-9.3.0.75\n",
            "  Attempting uninstall: nvidia-cusolver-cu12\n",
            "    Found existing installation: nvidia-cusolver-cu12 11.6.3.83\n",
            "    Uninstalling nvidia-cusolver-cu12-11.6.3.83:\n",
            "      Successfully uninstalled nvidia-cusolver-cu12-11.6.3.83\n",
            "Successfully installed nvidia-cublas-cu12-12.4.5.8 nvidia-cuda-cupti-cu12-12.4.127 nvidia-cuda-nvrtc-cu12-12.4.127 nvidia-cuda-runtime-cu12-12.4.127 nvidia-cudnn-cu12-9.1.0.70 nvidia-cufft-cu12-11.2.1.3 nvidia-curand-cu12-10.3.5.147 nvidia-cusolver-cu12-11.6.1.9 nvidia-cusparse-cu12-12.3.1.170 nvidia-nvjitlink-cu12-12.4.127 ultralytics-8.3.154 ultralytics-thop-2.0.14\n",
            "Collecting roboflow\n",
            "  Downloading roboflow-1.1.66-py3-none-any.whl.metadata (9.7 kB)\n",
            "Requirement already satisfied: certifi in /usr/local/lib/python3.11/dist-packages (from roboflow) (2025.4.26)\n",
            "Collecting idna==3.7 (from roboflow)\n",
            "  Downloading idna-3.7-py3-none-any.whl.metadata (9.9 kB)\n",
            "Requirement already satisfied: cycler in /usr/local/lib/python3.11/dist-packages (from roboflow) (0.12.1)\n",
            "Requirement already satisfied: kiwisolver>=1.3.1 in /usr/local/lib/python3.11/dist-packages (from roboflow) (1.4.8)\n",
            "Requirement already satisfied: matplotlib in /usr/local/lib/python3.11/dist-packages (from roboflow) (3.10.0)\n",
            "Requirement already satisfied: numpy>=1.18.5 in /usr/local/lib/python3.11/dist-packages (from roboflow) (2.0.2)\n",
            "Collecting opencv-python-headless==4.10.0.84 (from roboflow)\n",
            "  Downloading opencv_python_headless-4.10.0.84-cp37-abi3-manylinux_2_17_x86_64.manylinux2014_x86_64.whl.metadata (20 kB)\n",
            "Requirement already satisfied: Pillow>=7.1.2 in /usr/local/lib/python3.11/dist-packages (from roboflow) (11.2.1)\n",
            "Collecting pillow-heif>=0.18.0 (from roboflow)\n",
            "  Downloading pillow_heif-0.22.0-cp311-cp311-manylinux_2_17_x86_64.manylinux2014_x86_64.whl.metadata (9.6 kB)\n",
            "Requirement already satisfied: python-dateutil in /usr/local/lib/python3.11/dist-packages (from roboflow) (2.9.0.post0)\n",
            "Collecting python-dotenv (from roboflow)\n",
            "  Downloading python_dotenv-1.1.0-py3-none-any.whl.metadata (24 kB)\n",
            "Requirement already satisfied: requests in /usr/local/lib/python3.11/dist-packages (from roboflow) (2.32.3)\n",
            "Requirement already satisfied: six in /usr/local/lib/python3.11/dist-packages (from roboflow) (1.17.0)\n",
            "Requirement already satisfied: urllib3>=1.26.6 in /usr/local/lib/python3.11/dist-packages (from roboflow) (2.4.0)\n",
            "Requirement already satisfied: tqdm>=4.41.0 in /usr/local/lib/python3.11/dist-packages (from roboflow) (4.67.1)\n",
            "Requirement already satisfied: PyYAML>=5.3.1 in /usr/local/lib/python3.11/dist-packages (from roboflow) (6.0.2)\n",
            "Requirement already satisfied: requests-toolbelt in /usr/local/lib/python3.11/dist-packages (from roboflow) (1.0.0)\n",
            "Collecting filetype (from roboflow)\n",
            "  Downloading filetype-1.2.0-py2.py3-none-any.whl.metadata (6.5 kB)\n",
            "Requirement already satisfied: contourpy>=1.0.1 in /usr/local/lib/python3.11/dist-packages (from matplotlib->roboflow) (1.3.2)\n",
            "Requirement already satisfied: fonttools>=4.22.0 in /usr/local/lib/python3.11/dist-packages (from matplotlib->roboflow) (4.58.1)\n",
            "Requirement already satisfied: packaging>=20.0 in /usr/local/lib/python3.11/dist-packages (from matplotlib->roboflow) (24.2)\n",
            "Requirement already satisfied: pyparsing>=2.3.1 in /usr/local/lib/python3.11/dist-packages (from matplotlib->roboflow) (3.2.3)\n",
            "Requirement already satisfied: charset-normalizer<4,>=2 in /usr/local/lib/python3.11/dist-packages (from requests->roboflow) (3.4.2)\n",
            "Downloading roboflow-1.1.66-py3-none-any.whl (86 kB)\n",
            "\u001b[2K   \u001b[90m━━━━━━━━━━━━━━━━━━━━━━━━━━━━━━━━━━━━━━━━\u001b[0m \u001b[32m86.7/86.7 kB\u001b[0m \u001b[31m4.4 MB/s\u001b[0m eta \u001b[36m0:00:00\u001b[0m\n",
            "\u001b[?25hDownloading idna-3.7-py3-none-any.whl (66 kB)\n",
            "\u001b[2K   \u001b[90m━━━━━━━━━━━━━━━━━━━━━━━━━━━━━━━━━━━━━━━━\u001b[0m \u001b[32m66.8/66.8 kB\u001b[0m \u001b[31m7.4 MB/s\u001b[0m eta \u001b[36m0:00:00\u001b[0m\n",
            "\u001b[?25hDownloading opencv_python_headless-4.10.0.84-cp37-abi3-manylinux_2_17_x86_64.manylinux2014_x86_64.whl (49.9 MB)\n",
            "\u001b[2K   \u001b[90m━━━━━━━━━━━━━━━━━━━━━━━━━━━━━━━━━━━━━━━━\u001b[0m \u001b[32m49.9/49.9 MB\u001b[0m \u001b[31m50.9 MB/s\u001b[0m eta \u001b[36m0:00:00\u001b[0m\n",
            "\u001b[?25hDownloading pillow_heif-0.22.0-cp311-cp311-manylinux_2_17_x86_64.manylinux2014_x86_64.whl (7.8 MB)\n",
            "\u001b[2K   \u001b[90m━━━━━━━━━━━━━━━━━━━━━━━━━━━━━━━━━━━━━━━━\u001b[0m \u001b[32m7.8/7.8 MB\u001b[0m \u001b[31m131.0 MB/s\u001b[0m eta \u001b[36m0:00:00\u001b[0m\n",
            "\u001b[?25hDownloading filetype-1.2.0-py2.py3-none-any.whl (19 kB)\n",
            "Downloading python_dotenv-1.1.0-py3-none-any.whl (20 kB)\n",
            "Installing collected packages: filetype, python-dotenv, pillow-heif, opencv-python-headless, idna, roboflow\n",
            "  Attempting uninstall: opencv-python-headless\n",
            "    Found existing installation: opencv-python-headless 4.11.0.86\n",
            "    Uninstalling opencv-python-headless-4.11.0.86:\n",
            "      Successfully uninstalled opencv-python-headless-4.11.0.86\n",
            "  Attempting uninstall: idna\n",
            "    Found existing installation: idna 3.10\n",
            "    Uninstalling idna-3.10:\n",
            "      Successfully uninstalled idna-3.10\n",
            "Successfully installed filetype-1.2.0 idna-3.7 opencv-python-headless-4.10.0.84 pillow-heif-0.22.0 python-dotenv-1.1.0 roboflow-1.1.66\n",
            "Creating new Ultralytics Settings v0.0.6 file ✅ \n",
            "View Ultralytics Settings with 'yolo settings' or at '/root/.config/Ultralytics/settings.json'\n",
            "Update Settings with 'yolo settings key=value', i.e. 'yolo settings runs_dir=path/to/dir'. For help see https://docs.ultralytics.com/quickstart/#ultralytics-settings.\n",
            "Using device: cuda\n"
          ]
        }
      ],
      "source": [
        "!pip install ultralytics\n",
        "!pip install roboflow\n",
        "from ultralytics import YOLO\n",
        "import torch\n",
        "\n",
        "# GPU 사용 여부 확인\n",
        "device = torch.device(\"cuda\" if torch.cuda.is_available() else \"cpu\")\n",
        "print(f\"Using device: {device}\")\n"
      ]
    },
    {
      "cell_type": "code",
      "source": [
        "from roboflow import Roboflow\n",
        "\n",
        "rf = Roboflow(api_key=\"hLMIJpOfgImloxX47aRn\")  # Roboflow API 키 입력\n",
        "\n",
        "# 입모양 데이터셋 다운로드\n",
        "project1 = rf.workspace(\"j1yeah\").project(\"mouth-detection-rk6s7-kvchr\")\n",
        "dataset1 = project1.version(\"2\").download(\"yolov8\")\n",
        "\n",
        "# 컵 데이터셋 다운로드\n",
        "project2 = rf.workspace(\"j1yeah\").project(\"cup-detection-w8kfb-plugl\")\n",
        "dataset2 = project2.version(\"2\").download(\"yolov8\")\n",
        "\n",
        "# 알약 데이터셋 다운로드\n",
        "project3 = rf.workspace(\"j1yeah\").project(\"medication-detection-sqdrf\")\n",
        "dataset3 = project3.version(\"2\").download(\"yolov8\")\n",
        "\n",
        "# 손 데이터셋 다운로드\n",
        "project4 = rf.workspace(\"j1yeah\").project(\"hands-detection-hknbq-srnzx\")\n",
        "dataset4 = project4.version(\"2\").download(\"yolov8\")"
      ],
      "metadata": {
        "id": "vceHPDyWHADF",
        "colab": {
          "base_uri": "https://localhost:8080/"
        },
        "outputId": "abda0255-6dbc-4740-efc7-fa6218a612f0"
      },
      "execution_count": null,
      "outputs": [
        {
          "output_type": "stream",
          "name": "stdout",
          "text": [
            "loading Roboflow workspace...\n",
            "loading Roboflow project...\n"
          ]
        },
        {
          "output_type": "stream",
          "name": "stderr",
          "text": [
            "Downloading Dataset Version Zip in Mouth-Detection-2 to yolov8:: 100%|██████████| 76250/76250 [00:00<00:00, 83023.08it/s]"
          ]
        },
        {
          "output_type": "stream",
          "name": "stdout",
          "text": [
            "\n"
          ]
        },
        {
          "output_type": "stream",
          "name": "stderr",
          "text": [
            "\n",
            "Extracting Dataset Version Zip to Mouth-Detection-2 in yolov8:: 100%|██████████| 2772/2772 [00:00<00:00, 7553.91it/s]"
          ]
        },
        {
          "output_type": "stream",
          "name": "stdout",
          "text": [
            "\rloading Roboflow workspace...\n"
          ]
        },
        {
          "output_type": "stream",
          "name": "stderr",
          "text": [
            "\n"
          ]
        },
        {
          "output_type": "stream",
          "name": "stdout",
          "text": [
            "\rloading Roboflow project...\n"
          ]
        },
        {
          "output_type": "stream",
          "name": "stderr",
          "text": [
            "Downloading Dataset Version Zip in cup-detection-2 to yolov8:: 100%|██████████| 53290/53290 [00:00<00:00, 67974.57it/s]"
          ]
        },
        {
          "output_type": "stream",
          "name": "stdout",
          "text": [
            "\n"
          ]
        },
        {
          "output_type": "stream",
          "name": "stderr",
          "text": [
            "\n",
            "Extracting Dataset Version Zip to cup-detection-2 in yolov8:: 100%|██████████| 1600/1600 [00:00<00:00, 6857.77it/s]"
          ]
        },
        {
          "output_type": "stream",
          "name": "stdout",
          "text": [
            "\rloading Roboflow workspace...\n"
          ]
        },
        {
          "output_type": "stream",
          "name": "stderr",
          "text": [
            "\n"
          ]
        },
        {
          "output_type": "stream",
          "name": "stdout",
          "text": [
            "\rloading Roboflow project...\n"
          ]
        },
        {
          "output_type": "stream",
          "name": "stderr",
          "text": [
            "Downloading Dataset Version Zip in Medication-Detection-2 to yolov8:: 100%|██████████| 185472/185472 [00:02<00:00, 79644.73it/s]"
          ]
        },
        {
          "output_type": "stream",
          "name": "stdout",
          "text": [
            "\n"
          ]
        },
        {
          "output_type": "stream",
          "name": "stderr",
          "text": [
            "\n",
            "Extracting Dataset Version Zip to Medication-Detection-2 in yolov8:: 100%|██████████| 3768/3768 [00:00<00:00, 5675.44it/s]\n"
          ]
        },
        {
          "output_type": "stream",
          "name": "stdout",
          "text": [
            "loading Roboflow workspace...\n",
            "loading Roboflow project...\n"
          ]
        },
        {
          "output_type": "stream",
          "name": "stderr",
          "text": [
            "Downloading Dataset Version Zip in Hands-Detection-2 to yolov8:: 100%|██████████| 56011/56011 [00:00<00:00, 66301.70it/s]"
          ]
        },
        {
          "output_type": "stream",
          "name": "stdout",
          "text": [
            "\n"
          ]
        },
        {
          "output_type": "stream",
          "name": "stderr",
          "text": [
            "\n",
            "Extracting Dataset Version Zip to Hands-Detection-2 in yolov8:: 100%|██████████| 1850/1850 [00:00<00:00, 7222.73it/s]\n"
          ]
        }
      ]
    },
    {
      "cell_type": "code",
      "source": [
        "import os\n",
        "print(\"📁 현재 Colab 내 파일 구조:\")\n",
        "for root, dirs, files in os.walk(\"/content\"):\n",
        "    print(root)\n"
      ],
      "metadata": {
        "id": "7VGv8E8KHAFK",
        "colab": {
          "base_uri": "https://localhost:8080/"
        },
        "outputId": "f6526dee-8bd9-4df4-c7c4-7483096adae1"
      },
      "execution_count": null,
      "outputs": [
        {
          "output_type": "stream",
          "name": "stdout",
          "text": [
            "📁 현재 Colab 내 파일 구조:\n",
            "/content\n",
            "/content/.config\n",
            "/content/.config/logs\n",
            "/content/.config/logs/2025.06.11\n",
            "/content/.config/configurations\n",
            "/content/cup-detection-2\n",
            "/content/cup-detection-2/train\n",
            "/content/cup-detection-2/train/images\n",
            "/content/cup-detection-2/train/labels\n",
            "/content/cup-detection-2/valid\n",
            "/content/cup-detection-2/valid/images\n",
            "/content/cup-detection-2/valid/labels\n",
            "/content/cup-detection-2/test\n",
            "/content/cup-detection-2/test/images\n",
            "/content/cup-detection-2/test/labels\n",
            "/content/Mouth-Detection-2\n",
            "/content/Mouth-Detection-2/train\n",
            "/content/Mouth-Detection-2/train/images\n",
            "/content/Mouth-Detection-2/train/labels\n",
            "/content/Mouth-Detection-2/valid\n",
            "/content/Mouth-Detection-2/valid/images\n",
            "/content/Mouth-Detection-2/valid/labels\n",
            "/content/Mouth-Detection-2/test\n",
            "/content/Mouth-Detection-2/test/images\n",
            "/content/Mouth-Detection-2/test/labels\n",
            "/content/Hands-Detection-2\n",
            "/content/Hands-Detection-2/train\n",
            "/content/Hands-Detection-2/train/images\n",
            "/content/Hands-Detection-2/train/labels\n",
            "/content/Hands-Detection-2/valid\n",
            "/content/Hands-Detection-2/valid/images\n",
            "/content/Hands-Detection-2/valid/labels\n",
            "/content/Hands-Detection-2/test\n",
            "/content/Hands-Detection-2/test/images\n",
            "/content/Hands-Detection-2/test/labels\n",
            "/content/Medication-Detection-2\n",
            "/content/Medication-Detection-2/train\n",
            "/content/Medication-Detection-2/train/images\n",
            "/content/Medication-Detection-2/train/labels\n",
            "/content/Medication-Detection-2/valid\n",
            "/content/Medication-Detection-2/valid/images\n",
            "/content/Medication-Detection-2/valid/labels\n",
            "/content/Medication-Detection-2/test\n",
            "/content/Medication-Detection-2/test/images\n",
            "/content/Medication-Detection-2/test/labels\n",
            "/content/sample_data\n"
          ]
        }
      ]
    },
    {
      "cell_type": "code",
      "source": [
        "import os\n",
        "\n",
        "# (원본 폴더, 새 클래스 인덱스)\n",
        "datasets_to_update = [\n",
        "    (\"/content/Mouth-Detection-2\", 0),\n",
        "    (\"/content/cup-detection-2\", 1),\n",
        "    (\"/content/Medication-Detection-2\", 2),\n",
        "    (\"/content/Hands-Detection-2\", 3),\n",
        "]\n",
        "\n",
        "def update_labels(dataset_path, new_index):\n",
        "    for split in [\"train\", \"valid\", \"test\"]:\n",
        "        label_dir = os.path.join(dataset_path, split, \"labels\")\n",
        "        if not os.path.exists(label_dir):\n",
        "            continue\n",
        "        for filename in os.listdir(label_dir):\n",
        "            file_path = os.path.join(label_dir, filename)\n",
        "            with open(file_path, \"r\") as f:\n",
        "                lines = f.readlines()\n",
        "\n",
        "            updated_lines = []\n",
        "            for line in lines:\n",
        "                parts = line.strip().split()\n",
        "                if len(parts) >= 5:\n",
        "                    parts[0] = str(new_index)\n",
        "                    updated_lines.append(\" \".join(parts))\n",
        "\n",
        "            with open(file_path, \"w\") as f:\n",
        "                f.write(\"\\n\".join(updated_lines))\n",
        "\n",
        "# 라벨 인덱스 재정렬 실행\n",
        "for path, new_index in datasets_to_update:\n",
        "    update_labels(path, new_index)\n",
        "\n",
        "print(\"✅ 라벨 인덱스 재정렬 완료\")"
      ],
      "metadata": {
        "id": "AKY-MGeHHAHc",
        "colab": {
          "base_uri": "https://localhost:8080/"
        },
        "outputId": "c421e10f-3b1f-4cbf-c8e3-ed682cf59cc0"
      },
      "execution_count": null,
      "outputs": [
        {
          "output_type": "stream",
          "name": "stdout",
          "text": [
            "✅ 라벨 인덱스 재정렬 완료\n"
          ]
        }
      ]
    },
    {
      "cell_type": "code",
      "source": [
        "import os\n",
        "import shutil\n",
        "from collections import Counter\n",
        "\n",
        "# 데이터셋 폴더 목록\n",
        "dataset_folders = [\n",
        "    \"/content/Medication-Detection-2\",\n",
        "    \"/content/Hands-Detection-2\",\n",
        "    \"/content/Mouth-Detection-2\",\n",
        "    \"/content/cup-detection-2\"\n",
        "]\n",
        "\n",
        "# 합쳐질 데이터셋 폴더 생성\n",
        "combined_dataset_path = \"/content/dataset_combined\"\n",
        "os.makedirs(combined_dataset_path, exist_ok=True)\n",
        "\n",
        "# 기존 병합 폴더 삭제 후 새로 생성\n",
        "if os.path.exists(combined_dataset_path):\n",
        "    shutil.rmtree(combined_dataset_path)\n",
        "\n",
        "# train, valid, test 폴더 생성\n",
        "for split in [\"train\", \"valid\", \"test\"]:\n",
        "    os.makedirs(os.path.join(combined_dataset_path, split, \"images\"), exist_ok=True)\n",
        "    os.makedirs(os.path.join(combined_dataset_path, split, \"labels\"), exist_ok=True)\n",
        "\n",
        "# 데이터 복사 함수\n",
        "def merge_datasets(source_folder, target_folder):\n",
        "    for split in [\"train\", \"valid\", \"test\"]:\n",
        "        for category in [\"images\", \"labels\"]:\n",
        "            src_path = os.path.join(source_folder, split, category)\n",
        "            dst_path = os.path.join(target_folder, split, category)\n",
        "\n",
        "            if os.path.exists(src_path):  # 폴더가 존재하는 경우만 복사\n",
        "                for file in os.listdir(src_path):\n",
        "                    # ✅ 이미지일 경우만 복사\n",
        "                    if category == \"images\" and not file.lower().endswith((\".jpg\", \".jpeg\", \".png\")):\n",
        "                        continue\n",
        "                    shutil.copy(os.path.join(src_path, file), dst_path)\n",
        "\n",
        "# 각 데이터셋을 합치기\n",
        "for dataset in dataset_folders:\n",
        "    merge_datasets(dataset, combined_dataset_path)\n",
        "\n",
        "print(\"✅ 모든 데이터셋이 dataset_combined 폴더에 합쳐졌습니다!\")\n"
      ],
      "metadata": {
        "id": "0mAR8jlEHAJt",
        "colab": {
          "base_uri": "https://localhost:8080/"
        },
        "outputId": "64977573-b856-4e54-bf72-0fbc038643f1"
      },
      "execution_count": null,
      "outputs": [
        {
          "output_type": "stream",
          "name": "stdout",
          "text": [
            "✅ 모든 데이터셋이 dataset_combined 폴더에 합쳐졌습니다!\n"
          ]
        }
      ]
    },
    {
      "cell_type": "code",
      "source": [
        "import os\n",
        "import random\n",
        "from collections import defaultdict\n",
        "\n",
        "label_dir = \"/content/dataset_combined/train/labels\"\n",
        "target_class = \"2\"  # pill\n",
        "keep_limit = 6850\n",
        "pill_lines_all = []\n",
        "\n",
        "# 1️⃣ pill 라벨 라인 수집 (파일 기준으로 모음)\n",
        "file_to_line_idxs = defaultdict(list)\n",
        "\n",
        "for file in os.listdir(label_dir):\n",
        "    path = os.path.join(label_dir, file)\n",
        "    with open(path, \"r\") as f:\n",
        "        lines = f.readlines()\n",
        "    for i, line in enumerate(lines):\n",
        "        if line.startswith(f\"{target_class} \"):\n",
        "            file_to_line_idxs[file].append(i)\n",
        "            pill_lines_all.append((file, i))\n",
        "\n",
        "# 2️⃣ 무작위 셔플 후 초과분 선택\n",
        "random.shuffle(pill_lines_all)\n",
        "to_remove = pill_lines_all[keep_limit:]\n",
        "\n",
        "# 3️⃣ 삭제할 인덱스 다시 파일별로 정리\n",
        "remove_map = defaultdict(list)\n",
        "for file, idx in to_remove:\n",
        "    remove_map[file].append(idx)\n",
        "\n",
        "# 4️⃣ 파일 단위로 라벨 삭제\n",
        "for file, idxs in remove_map.items():\n",
        "    path = os.path.join(label_dir, file)\n",
        "    with open(path, \"r\") as f:\n",
        "        lines = f.readlines()\n",
        "\n",
        "    # 인덱스 정렬 후 뒤에서부터 제거\n",
        "    for i in sorted(idxs, reverse=True):\n",
        "        if i < len(lines):\n",
        "            del lines[i]\n",
        "\n",
        "    with open(path, \"w\") as f:\n",
        "        f.writelines(lines)\n",
        "\n",
        "print(f\"✅ pill 객체를 {keep_limit}개로 정확히 줄였습니다.\")\n"
      ],
      "metadata": {
        "id": "yw5HM6RCHAL4",
        "colab": {
          "base_uri": "https://localhost:8080/"
        },
        "outputId": "91ece7e6-44be-4c97-cbd2-e6b40acb7967"
      },
      "execution_count": null,
      "outputs": [
        {
          "output_type": "stream",
          "name": "stdout",
          "text": [
            "✅ pill 객체를 6850개로 정확히 줄였습니다.\n"
          ]
        }
      ]
    },
    {
      "cell_type": "code",
      "source": [
        "import os\n",
        "from PIL import Image, ImageEnhance\n",
        "import random\n",
        "from collections import Counter\n",
        "import pandas as pd\n",
        "from IPython.display import display  # Colab에서 보기 좋게 출력용\n",
        "\n",
        "# 증강 개수 설정\n",
        "aug_count = 3\n",
        "combined_dataset_path = \"/content/dataset_combined\"\n",
        "target_classes = [\"hand\", \"mouth\", \"cup\"]\n",
        "class_map = {\"mouth\": 0, \"cup\": 1, \"pill\": 2, \"hand\": 3}\n",
        "image_dir = os.path.join(combined_dataset_path, \"train\", \"images\")\n",
        "label_dir = os.path.join(combined_dataset_path, \"train\", \"labels\")\n",
        "\n",
        "# 이미지 증강 함수\n",
        "def augment_image(img_path, output_path, base_name, count=3):\n",
        "    image = Image.open(img_path)\n",
        "    for i in range(count):\n",
        "        augmented = image.copy()\n",
        "        if random.random() < 0.5:\n",
        "            augmented = augmented.rotate(random.randint(-8, 8))\n",
        "        if random.random() < 0.5:\n",
        "            enhancer = ImageEnhance.Brightness(augmented)\n",
        "            augmented = enhancer.enhance(random.uniform(0.9, 1.1))\n",
        "        new_name = f\"{base_name}_aug{i}.jpg\"\n",
        "        augmented.save(os.path.join(output_path, new_name))\n",
        "\n",
        "# 라벨 복사 함수\n",
        "def copy_label_file(label_path, output_path, base_name, count=3):\n",
        "    with open(label_path, \"r\") as f:\n",
        "        label_data = f.read()\n",
        "    for i in range(count):\n",
        "        new_name = f\"{base_name}_aug{i}.txt\"\n",
        "        with open(os.path.join(output_path, new_name), \"w\") as f:\n",
        "            f.write(label_data)\n",
        "\n",
        "# 증강 수행\n",
        "augmented_count = {c: 0 for c in target_classes}\n",
        "image_extensions = [\".jpg\", \".jpeg\", \".png\"]\n",
        "\n",
        "if os.path.exists(label_dir):\n",
        "    for file in os.listdir(label_dir):\n",
        "        label_path = os.path.join(label_dir, file)\n",
        "        base_name = os.path.splitext(file)[0]\n",
        "        with open(label_path) as f:\n",
        "            class_ids = [int(line.split()[0]) for line in f.read().strip().splitlines()]\n",
        "            for cls_name in target_classes:\n",
        "                if class_map[cls_name] in class_ids:\n",
        "                    found_image = None\n",
        "                    for ext in image_extensions:\n",
        "                        img_path = os.path.join(image_dir, base_name + ext)\n",
        "                        if os.path.exists(img_path):\n",
        "                            found_image = img_path\n",
        "                            break\n",
        "                    if found_image:\n",
        "                        augment_image(found_image, image_dir, base_name, count=aug_count)\n",
        "                        copy_label_file(label_path, label_dir, base_name, count=aug_count)\n",
        "                        augmented_count[cls_name] += aug_count\n",
        "                    break\n",
        "\n",
        "# 증강 결과 시각화\n",
        "augmented_count_df = pd.DataFrame(list(augmented_count.items()), columns=[\"Class\", \"Augmented Count\"])\n",
        "display(augmented_count_df)  # Colab에서 예쁘게 출력됨"
      ],
      "metadata": {
        "id": "O0vNhUcfG-QI",
        "colab": {
          "base_uri": "https://localhost:8080/",
          "height": 143
        },
        "outputId": "e373af20-0898-4bb0-bdfb-d530baa63a72"
      },
      "execution_count": null,
      "outputs": [
        {
          "output_type": "display_data",
          "data": {
            "text/plain": [
              "   Class  Augmented Count\n",
              "0   hand             1698\n",
              "1  mouth             3285\n",
              "2    cup             1965"
            ],
            "text/html": [
              "\n",
              "  <div id=\"df-024f6c03-8d61-4648-aa9c-40ec1cb16fbc\" class=\"colab-df-container\">\n",
              "    <div>\n",
              "<style scoped>\n",
              "    .dataframe tbody tr th:only-of-type {\n",
              "        vertical-align: middle;\n",
              "    }\n",
              "\n",
              "    .dataframe tbody tr th {\n",
              "        vertical-align: top;\n",
              "    }\n",
              "\n",
              "    .dataframe thead th {\n",
              "        text-align: right;\n",
              "    }\n",
              "</style>\n",
              "<table border=\"1\" class=\"dataframe\">\n",
              "  <thead>\n",
              "    <tr style=\"text-align: right;\">\n",
              "      <th></th>\n",
              "      <th>Class</th>\n",
              "      <th>Augmented Count</th>\n",
              "    </tr>\n",
              "  </thead>\n",
              "  <tbody>\n",
              "    <tr>\n",
              "      <th>0</th>\n",
              "      <td>hand</td>\n",
              "      <td>1698</td>\n",
              "    </tr>\n",
              "    <tr>\n",
              "      <th>1</th>\n",
              "      <td>mouth</td>\n",
              "      <td>3285</td>\n",
              "    </tr>\n",
              "    <tr>\n",
              "      <th>2</th>\n",
              "      <td>cup</td>\n",
              "      <td>1965</td>\n",
              "    </tr>\n",
              "  </tbody>\n",
              "</table>\n",
              "</div>\n",
              "    <div class=\"colab-df-buttons\">\n",
              "\n",
              "  <div class=\"colab-df-container\">\n",
              "    <button class=\"colab-df-convert\" onclick=\"convertToInteractive('df-024f6c03-8d61-4648-aa9c-40ec1cb16fbc')\"\n",
              "            title=\"Convert this dataframe to an interactive table.\"\n",
              "            style=\"display:none;\">\n",
              "\n",
              "  <svg xmlns=\"http://www.w3.org/2000/svg\" height=\"24px\" viewBox=\"0 -960 960 960\">\n",
              "    <path d=\"M120-120v-720h720v720H120Zm60-500h600v-160H180v160Zm220 220h160v-160H400v160Zm0 220h160v-160H400v160ZM180-400h160v-160H180v160Zm440 0h160v-160H620v160ZM180-180h160v-160H180v160Zm440 0h160v-160H620v160Z\"/>\n",
              "  </svg>\n",
              "    </button>\n",
              "\n",
              "  <style>\n",
              "    .colab-df-container {\n",
              "      display:flex;\n",
              "      gap: 12px;\n",
              "    }\n",
              "\n",
              "    .colab-df-convert {\n",
              "      background-color: #E8F0FE;\n",
              "      border: none;\n",
              "      border-radius: 50%;\n",
              "      cursor: pointer;\n",
              "      display: none;\n",
              "      fill: #1967D2;\n",
              "      height: 32px;\n",
              "      padding: 0 0 0 0;\n",
              "      width: 32px;\n",
              "    }\n",
              "\n",
              "    .colab-df-convert:hover {\n",
              "      background-color: #E2EBFA;\n",
              "      box-shadow: 0px 1px 2px rgba(60, 64, 67, 0.3), 0px 1px 3px 1px rgba(60, 64, 67, 0.15);\n",
              "      fill: #174EA6;\n",
              "    }\n",
              "\n",
              "    .colab-df-buttons div {\n",
              "      margin-bottom: 4px;\n",
              "    }\n",
              "\n",
              "    [theme=dark] .colab-df-convert {\n",
              "      background-color: #3B4455;\n",
              "      fill: #D2E3FC;\n",
              "    }\n",
              "\n",
              "    [theme=dark] .colab-df-convert:hover {\n",
              "      background-color: #434B5C;\n",
              "      box-shadow: 0px 1px 3px 1px rgba(0, 0, 0, 0.15);\n",
              "      filter: drop-shadow(0px 1px 2px rgba(0, 0, 0, 0.3));\n",
              "      fill: #FFFFFF;\n",
              "    }\n",
              "  </style>\n",
              "\n",
              "    <script>\n",
              "      const buttonEl =\n",
              "        document.querySelector('#df-024f6c03-8d61-4648-aa9c-40ec1cb16fbc button.colab-df-convert');\n",
              "      buttonEl.style.display =\n",
              "        google.colab.kernel.accessAllowed ? 'block' : 'none';\n",
              "\n",
              "      async function convertToInteractive(key) {\n",
              "        const element = document.querySelector('#df-024f6c03-8d61-4648-aa9c-40ec1cb16fbc');\n",
              "        const dataTable =\n",
              "          await google.colab.kernel.invokeFunction('convertToInteractive',\n",
              "                                                    [key], {});\n",
              "        if (!dataTable) return;\n",
              "\n",
              "        const docLinkHtml = 'Like what you see? Visit the ' +\n",
              "          '<a target=\"_blank\" href=https://colab.research.google.com/notebooks/data_table.ipynb>data table notebook</a>'\n",
              "          + ' to learn more about interactive tables.';\n",
              "        element.innerHTML = '';\n",
              "        dataTable['output_type'] = 'display_data';\n",
              "        await google.colab.output.renderOutput(dataTable, element);\n",
              "        const docLink = document.createElement('div');\n",
              "        docLink.innerHTML = docLinkHtml;\n",
              "        element.appendChild(docLink);\n",
              "      }\n",
              "    </script>\n",
              "  </div>\n",
              "\n",
              "\n",
              "    <div id=\"df-ff04c81c-5f2b-430d-8477-67858046ba3a\">\n",
              "      <button class=\"colab-df-quickchart\" onclick=\"quickchart('df-ff04c81c-5f2b-430d-8477-67858046ba3a')\"\n",
              "                title=\"Suggest charts\"\n",
              "                style=\"display:none;\">\n",
              "\n",
              "<svg xmlns=\"http://www.w3.org/2000/svg\" height=\"24px\"viewBox=\"0 0 24 24\"\n",
              "     width=\"24px\">\n",
              "    <g>\n",
              "        <path d=\"M19 3H5c-1.1 0-2 .9-2 2v14c0 1.1.9 2 2 2h14c1.1 0 2-.9 2-2V5c0-1.1-.9-2-2-2zM9 17H7v-7h2v7zm4 0h-2V7h2v10zm4 0h-2v-4h2v4z\"/>\n",
              "    </g>\n",
              "</svg>\n",
              "      </button>\n",
              "\n",
              "<style>\n",
              "  .colab-df-quickchart {\n",
              "      --bg-color: #E8F0FE;\n",
              "      --fill-color: #1967D2;\n",
              "      --hover-bg-color: #E2EBFA;\n",
              "      --hover-fill-color: #174EA6;\n",
              "      --disabled-fill-color: #AAA;\n",
              "      --disabled-bg-color: #DDD;\n",
              "  }\n",
              "\n",
              "  [theme=dark] .colab-df-quickchart {\n",
              "      --bg-color: #3B4455;\n",
              "      --fill-color: #D2E3FC;\n",
              "      --hover-bg-color: #434B5C;\n",
              "      --hover-fill-color: #FFFFFF;\n",
              "      --disabled-bg-color: #3B4455;\n",
              "      --disabled-fill-color: #666;\n",
              "  }\n",
              "\n",
              "  .colab-df-quickchart {\n",
              "    background-color: var(--bg-color);\n",
              "    border: none;\n",
              "    border-radius: 50%;\n",
              "    cursor: pointer;\n",
              "    display: none;\n",
              "    fill: var(--fill-color);\n",
              "    height: 32px;\n",
              "    padding: 0;\n",
              "    width: 32px;\n",
              "  }\n",
              "\n",
              "  .colab-df-quickchart:hover {\n",
              "    background-color: var(--hover-bg-color);\n",
              "    box-shadow: 0 1px 2px rgba(60, 64, 67, 0.3), 0 1px 3px 1px rgba(60, 64, 67, 0.15);\n",
              "    fill: var(--button-hover-fill-color);\n",
              "  }\n",
              "\n",
              "  .colab-df-quickchart-complete:disabled,\n",
              "  .colab-df-quickchart-complete:disabled:hover {\n",
              "    background-color: var(--disabled-bg-color);\n",
              "    fill: var(--disabled-fill-color);\n",
              "    box-shadow: none;\n",
              "  }\n",
              "\n",
              "  .colab-df-spinner {\n",
              "    border: 2px solid var(--fill-color);\n",
              "    border-color: transparent;\n",
              "    border-bottom-color: var(--fill-color);\n",
              "    animation:\n",
              "      spin 1s steps(1) infinite;\n",
              "  }\n",
              "\n",
              "  @keyframes spin {\n",
              "    0% {\n",
              "      border-color: transparent;\n",
              "      border-bottom-color: var(--fill-color);\n",
              "      border-left-color: var(--fill-color);\n",
              "    }\n",
              "    20% {\n",
              "      border-color: transparent;\n",
              "      border-left-color: var(--fill-color);\n",
              "      border-top-color: var(--fill-color);\n",
              "    }\n",
              "    30% {\n",
              "      border-color: transparent;\n",
              "      border-left-color: var(--fill-color);\n",
              "      border-top-color: var(--fill-color);\n",
              "      border-right-color: var(--fill-color);\n",
              "    }\n",
              "    40% {\n",
              "      border-color: transparent;\n",
              "      border-right-color: var(--fill-color);\n",
              "      border-top-color: var(--fill-color);\n",
              "    }\n",
              "    60% {\n",
              "      border-color: transparent;\n",
              "      border-right-color: var(--fill-color);\n",
              "    }\n",
              "    80% {\n",
              "      border-color: transparent;\n",
              "      border-right-color: var(--fill-color);\n",
              "      border-bottom-color: var(--fill-color);\n",
              "    }\n",
              "    90% {\n",
              "      border-color: transparent;\n",
              "      border-bottom-color: var(--fill-color);\n",
              "    }\n",
              "  }\n",
              "</style>\n",
              "\n",
              "      <script>\n",
              "        async function quickchart(key) {\n",
              "          const quickchartButtonEl =\n",
              "            document.querySelector('#' + key + ' button');\n",
              "          quickchartButtonEl.disabled = true;  // To prevent multiple clicks.\n",
              "          quickchartButtonEl.classList.add('colab-df-spinner');\n",
              "          try {\n",
              "            const charts = await google.colab.kernel.invokeFunction(\n",
              "                'suggestCharts', [key], {});\n",
              "          } catch (error) {\n",
              "            console.error('Error during call to suggestCharts:', error);\n",
              "          }\n",
              "          quickchartButtonEl.classList.remove('colab-df-spinner');\n",
              "          quickchartButtonEl.classList.add('colab-df-quickchart-complete');\n",
              "        }\n",
              "        (() => {\n",
              "          let quickchartButtonEl =\n",
              "            document.querySelector('#df-ff04c81c-5f2b-430d-8477-67858046ba3a button');\n",
              "          quickchartButtonEl.style.display =\n",
              "            google.colab.kernel.accessAllowed ? 'block' : 'none';\n",
              "        })();\n",
              "      </script>\n",
              "    </div>\n",
              "\n",
              "  <div id=\"id_59515093-3065-46f3-b04b-96785ba5868c\">\n",
              "    <style>\n",
              "      .colab-df-generate {\n",
              "        background-color: #E8F0FE;\n",
              "        border: none;\n",
              "        border-radius: 50%;\n",
              "        cursor: pointer;\n",
              "        display: none;\n",
              "        fill: #1967D2;\n",
              "        height: 32px;\n",
              "        padding: 0 0 0 0;\n",
              "        width: 32px;\n",
              "      }\n",
              "\n",
              "      .colab-df-generate:hover {\n",
              "        background-color: #E2EBFA;\n",
              "        box-shadow: 0px 1px 2px rgba(60, 64, 67, 0.3), 0px 1px 3px 1px rgba(60, 64, 67, 0.15);\n",
              "        fill: #174EA6;\n",
              "      }\n",
              "\n",
              "      [theme=dark] .colab-df-generate {\n",
              "        background-color: #3B4455;\n",
              "        fill: #D2E3FC;\n",
              "      }\n",
              "\n",
              "      [theme=dark] .colab-df-generate:hover {\n",
              "        background-color: #434B5C;\n",
              "        box-shadow: 0px 1px 3px 1px rgba(0, 0, 0, 0.15);\n",
              "        filter: drop-shadow(0px 1px 2px rgba(0, 0, 0, 0.3));\n",
              "        fill: #FFFFFF;\n",
              "      }\n",
              "    </style>\n",
              "    <button class=\"colab-df-generate\" onclick=\"generateWithVariable('augmented_count_df')\"\n",
              "            title=\"Generate code using this dataframe.\"\n",
              "            style=\"display:none;\">\n",
              "\n",
              "  <svg xmlns=\"http://www.w3.org/2000/svg\" height=\"24px\"viewBox=\"0 0 24 24\"\n",
              "       width=\"24px\">\n",
              "    <path d=\"M7,19H8.4L18.45,9,17,7.55,7,17.6ZM5,21V16.75L18.45,3.32a2,2,0,0,1,2.83,0l1.4,1.43a1.91,1.91,0,0,1,.58,1.4,1.91,1.91,0,0,1-.58,1.4L9.25,21ZM18.45,9,17,7.55Zm-12,3A5.31,5.31,0,0,0,4.9,8.1,5.31,5.31,0,0,0,1,6.5,5.31,5.31,0,0,0,4.9,4.9,5.31,5.31,0,0,0,6.5,1,5.31,5.31,0,0,0,8.1,4.9,5.31,5.31,0,0,0,12,6.5,5.46,5.46,0,0,0,6.5,12Z\"/>\n",
              "  </svg>\n",
              "    </button>\n",
              "    <script>\n",
              "      (() => {\n",
              "      const buttonEl =\n",
              "        document.querySelector('#id_59515093-3065-46f3-b04b-96785ba5868c button.colab-df-generate');\n",
              "      buttonEl.style.display =\n",
              "        google.colab.kernel.accessAllowed ? 'block' : 'none';\n",
              "\n",
              "      buttonEl.onclick = () => {\n",
              "        google.colab.notebook.generateWithVariable('augmented_count_df');\n",
              "      }\n",
              "      })();\n",
              "    </script>\n",
              "  </div>\n",
              "\n",
              "    </div>\n",
              "  </div>\n"
            ],
            "application/vnd.google.colaboratory.intrinsic+json": {
              "type": "dataframe",
              "variable_name": "augmented_count_df",
              "summary": "{\n  \"name\": \"augmented_count_df\",\n  \"rows\": 3,\n  \"fields\": [\n    {\n      \"column\": \"Class\",\n      \"properties\": {\n        \"dtype\": \"string\",\n        \"num_unique_values\": 3,\n        \"samples\": [\n          \"hand\",\n          \"mouth\",\n          \"cup\"\n        ],\n        \"semantic_type\": \"\",\n        \"description\": \"\"\n      }\n    },\n    {\n      \"column\": \"Augmented Count\",\n      \"properties\": {\n        \"dtype\": \"number\",\n        \"std\": 849,\n        \"min\": 1698,\n        \"max\": 3285,\n        \"num_unique_values\": 3,\n        \"samples\": [\n          1698,\n          3285,\n          1965\n        ],\n        \"semantic_type\": \"\",\n        \"description\": \"\"\n      }\n    }\n  ]\n}"
            }
          },
          "metadata": {}
        }
      ]
    },
    {
      "cell_type": "code",
      "source": [
        "import os\n",
        "from collections import Counter\n",
        "\n",
        "# 병합된 라벨 경로\n",
        "label_path = \"/content/dataset_combined/train/labels\"\n",
        "class_counts = Counter()\n",
        "\n",
        "for file in os.listdir(label_path):\n",
        "    with open(os.path.join(label_path, file)) as f:\n",
        "        for line in f:\n",
        "            class_id = line.strip().split()[0]\n",
        "            class_counts[class_id] += 1\n",
        "\n",
        "# 클래스명 매핑 (data.yaml 기준)\n",
        "class_names = [\"mouth\", \"cup\", \"pill\", \"hand\"]\n",
        "\n",
        "print(\"📊 클래스별 라벨 수:\")\n",
        "for class_id, count in sorted(class_counts.items(), key=lambda x: int(x[0])):\n",
        "    name = class_names[int(class_id)]\n",
        "    print(f\"  {name} (class {class_id}): {count}개\")"
      ],
      "metadata": {
        "id": "wihU56GKG-SI",
        "colab": {
          "base_uri": "https://localhost:8080/"
        },
        "outputId": "24b2777a-b7cb-4ee4-9fb2-bb8c72bda2bd"
      },
      "execution_count": null,
      "outputs": [
        {
          "output_type": "stream",
          "name": "stdout",
          "text": [
            "📊 클래스별 라벨 수:\n",
            "  mouth (class 0): 4380개\n",
            "  cup (class 1): 4056개\n",
            "  pill (class 2): 6850개\n",
            "  hand (class 3): 4676개\n"
          ]
        }
      ]
    },
    {
      "cell_type": "code",
      "source": [
        "# ✅ data.yaml 수정 (validation 없이 test로 대체)\n",
        "yaml_content = \"\"\"train: /content/dataset_combined/train/images\n",
        "val: /content/dataset_combined/valid/images  # test를 validation처럼 사용\n",
        "test: /content/dataset_combined/test/images\n",
        "\n",
        "nc: 4\n",
        "names: [\"mouth\", \"cup\", \"pill\", \"hand\"]\n",
        "\"\"\"\n",
        "\n",
        "with open(\"/content/data.yaml\", \"w\") as file:\n",
        "    file.write(yaml_content)\n",
        "\n",
        "print(\"✅ data.yaml 저장 완료\")\n"
      ],
      "metadata": {
        "id": "HY5GRWPsG-UT",
        "colab": {
          "base_uri": "https://localhost:8080/"
        },
        "outputId": "abf5a12c-343e-4809-b26f-bbcefb1c8f86"
      },
      "execution_count": null,
      "outputs": [
        {
          "output_type": "stream",
          "name": "stdout",
          "text": [
            "✅ data.yaml 저장 완료\n"
          ]
        }
      ]
    },
    {
      "cell_type": "code",
      "source": [
        "from ultralytics import YOLO\n",
        "# 메모리 단편화 방지\n",
        "import os\n",
        "os.environ['PYTORCH_CUDA_ALLOC_CONF'] = \"max_split_size_mb:64,garbage_collection_threshold:0.9,expandable_segments:True\"\n",
        "\n",
        "\n",
        "model = YOLO(\"yolov8l.pt\")\n",
        "model.train(data=\"/content/data.yaml\", epochs=50, imgsz=960, cache=True, name=\"best.pt\")\n",
        "# batch = 32 추가\n",
        "\n"
      ],
      "metadata": {
        "id": "WW9wNEwbG-WT",
        "colab": {
          "base_uri": "https://localhost:8080/"
        },
        "outputId": "7bc335a0-60ff-4f62-a3f6-16af87044a23"
      },
      "execution_count": null,
      "outputs": [
        {
          "metadata": {
            "tags": null
          },
          "name": "stdout",
          "output_type": "stream",
          "text": [
            "Downloading https://github.com/ultralytics/assets/releases/download/v8.3.0/yolov8l.pt to 'yolov8l.pt'...\n"
          ]
        },
        {
          "metadata": {
            "tags": null
          },
          "name": "stderr",
          "output_type": "stream",
          "text": [
            "100%|██████████| 83.7M/83.7M [00:00<00:00, 297MB/s]\n"
          ]
        },
        {
          "metadata": {
            "tags": null
          },
          "name": "stdout",
          "output_type": "stream",
          "text": [
            "Ultralytics 8.3.154 🚀 Python-3.11.13 torch-2.6.0+cu124 CUDA:0 (NVIDIA A100-SXM4-40GB, 40507MiB)\n",
            "\u001b[34m\u001b[1mengine/trainer: \u001b[0magnostic_nms=False, amp=True, augment=False, auto_augment=randaugment, batch=16, bgr=0.0, box=7.5, cache=True, cfg=None, classes=None, close_mosaic=10, cls=0.5, conf=None, copy_paste=0.0, copy_paste_mode=flip, cos_lr=False, cutmix=0.0, data=/content/data.yaml, degrees=0.0, deterministic=True, device=None, dfl=1.5, dnn=False, dropout=0.0, dynamic=False, embed=None, epochs=50, erasing=0.4, exist_ok=False, fliplr=0.5, flipud=0.0, format=torchscript, fraction=1.0, freeze=None, half=False, hsv_h=0.015, hsv_s=0.7, hsv_v=0.4, imgsz=960, int8=False, iou=0.7, keras=False, kobj=1.0, line_width=None, lr0=0.01, lrf=0.01, mask_ratio=4, max_det=300, mixup=0.0, mode=train, model=yolov8l.pt, momentum=0.937, mosaic=1.0, multi_scale=False, name=best.pt, nbs=64, nms=False, opset=None, optimize=False, optimizer=auto, overlap_mask=True, patience=100, perspective=0.0, plots=True, pose=12.0, pretrained=True, profile=False, project=None, rect=False, resume=False, retina_masks=False, save=True, save_conf=False, save_crop=False, save_dir=runs/detect/best.pt, save_frames=False, save_json=False, save_period=-1, save_txt=False, scale=0.5, seed=0, shear=0.0, show=False, show_boxes=True, show_conf=True, show_labels=True, simplify=True, single_cls=False, source=None, split=val, stream_buffer=False, task=detect, time=None, tracker=botsort.yaml, translate=0.1, val=True, verbose=True, vid_stride=1, visualize=False, warmup_bias_lr=0.1, warmup_epochs=3.0, warmup_momentum=0.8, weight_decay=0.0005, workers=8, workspace=None\n",
            "Downloading https://ultralytics.com/assets/Arial.ttf to '/root/.config/Ultralytics/Arial.ttf'...\n"
          ]
        },
        {
          "metadata": {
            "tags": null
          },
          "name": "stderr",
          "output_type": "stream",
          "text": [
            "100%|██████████| 755k/755k [00:00<00:00, 14.1MB/s]"
          ]
        },
        {
          "metadata": {
            "tags": null
          },
          "name": "stdout",
          "output_type": "stream",
          "text": [
            "Overriding model.yaml nc=80 with nc=4\n",
            "\n",
            "                   from  n    params  module                                       arguments                     \n",
            "  0                  -1  1      1856  ultralytics.nn.modules.conv.Conv             [3, 64, 3, 2]                 \n",
            "  1                  -1  1     73984  ultralytics.nn.modules.conv.Conv             [64, 128, 3, 2]               \n",
            "  2                  -1  3    279808  ultralytics.nn.modules.block.C2f             [128, 128, 3, True]           \n",
            "  3                  -1  1    295424  ultralytics.nn.modules.conv.Conv             [128, 256, 3, 2]              \n",
            "  4                  -1  6   2101248  ultralytics.nn.modules.block.C2f             [256, 256, 6, True]           \n",
            "  5                  -1  1   1180672  ultralytics.nn.modules.conv.Conv             [256, 512, 3, 2]              \n",
            "  6                  -1  6   8396800  ultralytics.nn.modules.block.C2f             [512, 512, 6, True]           \n"
          ]
        },
        {
          "metadata": {
            "tags": null
          },
          "name": "stderr",
          "output_type": "stream",
          "text": [
            "\n"
          ]
        },
        {
          "metadata": {
            "tags": null
          },
          "name": "stdout",
          "output_type": "stream",
          "text": [
            "  7                  -1  1   2360320  ultralytics.nn.modules.conv.Conv             [512, 512, 3, 2]              \n",
            "  8                  -1  3   4461568  ultralytics.nn.modules.block.C2f             [512, 512, 3, True]           \n",
            "  9                  -1  1    656896  ultralytics.nn.modules.block.SPPF            [512, 512, 5]                 \n",
            " 10                  -1  1         0  torch.nn.modules.upsampling.Upsample         [None, 2, 'nearest']          \n",
            " 11             [-1, 6]  1         0  ultralytics.nn.modules.conv.Concat           [1]                           \n",
            " 12                  -1  3   4723712  ultralytics.nn.modules.block.C2f             [1024, 512, 3]                \n",
            " 13                  -1  1         0  torch.nn.modules.upsampling.Upsample         [None, 2, 'nearest']          \n",
            " 14             [-1, 4]  1         0  ultralytics.nn.modules.conv.Concat           [1]                           \n",
            " 15                  -1  3   1247744  ultralytics.nn.modules.block.C2f             [768, 256, 3]                 \n",
            " 16                  -1  1    590336  ultralytics.nn.modules.conv.Conv             [256, 256, 3, 2]              \n",
            " 17            [-1, 12]  1         0  ultralytics.nn.modules.conv.Concat           [1]                           \n",
            " 18                  -1  3   4592640  ultralytics.nn.modules.block.C2f             [768, 512, 3]                 \n",
            " 19                  -1  1   2360320  ultralytics.nn.modules.conv.Conv             [512, 512, 3, 2]              \n",
            " 20             [-1, 9]  1         0  ultralytics.nn.modules.conv.Concat           [1]                           \n",
            " 21                  -1  3   4723712  ultralytics.nn.modules.block.C2f             [1024, 512, 3]                \n",
            " 22        [15, 18, 21]  1   5585884  ultralytics.nn.modules.head.Detect           [4, [256, 512, 512]]          \n",
            "Model summary: 209 layers, 43,632,924 parameters, 43,632,908 gradients, 165.4 GFLOPs\n",
            "\n",
            "Transferred 589/595 items from pretrained weights\n",
            "Freezing layer 'model.22.dfl.conv.weight'\n",
            "\u001b[34m\u001b[1mAMP: \u001b[0mrunning Automatic Mixed Precision (AMP) checks...\n",
            "Downloading https://github.com/ultralytics/assets/releases/download/v8.3.0/yolo11n.pt to 'yolo11n.pt'...\n"
          ]
        },
        {
          "metadata": {
            "tags": null
          },
          "name": "stderr",
          "output_type": "stream",
          "text": [
            "100%|██████████| 5.35M/5.35M [00:00<00:00, 65.2MB/s]\n"
          ]
        },
        {
          "metadata": {
            "tags": null
          },
          "name": "stdout",
          "output_type": "stream",
          "text": [
            "\u001b[34m\u001b[1mAMP: \u001b[0mchecks passed ✅\n",
            "\u001b[34m\u001b[1mtrain: \u001b[0mFast image access ✅ (ping: 0.0±0.0 ms, read: 1959.5±880.6 MB/s, size: 94.9 KB)\n"
          ]
        },
        {
          "metadata": {
            "tags": null
          },
          "name": "stderr",
          "output_type": "stream",
          "text": [
            "\u001b[34m\u001b[1mtrain: \u001b[0mScanning /content/dataset_combined/train/labels... 10582 images, 234 backgrounds, 0 corrupt: 100%|██████████| 10582/10582 [00:06<00:00, 1561.91it/s]\n"
          ]
        },
        {
          "metadata": {
            "tags": null
          },
          "name": "stdout",
          "output_type": "stream",
          "text": [
            "\u001b[34m\u001b[1mtrain: \u001b[0mNew cache created: /content/dataset_combined/train/labels.cache\n",
            "WARNING ⚠️ Box and segment counts should be equal, but got len(segments) = 14, len(boxes) = 19962. To resolve this only boxes will be used and all segments will be removed. To avoid this please supply either a detect or segment dataset, not a detect-segment mixed dataset.\n",
            "WARNING ⚠️ cache='ram' may produce non-deterministic training results. Consider cache='disk' as a deterministic alternative if your disk space allows.\n"
          ]
        },
        {
          "metadata": {
            "tags": null
          },
          "name": "stderr",
          "output_type": "stream",
          "text": [
            "\u001b[34m\u001b[1mtrain: \u001b[0mCaching images (27.2GB RAM): 100%|██████████| 10582/10582 [00:08<00:00, 1274.62it/s]\n"
          ]
        },
        {
          "metadata": {
            "tags": null
          },
          "name": "stdout",
          "output_type": "stream",
          "text": [
            "\u001b[34m\u001b[1malbumentations: \u001b[0mBlur(p=0.01, blur_limit=(3, 7)), MedianBlur(p=0.01, blur_limit=(3, 7)), ToGray(p=0.01, method='weighted_average', num_output_channels=3), CLAHE(p=0.01, clip_limit=(1.0, 4.0), tile_grid_size=(8, 8))\n",
            "\u001b[34m\u001b[1mval: \u001b[0mFast image access ✅ (ping: 0.0±0.0 ms, read: 798.1±616.1 MB/s, size: 65.1 KB)\n"
          ]
        },
        {
          "metadata": {
            "tags": null
          },
          "name": "stderr",
          "output_type": "stream",
          "text": [
            "\u001b[34m\u001b[1mval: \u001b[0mScanning /content/dataset_combined/valid/labels... 798 images, 3 backgrounds, 0 corrupt: 100%|██████████| 798/798 [00:00<00:00, 1317.69it/s]\n"
          ]
        },
        {
          "metadata": {
            "tags": null
          },
          "name": "stdout",
          "output_type": "stream",
          "text": [
            "\u001b[34m\u001b[1mval: \u001b[0mNew cache created: /content/dataset_combined/valid/labels.cache\n",
            "WARNING ⚠️ Box and segment counts should be equal, but got len(segments) = 68, len(boxes) = 3565. To resolve this only boxes will be used and all segments will be removed. To avoid this please supply either a detect or segment dataset, not a detect-segment mixed dataset.\n",
            "WARNING ⚠️ cache='ram' may produce non-deterministic training results. Consider cache='disk' as a deterministic alternative if your disk space allows.\n"
          ]
        },
        {
          "metadata": {
            "tags": null
          },
          "name": "stderr",
          "output_type": "stream",
          "text": [
            "\u001b[34m\u001b[1mval: \u001b[0mCaching images (2.1GB RAM): 100%|██████████| 798/798 [00:01<00:00, 560.76it/s]\n"
          ]
        },
        {
          "metadata": {
            "tags": null
          },
          "name": "stdout",
          "output_type": "stream",
          "text": [
            "Plotting labels to runs/detect/best.pt/labels.jpg... \n",
            "\u001b[34m\u001b[1moptimizer:\u001b[0m 'optimizer=auto' found, ignoring 'lr0=0.01' and 'momentum=0.937' and determining best 'optimizer', 'lr0' and 'momentum' automatically... \n",
            "\u001b[34m\u001b[1moptimizer:\u001b[0m AdamW(lr=0.00125, momentum=0.9) with parameter groups 97 weight(decay=0.0), 104 weight(decay=0.0005), 103 bias(decay=0.0)\n",
            "Image sizes 960 train, 960 val\n",
            "Using 8 dataloader workers\n",
            "Logging results to \u001b[1mruns/detect/best.pt\u001b[0m\n",
            "Starting training for 50 epochs...\n",
            "\n",
            "      Epoch    GPU_mem   box_loss   cls_loss   dfl_loss  Instances       Size\n"
          ]
        },
        {
          "metadata": {
            "tags": null
          },
          "name": "stderr",
          "output_type": "stream",
          "text": [
            "       1/50      33.8G      1.241      1.667       1.73         18        960: 100%|██████████| 662/662 [05:12<00:00,  2.12it/s]\n",
            "                 Class     Images  Instances      Box(P          R      mAP50  mAP50-95): 100%|██████████| 25/25 [00:08<00:00,  2.87it/s]"
          ]
        },
        {
          "metadata": {
            "tags": null
          },
          "name": "stdout",
          "output_type": "stream",
          "text": [
            "                   all        798       3565      0.537      0.456       0.43      0.235\n"
          ]
        },
        {
          "metadata": {
            "tags": null
          },
          "name": "stderr",
          "output_type": "stream",
          "text": [
            "\n"
          ]
        },
        {
          "metadata": {
            "tags": null
          },
          "name": "stdout",
          "output_type": "stream",
          "text": [
            "\n",
            "      Epoch    GPU_mem   box_loss   cls_loss   dfl_loss  Instances       Size\n"
          ]
        },
        {
          "metadata": {
            "tags": null
          },
          "name": "stderr",
          "output_type": "stream",
          "text": [
            "       2/50      38.2G      1.203        1.4      1.694         17        960: 100%|██████████| 662/662 [05:18<00:00,  2.08it/s]\n",
            "                 Class     Images  Instances      Box(P          R      mAP50  mAP50-95): 100%|██████████| 25/25 [00:07<00:00,  3.35it/s]"
          ]
        },
        {
          "metadata": {
            "tags": null
          },
          "name": "stdout",
          "output_type": "stream",
          "text": [
            "                   all        798       3565      0.688      0.645      0.679      0.383\n"
          ]
        },
        {
          "metadata": {
            "tags": null
          },
          "name": "stderr",
          "output_type": "stream",
          "text": [
            "\n"
          ]
        },
        {
          "metadata": {
            "tags": null
          },
          "name": "stdout",
          "output_type": "stream",
          "text": [
            "\n",
            "      Epoch    GPU_mem   box_loss   cls_loss   dfl_loss  Instances       Size\n"
          ]
        },
        {
          "metadata": {
            "tags": null
          },
          "name": "stderr",
          "output_type": "stream",
          "text": [
            "       3/50      23.5G      1.119      1.214      1.623         23        960: 100%|██████████| 662/662 [05:12<00:00,  2.12it/s]\n",
            "                 Class     Images  Instances      Box(P          R      mAP50  mAP50-95): 100%|██████████| 25/25 [00:07<00:00,  3.32it/s]"
          ]
        },
        {
          "metadata": {
            "tags": null
          },
          "name": "stdout",
          "output_type": "stream",
          "text": [
            "                   all        798       3565      0.751      0.681      0.759      0.491\n"
          ]
        },
        {
          "metadata": {
            "tags": null
          },
          "name": "stderr",
          "output_type": "stream",
          "text": [
            "\n"
          ]
        },
        {
          "metadata": {
            "tags": null
          },
          "name": "stdout",
          "output_type": "stream",
          "text": [
            "\n",
            "      Epoch    GPU_mem   box_loss   cls_loss   dfl_loss  Instances       Size\n"
          ]
        },
        {
          "metadata": {
            "tags": null
          },
          "name": "stderr",
          "output_type": "stream",
          "text": [
            "       4/50        28G      1.049      1.085      1.557         37        960: 100%|██████████| 662/662 [04:54<00:00,  2.25it/s]\n",
            "                 Class     Images  Instances      Box(P          R      mAP50  mAP50-95): 100%|██████████| 25/25 [00:07<00:00,  3.30it/s]"
          ]
        },
        {
          "metadata": {
            "tags": null
          },
          "name": "stdout",
          "output_type": "stream",
          "text": [
            "                   all        798       3565      0.787       0.76      0.818      0.555\n"
          ]
        },
        {
          "metadata": {
            "tags": null
          },
          "name": "stderr",
          "output_type": "stream",
          "text": [
            "\n"
          ]
        },
        {
          "metadata": {
            "tags": null
          },
          "name": "stdout",
          "output_type": "stream",
          "text": [
            "\n",
            "      Epoch    GPU_mem   box_loss   cls_loss   dfl_loss  Instances       Size\n"
          ]
        },
        {
          "metadata": {
            "tags": null
          },
          "name": "stderr",
          "output_type": "stream",
          "text": [
            "       5/50      27.7G     0.9974     0.9669       1.51         22        960: 100%|██████████| 662/662 [05:01<00:00,  2.19it/s]\n",
            "                 Class     Images  Instances      Box(P          R      mAP50  mAP50-95): 100%|██████████| 25/25 [00:07<00:00,  3.40it/s]"
          ]
        },
        {
          "metadata": {
            "tags": null
          },
          "name": "stdout",
          "output_type": "stream",
          "text": [
            "                   all        798       3565       0.75      0.767      0.814      0.537\n"
          ]
        },
        {
          "metadata": {
            "tags": null
          },
          "name": "stderr",
          "output_type": "stream",
          "text": [
            "\n"
          ]
        },
        {
          "metadata": {
            "tags": null
          },
          "name": "stdout",
          "output_type": "stream",
          "text": [
            "\n",
            "      Epoch    GPU_mem   box_loss   cls_loss   dfl_loss  Instances       Size\n"
          ]
        },
        {
          "metadata": {
            "tags": null
          },
          "name": "stderr",
          "output_type": "stream",
          "text": [
            "       6/50      25.8G     0.9471     0.8856      1.466         16        960: 100%|██████████| 662/662 [05:08<00:00,  2.15it/s]\n",
            "                 Class     Images  Instances      Box(P          R      mAP50  mAP50-95): 100%|██████████| 25/25 [00:07<00:00,  3.38it/s]"
          ]
        },
        {
          "metadata": {
            "tags": null
          },
          "name": "stdout",
          "output_type": "stream",
          "text": [
            "                   all        798       3565      0.797      0.821      0.867      0.602\n"
          ]
        },
        {
          "metadata": {
            "tags": null
          },
          "name": "stderr",
          "output_type": "stream",
          "text": [
            "\n"
          ]
        },
        {
          "metadata": {
            "tags": null
          },
          "name": "stdout",
          "output_type": "stream",
          "text": [
            "\n",
            "      Epoch    GPU_mem   box_loss   cls_loss   dfl_loss  Instances       Size\n"
          ]
        },
        {
          "metadata": {
            "tags": null
          },
          "name": "stderr",
          "output_type": "stream",
          "text": [
            "       7/50      21.8G     0.9386     0.8496      1.448         26        960: 100%|██████████| 662/662 [05:18<00:00,  2.08it/s]\n",
            "                 Class     Images  Instances      Box(P          R      mAP50  mAP50-95): 100%|██████████| 25/25 [00:07<00:00,  3.40it/s]"
          ]
        },
        {
          "metadata": {
            "tags": null
          },
          "name": "stdout",
          "output_type": "stream",
          "text": [
            "                   all        798       3565      0.839      0.838      0.896      0.629\n"
          ]
        },
        {
          "metadata": {
            "tags": null
          },
          "name": "stderr",
          "output_type": "stream",
          "text": [
            "\n"
          ]
        },
        {
          "metadata": {
            "tags": null
          },
          "name": "stdout",
          "output_type": "stream",
          "text": [
            "\n",
            "      Epoch    GPU_mem   box_loss   cls_loss   dfl_loss  Instances       Size\n"
          ]
        },
        {
          "metadata": {
            "tags": null
          },
          "name": "stderr",
          "output_type": "stream",
          "text": [
            "       8/50      27.7G     0.8953     0.8144       1.42         20        960: 100%|██████████| 662/662 [05:12<00:00,  2.12it/s]\n",
            "                 Class     Images  Instances      Box(P          R      mAP50  mAP50-95): 100%|██████████| 25/25 [00:07<00:00,  3.38it/s]"
          ]
        },
        {
          "metadata": {
            "tags": null
          },
          "name": "stdout",
          "output_type": "stream",
          "text": [
            "                   all        798       3565      0.866      0.839      0.905      0.647\n"
          ]
        },
        {
          "metadata": {
            "tags": null
          },
          "name": "stderr",
          "output_type": "stream",
          "text": [
            "\n"
          ]
        },
        {
          "metadata": {
            "tags": null
          },
          "name": "stdout",
          "output_type": "stream",
          "text": [
            "\n",
            "      Epoch    GPU_mem   box_loss   cls_loss   dfl_loss  Instances       Size\n"
          ]
        },
        {
          "metadata": {
            "tags": null
          },
          "name": "stderr",
          "output_type": "stream",
          "text": [
            "       9/50      21.3G     0.8876     0.7752      1.417         18        960: 100%|██████████| 662/662 [05:00<00:00,  2.20it/s]\n",
            "                 Class     Images  Instances      Box(P          R      mAP50  mAP50-95): 100%|██████████| 25/25 [00:07<00:00,  3.26it/s]"
          ]
        },
        {
          "metadata": {
            "tags": null
          },
          "name": "stdout",
          "output_type": "stream",
          "text": [
            "                   all        798       3565      0.796      0.818      0.857       0.62\n"
          ]
        },
        {
          "metadata": {
            "tags": null
          },
          "name": "stderr",
          "output_type": "stream",
          "text": [
            "\n"
          ]
        },
        {
          "metadata": {
            "tags": null
          },
          "name": "stdout",
          "output_type": "stream",
          "text": [
            "\n",
            "      Epoch    GPU_mem   box_loss   cls_loss   dfl_loss  Instances       Size\n"
          ]
        },
        {
          "metadata": {
            "tags": null
          },
          "name": "stderr",
          "output_type": "stream",
          "text": [
            "      10/50      21.8G     0.8699     0.7606      1.396         15        960: 100%|██████████| 662/662 [05:22<00:00,  2.05it/s]\n",
            "                 Class     Images  Instances      Box(P          R      mAP50  mAP50-95): 100%|██████████| 25/25 [00:07<00:00,  3.21it/s]"
          ]
        },
        {
          "metadata": {
            "tags": null
          },
          "name": "stdout",
          "output_type": "stream",
          "text": [
            "                   all        798       3565       0.78      0.822      0.865      0.639\n"
          ]
        },
        {
          "metadata": {
            "tags": null
          },
          "name": "stderr",
          "output_type": "stream",
          "text": [
            "\n"
          ]
        },
        {
          "metadata": {
            "tags": null
          },
          "name": "stdout",
          "output_type": "stream",
          "text": [
            "\n",
            "      Epoch    GPU_mem   box_loss   cls_loss   dfl_loss  Instances       Size\n"
          ]
        },
        {
          "metadata": {
            "tags": null
          },
          "name": "stderr",
          "output_type": "stream",
          "text": [
            "      11/50      38.8G     0.8546      0.737      1.384         43        960: 100%|██████████| 662/662 [04:51<00:00,  2.27it/s]\n",
            "                 Class     Images  Instances      Box(P          R      mAP50  mAP50-95): 100%|██████████| 25/25 [00:08<00:00,  2.99it/s]"
          ]
        },
        {
          "metadata": {
            "tags": null
          },
          "name": "stdout",
          "output_type": "stream",
          "text": [
            "                   all        798       3565      0.873      0.839      0.904      0.659\n"
          ]
        },
        {
          "metadata": {
            "tags": null
          },
          "name": "stderr",
          "output_type": "stream",
          "text": [
            "\n"
          ]
        },
        {
          "metadata": {
            "tags": null
          },
          "name": "stdout",
          "output_type": "stream",
          "text": [
            "\n",
            "      Epoch    GPU_mem   box_loss   cls_loss   dfl_loss  Instances       Size\n"
          ]
        },
        {
          "metadata": {
            "tags": null
          },
          "name": "stderr",
          "output_type": "stream",
          "text": [
            "      12/50      26.1G      0.845     0.7132      1.371         17        960: 100%|██████████| 662/662 [05:42<00:00,  1.93it/s]\n",
            "                 Class     Images  Instances      Box(P          R      mAP50  mAP50-95): 100%|██████████| 25/25 [00:07<00:00,  3.43it/s]"
          ]
        },
        {
          "metadata": {
            "tags": null
          },
          "name": "stdout",
          "output_type": "stream",
          "text": [
            "                   all        798       3565       0.86      0.854      0.907      0.683\n"
          ]
        },
        {
          "metadata": {
            "tags": null
          },
          "name": "stderr",
          "output_type": "stream",
          "text": [
            "\n"
          ]
        },
        {
          "metadata": {
            "tags": null
          },
          "name": "stdout",
          "output_type": "stream",
          "text": [
            "\n",
            "      Epoch    GPU_mem   box_loss   cls_loss   dfl_loss  Instances       Size\n"
          ]
        },
        {
          "metadata": {
            "tags": null
          },
          "name": "stderr",
          "output_type": "stream",
          "text": [
            "      13/50      8.56G     0.8363     0.6874      1.359         27        960: 100%|██████████| 662/662 [05:46<00:00,  1.91it/s]\n",
            "                 Class     Images  Instances      Box(P          R      mAP50  mAP50-95): 100%|██████████| 25/25 [00:08<00:00,  3.12it/s]"
          ]
        },
        {
          "metadata": {
            "tags": null
          },
          "name": "stdout",
          "output_type": "stream",
          "text": [
            "                   all        798       3565      0.878      0.885      0.927      0.698\n"
          ]
        },
        {
          "metadata": {
            "tags": null
          },
          "name": "stderr",
          "output_type": "stream",
          "text": [
            "\n"
          ]
        },
        {
          "metadata": {
            "tags": null
          },
          "name": "stdout",
          "output_type": "stream",
          "text": [
            "\n",
            "      Epoch    GPU_mem   box_loss   cls_loss   dfl_loss  Instances       Size\n"
          ]
        },
        {
          "metadata": {
            "tags": null
          },
          "name": "stderr",
          "output_type": "stream",
          "text": [
            "      14/50        39G     0.8068     0.6613      1.338         16        960: 100%|██████████| 662/662 [05:50<00:00,  1.89it/s]\n",
            "                 Class     Images  Instances      Box(P          R      mAP50  mAP50-95): 100%|██████████| 25/25 [00:07<00:00,  3.16it/s]"
          ]
        },
        {
          "metadata": {
            "tags": null
          },
          "name": "stdout",
          "output_type": "stream",
          "text": [
            "                   all        798       3565      0.888      0.855      0.906      0.688\n"
          ]
        },
        {
          "metadata": {
            "tags": null
          },
          "name": "stderr",
          "output_type": "stream",
          "text": [
            "\n"
          ]
        },
        {
          "metadata": {
            "tags": null
          },
          "name": "stdout",
          "output_type": "stream",
          "text": [
            "\n",
            "      Epoch    GPU_mem   box_loss   cls_loss   dfl_loss  Instances       Size\n"
          ]
        },
        {
          "metadata": {
            "tags": null
          },
          "name": "stderr",
          "output_type": "stream",
          "text": [
            "      15/50        39G     0.8135     0.6568      1.339         27        960: 100%|██████████| 662/662 [05:42<00:00,  1.93it/s]\n",
            "                 Class     Images  Instances      Box(P          R      mAP50  mAP50-95): 100%|██████████| 25/25 [00:08<00:00,  3.07it/s]"
          ]
        },
        {
          "metadata": {
            "tags": null
          },
          "name": "stdout",
          "output_type": "stream",
          "text": [
            "                   all        798       3565      0.874      0.878      0.924      0.691\n"
          ]
        },
        {
          "metadata": {
            "tags": null
          },
          "name": "stderr",
          "output_type": "stream",
          "text": [
            "\n"
          ]
        },
        {
          "metadata": {
            "tags": null
          },
          "name": "stdout",
          "output_type": "stream",
          "text": [
            "\n",
            "      Epoch    GPU_mem   box_loss   cls_loss   dfl_loss  Instances       Size\n"
          ]
        },
        {
          "metadata": {
            "tags": null
          },
          "name": "stderr",
          "output_type": "stream",
          "text": [
            "      16/50      25.2G     0.7894     0.6402      1.321         23        960: 100%|██████████| 662/662 [05:48<00:00,  1.90it/s]\n",
            "                 Class     Images  Instances      Box(P          R      mAP50  mAP50-95): 100%|██████████| 25/25 [00:08<00:00,  3.07it/s]"
          ]
        },
        {
          "metadata": {
            "tags": null
          },
          "name": "stdout",
          "output_type": "stream",
          "text": [
            "                   all        798       3565      0.855      0.824      0.887       0.67\n"
          ]
        },
        {
          "metadata": {
            "tags": null
          },
          "name": "stderr",
          "output_type": "stream",
          "text": [
            "\n"
          ]
        },
        {
          "metadata": {
            "tags": null
          },
          "name": "stdout",
          "output_type": "stream",
          "text": [
            "\n",
            "      Epoch    GPU_mem   box_loss   cls_loss   dfl_loss  Instances       Size\n"
          ]
        },
        {
          "metadata": {
            "tags": null
          },
          "name": "stderr",
          "output_type": "stream",
          "text": [
            "      17/50      26.7G     0.8004     0.6385       1.33         21        960: 100%|██████████| 662/662 [05:38<00:00,  1.96it/s]\n",
            "                 Class     Images  Instances      Box(P          R      mAP50  mAP50-95): 100%|██████████| 25/25 [00:08<00:00,  2.93it/s]"
          ]
        },
        {
          "metadata": {
            "tags": null
          },
          "name": "stdout",
          "output_type": "stream",
          "text": [
            "                   all        798       3565      0.908      0.878      0.935      0.698\n"
          ]
        },
        {
          "metadata": {
            "tags": null
          },
          "name": "stderr",
          "output_type": "stream",
          "text": [
            "\n"
          ]
        },
        {
          "metadata": {
            "tags": null
          },
          "name": "stdout",
          "output_type": "stream",
          "text": [
            "\n",
            "      Epoch    GPU_mem   box_loss   cls_loss   dfl_loss  Instances       Size\n"
          ]
        },
        {
          "output_type": "stream",
          "name": "stderr",
          "text": [
            "      18/50      21.6G     0.7894     0.6346      1.314         43        960: 100%|██████████| 662/662 [05:27<00:00,  2.02it/s]\n",
            "                 Class     Images  Instances      Box(P          R      mAP50  mAP50-95): 100%|██████████| 25/25 [00:07<00:00,  3.15it/s]"
          ]
        },
        {
          "output_type": "stream",
          "name": "stdout",
          "text": [
            "                   all        798       3565      0.889      0.888       0.94      0.722\n"
          ]
        },
        {
          "output_type": "stream",
          "name": "stderr",
          "text": [
            "\n"
          ]
        },
        {
          "output_type": "stream",
          "name": "stdout",
          "text": [
            "\n",
            "      Epoch    GPU_mem   box_loss   cls_loss   dfl_loss  Instances       Size\n"
          ]
        },
        {
          "output_type": "stream",
          "name": "stderr",
          "text": [
            "      19/50      25.8G     0.7757     0.6159      1.307         14        960: 100%|██████████| 662/662 [05:34<00:00,  1.98it/s]\n",
            "                 Class     Images  Instances      Box(P          R      mAP50  mAP50-95): 100%|██████████| 25/25 [00:07<00:00,  3.45it/s]"
          ]
        },
        {
          "output_type": "stream",
          "name": "stdout",
          "text": [
            "                   all        798       3565      0.904      0.864      0.936      0.708\n"
          ]
        },
        {
          "output_type": "stream",
          "name": "stderr",
          "text": [
            "\n"
          ]
        },
        {
          "output_type": "stream",
          "name": "stdout",
          "text": [
            "\n",
            "      Epoch    GPU_mem   box_loss   cls_loss   dfl_loss  Instances       Size\n"
          ]
        },
        {
          "output_type": "stream",
          "name": "stderr",
          "text": [
            "      20/50       8.3G     0.7601     0.5997      1.293         14        960: 100%|██████████| 662/662 [05:43<00:00,  1.93it/s]\n",
            "                 Class     Images  Instances      Box(P          R      mAP50  mAP50-95): 100%|██████████| 25/25 [00:07<00:00,  3.44it/s]"
          ]
        },
        {
          "output_type": "stream",
          "name": "stdout",
          "text": [
            "                   all        798       3565      0.903       0.89      0.937      0.725\n"
          ]
        },
        {
          "output_type": "stream",
          "name": "stderr",
          "text": [
            "\n"
          ]
        },
        {
          "output_type": "stream",
          "name": "stdout",
          "text": [
            "\n",
            "      Epoch    GPU_mem   box_loss   cls_loss   dfl_loss  Instances       Size\n"
          ]
        },
        {
          "output_type": "stream",
          "name": "stderr",
          "text": [
            "      21/50      27.1G     0.7515      0.584      1.287         48        960: 100%|██████████| 662/662 [05:32<00:00,  1.99it/s]\n",
            "                 Class     Images  Instances      Box(P          R      mAP50  mAP50-95): 100%|██████████| 25/25 [00:07<00:00,  3.16it/s]"
          ]
        },
        {
          "output_type": "stream",
          "name": "stdout",
          "text": [
            "                   all        798       3565        0.9      0.871       0.93      0.714\n"
          ]
        },
        {
          "output_type": "stream",
          "name": "stderr",
          "text": [
            "\n"
          ]
        },
        {
          "output_type": "stream",
          "name": "stdout",
          "text": [
            "\n",
            "      Epoch    GPU_mem   box_loss   cls_loss   dfl_loss  Instances       Size\n"
          ]
        },
        {
          "output_type": "stream",
          "name": "stderr",
          "text": [
            "      22/50        22G     0.7455      0.576      1.281         25        960: 100%|██████████| 662/662 [05:27<00:00,  2.02it/s]\n",
            "                 Class     Images  Instances      Box(P          R      mAP50  mAP50-95): 100%|██████████| 25/25 [00:07<00:00,  3.27it/s]"
          ]
        },
        {
          "output_type": "stream",
          "name": "stdout",
          "text": [
            "                   all        798       3565      0.923      0.885      0.941      0.733\n"
          ]
        },
        {
          "output_type": "stream",
          "name": "stderr",
          "text": [
            "\n"
          ]
        },
        {
          "output_type": "stream",
          "name": "stdout",
          "text": [
            "\n",
            "      Epoch    GPU_mem   box_loss   cls_loss   dfl_loss  Instances       Size\n"
          ]
        },
        {
          "output_type": "stream",
          "name": "stderr",
          "text": [
            "      23/50      27.5G     0.7455     0.5761      1.279         22        960: 100%|██████████| 662/662 [05:18<00:00,  2.08it/s]\n",
            "                 Class     Images  Instances      Box(P          R      mAP50  mAP50-95): 100%|██████████| 25/25 [00:07<00:00,  3.18it/s]"
          ]
        },
        {
          "output_type": "stream",
          "name": "stdout",
          "text": [
            "                   all        798       3565      0.912      0.907      0.951      0.734\n"
          ]
        },
        {
          "output_type": "stream",
          "name": "stderr",
          "text": [
            "\n"
          ]
        },
        {
          "output_type": "stream",
          "name": "stdout",
          "text": [
            "\n",
            "      Epoch    GPU_mem   box_loss   cls_loss   dfl_loss  Instances       Size\n"
          ]
        },
        {
          "output_type": "stream",
          "name": "stderr",
          "text": [
            "      24/50      28.1G     0.7306     0.5648      1.273         33        960: 100%|██████████| 662/662 [05:04<00:00,  2.17it/s]\n",
            "                 Class     Images  Instances      Box(P          R      mAP50  mAP50-95): 100%|██████████| 25/25 [00:08<00:00,  2.94it/s]"
          ]
        },
        {
          "output_type": "stream",
          "name": "stdout",
          "text": [
            "                   all        798       3565      0.886      0.909      0.944      0.735\n"
          ]
        },
        {
          "output_type": "stream",
          "name": "stderr",
          "text": [
            "\n"
          ]
        },
        {
          "output_type": "stream",
          "name": "stdout",
          "text": [
            "\n",
            "      Epoch    GPU_mem   box_loss   cls_loss   dfl_loss  Instances       Size\n"
          ]
        },
        {
          "output_type": "stream",
          "name": "stderr",
          "text": [
            "      25/50      37.4G     0.7099     0.5543      1.261         24        960: 100%|██████████| 662/662 [05:11<00:00,  2.12it/s]\n",
            "                 Class     Images  Instances      Box(P          R      mAP50  mAP50-95): 100%|██████████| 25/25 [00:08<00:00,  2.93it/s]"
          ]
        },
        {
          "output_type": "stream",
          "name": "stdout",
          "text": [
            "                   all        798       3565      0.896      0.883       0.93      0.722\n"
          ]
        },
        {
          "output_type": "stream",
          "name": "stderr",
          "text": [
            "\n"
          ]
        },
        {
          "output_type": "stream",
          "name": "stdout",
          "text": [
            "\n",
            "      Epoch    GPU_mem   box_loss   cls_loss   dfl_loss  Instances       Size\n"
          ]
        },
        {
          "output_type": "stream",
          "name": "stderr",
          "text": [
            "      26/50      29.1G     0.7043     0.5432      1.251         14        960: 100%|██████████| 662/662 [05:39<00:00,  1.95it/s]\n",
            "                 Class     Images  Instances      Box(P          R      mAP50  mAP50-95): 100%|██████████| 25/25 [00:08<00:00,  3.06it/s]"
          ]
        },
        {
          "output_type": "stream",
          "name": "stdout",
          "text": [
            "                   all        798       3565      0.918      0.897      0.944      0.727\n"
          ]
        },
        {
          "output_type": "stream",
          "name": "stderr",
          "text": [
            "\n"
          ]
        },
        {
          "output_type": "stream",
          "name": "stdout",
          "text": [
            "\n",
            "      Epoch    GPU_mem   box_loss   cls_loss   dfl_loss  Instances       Size\n"
          ]
        },
        {
          "output_type": "stream",
          "name": "stderr",
          "text": [
            "      27/50      29.5G     0.6939     0.5298       1.24         45        960: 100%|██████████| 662/662 [05:52<00:00,  1.88it/s]\n",
            "                 Class     Images  Instances      Box(P          R      mAP50  mAP50-95): 100%|██████████| 25/25 [00:07<00:00,  3.40it/s]"
          ]
        },
        {
          "output_type": "stream",
          "name": "stdout",
          "text": [
            "                   all        798       3565      0.919       0.89      0.943      0.741\n"
          ]
        },
        {
          "output_type": "stream",
          "name": "stderr",
          "text": [
            "\n"
          ]
        },
        {
          "output_type": "stream",
          "name": "stdout",
          "text": [
            "\n",
            "      Epoch    GPU_mem   box_loss   cls_loss   dfl_loss  Instances       Size\n"
          ]
        },
        {
          "output_type": "stream",
          "name": "stderr",
          "text": [
            "      28/50        39G      0.691     0.5219      1.235         21        960: 100%|██████████| 662/662 [05:34<00:00,  1.98it/s]\n",
            "                 Class     Images  Instances      Box(P          R      mAP50  mAP50-95): 100%|██████████| 25/25 [00:07<00:00,  3.37it/s]"
          ]
        },
        {
          "output_type": "stream",
          "name": "stdout",
          "text": [
            "                   all        798       3565      0.898      0.898      0.944      0.743\n"
          ]
        },
        {
          "output_type": "stream",
          "name": "stderr",
          "text": [
            "\n"
          ]
        },
        {
          "output_type": "stream",
          "name": "stdout",
          "text": [
            "\n",
            "      Epoch    GPU_mem   box_loss   cls_loss   dfl_loss  Instances       Size\n"
          ]
        },
        {
          "output_type": "stream",
          "name": "stderr",
          "text": [
            "      29/50        28G      0.676     0.5123      1.229         18        960: 100%|██████████| 662/662 [05:26<00:00,  2.03it/s]\n",
            "                 Class     Images  Instances      Box(P          R      mAP50  mAP50-95): 100%|██████████| 25/25 [00:08<00:00,  3.08it/s]"
          ]
        },
        {
          "output_type": "stream",
          "name": "stdout",
          "text": [
            "                   all        798       3565      0.945      0.886      0.951      0.748\n"
          ]
        },
        {
          "output_type": "stream",
          "name": "stderr",
          "text": [
            "\n"
          ]
        },
        {
          "output_type": "stream",
          "name": "stdout",
          "text": [
            "\n",
            "      Epoch    GPU_mem   box_loss   cls_loss   dfl_loss  Instances       Size\n"
          ]
        },
        {
          "output_type": "stream",
          "name": "stderr",
          "text": [
            "      30/50      29.6G     0.6776     0.5122      1.219         25        960: 100%|██████████| 662/662 [05:25<00:00,  2.03it/s]\n",
            "                 Class     Images  Instances      Box(P          R      mAP50  mAP50-95): 100%|██████████| 25/25 [00:07<00:00,  3.39it/s]"
          ]
        },
        {
          "output_type": "stream",
          "name": "stdout",
          "text": [
            "                   all        798       3565      0.931      0.894      0.947      0.743\n"
          ]
        },
        {
          "output_type": "stream",
          "name": "stderr",
          "text": [
            "\n"
          ]
        },
        {
          "output_type": "stream",
          "name": "stdout",
          "text": [
            "\n",
            "      Epoch    GPU_mem   box_loss   cls_loss   dfl_loss  Instances       Size\n"
          ]
        },
        {
          "output_type": "stream",
          "name": "stderr",
          "text": [
            "      31/50        39G     0.6689     0.5015      1.215         28        960: 100%|██████████| 662/662 [05:23<00:00,  2.05it/s]\n",
            "                 Class     Images  Instances      Box(P          R      mAP50  mAP50-95): 100%|██████████| 25/25 [00:08<00:00,  3.11it/s]"
          ]
        },
        {
          "output_type": "stream",
          "name": "stdout",
          "text": [
            "                   all        798       3565      0.908      0.898      0.945      0.747\n"
          ]
        },
        {
          "output_type": "stream",
          "name": "stderr",
          "text": [
            "\n"
          ]
        },
        {
          "output_type": "stream",
          "name": "stdout",
          "text": [
            "\n",
            "      Epoch    GPU_mem   box_loss   cls_loss   dfl_loss  Instances       Size\n"
          ]
        },
        {
          "output_type": "stream",
          "name": "stderr",
          "text": [
            "      32/50      25.8G     0.6488     0.4913       1.21         19        960: 100%|██████████| 662/662 [05:44<00:00,  1.92it/s]\n",
            "                 Class     Images  Instances      Box(P          R      mAP50  mAP50-95): 100%|██████████| 25/25 [00:07<00:00,  3.19it/s]"
          ]
        },
        {
          "output_type": "stream",
          "name": "stdout",
          "text": [
            "                   all        798       3565      0.924      0.907      0.942      0.738\n"
          ]
        },
        {
          "output_type": "stream",
          "name": "stderr",
          "text": [
            "\n"
          ]
        },
        {
          "output_type": "stream",
          "name": "stdout",
          "text": [
            "\n",
            "      Epoch    GPU_mem   box_loss   cls_loss   dfl_loss  Instances       Size\n"
          ]
        },
        {
          "output_type": "stream",
          "name": "stderr",
          "text": [
            "      33/50      26.4G     0.6463     0.4885      1.197         15        960: 100%|██████████| 662/662 [06:06<00:00,  1.81it/s]\n",
            "                 Class     Images  Instances      Box(P          R      mAP50  mAP50-95): 100%|██████████| 25/25 [00:08<00:00,  2.89it/s]"
          ]
        },
        {
          "output_type": "stream",
          "name": "stdout",
          "text": [
            "                   all        798       3565      0.919      0.906       0.95      0.746\n"
          ]
        },
        {
          "output_type": "stream",
          "name": "stderr",
          "text": [
            "\n"
          ]
        },
        {
          "output_type": "stream",
          "name": "stdout",
          "text": [
            "\n",
            "      Epoch    GPU_mem   box_loss   cls_loss   dfl_loss  Instances       Size\n"
          ]
        },
        {
          "output_type": "stream",
          "name": "stderr",
          "text": [
            "      34/50        27G     0.6306     0.4733       1.19         40        960: 100%|██████████| 662/662 [05:51<00:00,  1.88it/s]\n",
            "                 Class     Images  Instances      Box(P          R      mAP50  mAP50-95): 100%|██████████| 25/25 [00:07<00:00,  3.38it/s]"
          ]
        },
        {
          "output_type": "stream",
          "name": "stdout",
          "text": [
            "                   all        798       3565      0.934      0.916      0.957       0.75\n"
          ]
        },
        {
          "output_type": "stream",
          "name": "stderr",
          "text": [
            "\n"
          ]
        },
        {
          "output_type": "stream",
          "name": "stdout",
          "text": [
            "\n",
            "      Epoch    GPU_mem   box_loss   cls_loss   dfl_loss  Instances       Size\n"
          ]
        },
        {
          "output_type": "stream",
          "name": "stderr",
          "text": [
            "      35/50      21.5G     0.6268     0.4743      1.186         24        960: 100%|██████████| 662/662 [05:00<00:00,  2.21it/s]\n",
            "                 Class     Images  Instances      Box(P          R      mAP50  mAP50-95): 100%|██████████| 25/25 [00:07<00:00,  3.21it/s]"
          ]
        },
        {
          "output_type": "stream",
          "name": "stdout",
          "text": [
            "                   all        798       3565      0.936      0.908      0.956      0.759\n"
          ]
        },
        {
          "output_type": "stream",
          "name": "stderr",
          "text": [
            "\n"
          ]
        },
        {
          "output_type": "stream",
          "name": "stdout",
          "text": [
            "\n",
            "      Epoch    GPU_mem   box_loss   cls_loss   dfl_loss  Instances       Size\n"
          ]
        },
        {
          "output_type": "stream",
          "name": "stderr",
          "text": [
            "      36/50      27.8G      0.607     0.4548      1.172         31        960: 100%|██████████| 662/662 [04:56<00:00,  2.23it/s]\n",
            "                 Class     Images  Instances      Box(P          R      mAP50  mAP50-95): 100%|██████████| 25/25 [00:07<00:00,  3.24it/s]"
          ]
        },
        {
          "output_type": "stream",
          "name": "stdout",
          "text": [
            "                   all        798       3565      0.936       0.91      0.955      0.755\n"
          ]
        },
        {
          "output_type": "stream",
          "name": "stderr",
          "text": [
            "\n"
          ]
        },
        {
          "output_type": "stream",
          "name": "stdout",
          "text": [
            "\n",
            "      Epoch    GPU_mem   box_loss   cls_loss   dfl_loss  Instances       Size\n"
          ]
        },
        {
          "output_type": "stream",
          "name": "stderr",
          "text": [
            "      37/50      26.2G     0.6014     0.4484      1.167         16        960: 100%|██████████| 662/662 [05:01<00:00,  2.20it/s]\n",
            "                 Class     Images  Instances      Box(P          R      mAP50  mAP50-95): 100%|██████████| 25/25 [00:07<00:00,  3.34it/s]"
          ]
        },
        {
          "output_type": "stream",
          "name": "stdout",
          "text": [
            "                   all        798       3565      0.932      0.904      0.956      0.756\n"
          ]
        },
        {
          "output_type": "stream",
          "name": "stderr",
          "text": [
            "\n"
          ]
        },
        {
          "output_type": "stream",
          "name": "stdout",
          "text": [
            "\n",
            "      Epoch    GPU_mem   box_loss   cls_loss   dfl_loss  Instances       Size\n"
          ]
        },
        {
          "output_type": "stream",
          "name": "stderr",
          "text": [
            "      38/50      26.5G     0.5919     0.4417      1.159         24        960: 100%|██████████| 662/662 [05:05<00:00,  2.16it/s]\n",
            "                 Class     Images  Instances      Box(P          R      mAP50  mAP50-95): 100%|██████████| 25/25 [00:07<00:00,  3.32it/s]"
          ]
        },
        {
          "output_type": "stream",
          "name": "stdout",
          "text": [
            "                   all        798       3565      0.935      0.924      0.959      0.765\n"
          ]
        },
        {
          "output_type": "stream",
          "name": "stderr",
          "text": [
            "\n"
          ]
        },
        {
          "output_type": "stream",
          "name": "stdout",
          "text": [
            "\n",
            "      Epoch    GPU_mem   box_loss   cls_loss   dfl_loss  Instances       Size\n"
          ]
        },
        {
          "output_type": "stream",
          "name": "stderr",
          "text": [
            "      39/50      21.6G      0.578     0.4308       1.15         19        960: 100%|██████████| 662/662 [05:13<00:00,  2.11it/s]\n",
            "                 Class     Images  Instances      Box(P          R      mAP50  mAP50-95): 100%|██████████| 25/25 [00:07<00:00,  3.27it/s]"
          ]
        },
        {
          "output_type": "stream",
          "name": "stdout",
          "text": [
            "                   all        798       3565      0.937      0.912      0.958      0.756\n"
          ]
        },
        {
          "output_type": "stream",
          "name": "stderr",
          "text": [
            "\n"
          ]
        },
        {
          "output_type": "stream",
          "name": "stdout",
          "text": [
            "\n",
            "      Epoch    GPU_mem   box_loss   cls_loss   dfl_loss  Instances       Size\n"
          ]
        },
        {
          "output_type": "stream",
          "name": "stderr",
          "text": [
            "      40/50        27G     0.5792     0.4346      1.144         40        960: 100%|██████████| 662/662 [05:07<00:00,  2.15it/s]\n",
            "                 Class     Images  Instances      Box(P          R      mAP50  mAP50-95): 100%|██████████| 25/25 [00:07<00:00,  3.40it/s]"
          ]
        },
        {
          "output_type": "stream",
          "name": "stdout",
          "text": [
            "                   all        798       3565      0.945        0.9      0.953      0.759\n"
          ]
        },
        {
          "output_type": "stream",
          "name": "stderr",
          "text": [
            "\n"
          ]
        },
        {
          "output_type": "stream",
          "name": "stdout",
          "text": [
            "Closing dataloader mosaic\n",
            "\u001b[34m\u001b[1malbumentations: \u001b[0mBlur(p=0.01, blur_limit=(3, 7)), MedianBlur(p=0.01, blur_limit=(3, 7)), ToGray(p=0.01, method='weighted_average', num_output_channels=3), CLAHE(p=0.01, clip_limit=(1.0, 4.0), tile_grid_size=(8, 8))\n",
            "\n",
            "      Epoch    GPU_mem   box_loss   cls_loss   dfl_loss  Instances       Size\n"
          ]
        },
        {
          "output_type": "stream",
          "name": "stderr",
          "text": [
            "      41/50      27.8G     0.5728     0.4051      1.117          8        960: 100%|██████████| 662/662 [05:21<00:00,  2.06it/s]\n",
            "                 Class     Images  Instances      Box(P          R      mAP50  mAP50-95): 100%|██████████| 25/25 [00:07<00:00,  3.34it/s]"
          ]
        },
        {
          "output_type": "stream",
          "name": "stdout",
          "text": [
            "                   all        798       3565      0.917      0.909      0.956      0.754\n"
          ]
        },
        {
          "output_type": "stream",
          "name": "stderr",
          "text": [
            "\n"
          ]
        },
        {
          "output_type": "stream",
          "name": "stdout",
          "text": [
            "\n",
            "      Epoch    GPU_mem   box_loss   cls_loss   dfl_loss  Instances       Size\n"
          ]
        },
        {
          "output_type": "stream",
          "name": "stderr",
          "text": [
            "      42/50      38.1G     0.5554     0.3899      1.101         12        960: 100%|██████████| 662/662 [04:46<00:00,  2.31it/s]\n",
            "                 Class     Images  Instances      Box(P          R      mAP50  mAP50-95): 100%|██████████| 25/25 [00:07<00:00,  3.23it/s]"
          ]
        },
        {
          "output_type": "stream",
          "name": "stdout",
          "text": [
            "                   all        798       3565       0.93      0.904      0.954      0.747\n"
          ]
        },
        {
          "output_type": "stream",
          "name": "stderr",
          "text": [
            "\n"
          ]
        },
        {
          "output_type": "stream",
          "name": "stdout",
          "text": [
            "\n",
            "      Epoch    GPU_mem   box_loss   cls_loss   dfl_loss  Instances       Size\n"
          ]
        },
        {
          "output_type": "stream",
          "name": "stderr",
          "text": [
            "      43/50      36.3G     0.5423      0.384      1.089          6        960: 100%|██████████| 662/662 [04:47<00:00,  2.30it/s]\n",
            "                 Class     Images  Instances      Box(P          R      mAP50  mAP50-95): 100%|██████████| 25/25 [00:07<00:00,  3.13it/s]"
          ]
        },
        {
          "output_type": "stream",
          "name": "stdout",
          "text": [
            "                   all        798       3565       0.91      0.915      0.954      0.757\n"
          ]
        },
        {
          "output_type": "stream",
          "name": "stderr",
          "text": [
            "\n"
          ]
        },
        {
          "output_type": "stream",
          "name": "stdout",
          "text": [
            "\n",
            "      Epoch    GPU_mem   box_loss   cls_loss   dfl_loss  Instances       Size\n"
          ]
        },
        {
          "output_type": "stream",
          "name": "stderr",
          "text": [
            "      44/50        39G     0.5279     0.3751      1.074          6        960: 100%|██████████| 662/662 [04:40<00:00,  2.36it/s]\n",
            "                 Class     Images  Instances      Box(P          R      mAP50  mAP50-95): 100%|██████████| 25/25 [00:07<00:00,  3.16it/s]"
          ]
        },
        {
          "output_type": "stream",
          "name": "stdout",
          "text": [
            "                   all        798       3565      0.923      0.908      0.951      0.754\n"
          ]
        },
        {
          "output_type": "stream",
          "name": "stderr",
          "text": [
            "\n"
          ]
        },
        {
          "output_type": "stream",
          "name": "stdout",
          "text": [
            "\n",
            "      Epoch    GPU_mem   box_loss   cls_loss   dfl_loss  Instances       Size\n"
          ]
        },
        {
          "output_type": "stream",
          "name": "stderr",
          "text": [
            "      45/50      27.9G     0.5228     0.3683      1.068          9        960: 100%|██████████| 662/662 [05:17<00:00,  2.08it/s]\n",
            "                 Class     Images  Instances      Box(P          R      mAP50  mAP50-95): 100%|██████████| 25/25 [00:07<00:00,  3.49it/s]"
          ]
        },
        {
          "output_type": "stream",
          "name": "stdout",
          "text": [
            "                   all        798       3565      0.938      0.888      0.948      0.757\n"
          ]
        },
        {
          "output_type": "stream",
          "name": "stderr",
          "text": [
            "\n"
          ]
        },
        {
          "output_type": "stream",
          "name": "stdout",
          "text": [
            "\n",
            "      Epoch    GPU_mem   box_loss   cls_loss   dfl_loss  Instances       Size\n"
          ]
        },
        {
          "output_type": "stream",
          "name": "stderr",
          "text": [
            "      46/50      23.2G     0.5048     0.3585      1.053          6        960: 100%|██████████| 662/662 [04:42<00:00,  2.34it/s]\n",
            "                 Class     Images  Instances      Box(P          R      mAP50  mAP50-95): 100%|██████████| 25/25 [00:07<00:00,  3.43it/s]"
          ]
        },
        {
          "output_type": "stream",
          "name": "stdout",
          "text": [
            "                   all        798       3565      0.928      0.912      0.952      0.759\n"
          ]
        },
        {
          "output_type": "stream",
          "name": "stderr",
          "text": [
            "\n"
          ]
        },
        {
          "output_type": "stream",
          "name": "stdout",
          "text": [
            "\n",
            "      Epoch    GPU_mem   box_loss   cls_loss   dfl_loss  Instances       Size\n"
          ]
        },
        {
          "output_type": "stream",
          "name": "stderr",
          "text": [
            "      47/50      21.6G     0.4962     0.3538      1.042         20        960: 100%|██████████| 662/662 [05:00<00:00,  2.20it/s]\n",
            "                 Class     Images  Instances      Box(P          R      mAP50  mAP50-95): 100%|██████████| 25/25 [00:07<00:00,  3.32it/s]"
          ]
        },
        {
          "output_type": "stream",
          "name": "stdout",
          "text": [
            "                   all        798       3565      0.939      0.908      0.954      0.762\n"
          ]
        },
        {
          "output_type": "stream",
          "name": "stderr",
          "text": [
            "\n"
          ]
        },
        {
          "output_type": "stream",
          "name": "stdout",
          "text": [
            "\n",
            "      Epoch    GPU_mem   box_loss   cls_loss   dfl_loss  Instances       Size\n"
          ]
        },
        {
          "output_type": "stream",
          "name": "stderr",
          "text": [
            "      48/50      27.4G     0.4885     0.3481      1.034         18        960: 100%|██████████| 662/662 [05:33<00:00,  1.98it/s]\n",
            "                 Class     Images  Instances      Box(P          R      mAP50  mAP50-95): 100%|██████████| 25/25 [00:07<00:00,  3.24it/s]"
          ]
        },
        {
          "output_type": "stream",
          "name": "stdout",
          "text": [
            "                   all        798       3565      0.922      0.911      0.953      0.759\n"
          ]
        },
        {
          "output_type": "stream",
          "name": "stderr",
          "text": [
            "\n"
          ]
        },
        {
          "output_type": "stream",
          "name": "stdout",
          "text": [
            "\n",
            "      Epoch    GPU_mem   box_loss   cls_loss   dfl_loss  Instances       Size\n"
          ]
        },
        {
          "output_type": "stream",
          "name": "stderr",
          "text": [
            "      49/50      29.5G     0.4793     0.3428      1.021         49        960: 100%|██████████| 662/662 [05:49<00:00,  1.89it/s]\n",
            "                 Class     Images  Instances      Box(P          R      mAP50  mAP50-95): 100%|██████████| 25/25 [00:07<00:00,  3.32it/s]"
          ]
        },
        {
          "output_type": "stream",
          "name": "stdout",
          "text": [
            "                   all        798       3565      0.926      0.909       0.95      0.758\n"
          ]
        },
        {
          "output_type": "stream",
          "name": "stderr",
          "text": [
            "\n"
          ]
        },
        {
          "output_type": "stream",
          "name": "stdout",
          "text": [
            "\n",
            "      Epoch    GPU_mem   box_loss   cls_loss   dfl_loss  Instances       Size\n"
          ]
        },
        {
          "output_type": "stream",
          "name": "stderr",
          "text": [
            "      50/50      29.4G     0.4698     0.3348      1.016          6        960: 100%|██████████| 662/662 [05:10<00:00,  2.14it/s]\n",
            "                 Class     Images  Instances      Box(P          R      mAP50  mAP50-95): 100%|██████████| 25/25 [00:07<00:00,  3.31it/s]"
          ]
        },
        {
          "output_type": "stream",
          "name": "stdout",
          "text": [
            "                   all        798       3565      0.928      0.907      0.952      0.759\n"
          ]
        },
        {
          "output_type": "stream",
          "name": "stderr",
          "text": [
            "\n"
          ]
        },
        {
          "output_type": "stream",
          "name": "stdout",
          "text": [
            "\n",
            "50 epochs completed in 4.583 hours.\n",
            "Optimizer stripped from runs/detect/best.pt/weights/last.pt, 87.7MB\n",
            "Optimizer stripped from runs/detect/best.pt/weights/best.pt, 87.7MB\n",
            "\n",
            "Validating runs/detect/best.pt/weights/best.pt...\n",
            "Ultralytics 8.3.154 🚀 Python-3.11.13 torch-2.6.0+cu124 CUDA:0 (NVIDIA A100-SXM4-40GB, 40507MiB)\n",
            "Model summary (fused): 112 layers, 43,609,692 parameters, 0 gradients, 164.8 GFLOPs\n"
          ]
        },
        {
          "output_type": "stream",
          "name": "stderr",
          "text": [
            "                 Class     Images  Instances      Box(P          R      mAP50  mAP50-95): 100%|██████████| 25/25 [00:08<00:00,  3.02it/s]\n"
          ]
        },
        {
          "output_type": "stream",
          "name": "stdout",
          "text": [
            "                   all        798       3565      0.935      0.924      0.959      0.765\n",
            "                 mouth        138        138      0.957      0.993       0.99      0.932\n",
            "                   cup        115        149      0.869      0.913      0.927      0.644\n",
            "                  pill        369       3104      0.912      0.896       0.94      0.617\n",
            "                  hand        173        174          1      0.896      0.979      0.866\n",
            "Speed: 0.3ms preprocess, 5.1ms inference, 0.0ms loss, 1.4ms postprocess per image\n",
            "Results saved to \u001b[1mruns/detect/best.pt\u001b[0m\n"
          ]
        },
        {
          "output_type": "execute_result",
          "data": {
            "text/plain": [
              "ultralytics.utils.metrics.DetMetrics object with attributes:\n",
              "\n",
              "ap_class_index: array([0, 1, 2, 3])\n",
              "box: ultralytics.utils.metrics.Metric object\n",
              "confusion_matrix: <ultralytics.utils.metrics.ConfusionMatrix object at 0x7b48b1481450>\n",
              "curves: ['Precision-Recall(B)', 'F1-Confidence(B)', 'Precision-Confidence(B)', 'Recall-Confidence(B)']\n",
              "curves_results: [[array([          0,    0.001001,    0.002002,    0.003003,    0.004004,    0.005005,    0.006006,    0.007007,    0.008008,    0.009009,     0.01001,    0.011011,    0.012012,    0.013013,    0.014014,    0.015015,    0.016016,    0.017017,    0.018018,    0.019019,     0.02002,    0.021021,    0.022022,    0.023023,\n",
              "          0.024024,    0.025025,    0.026026,    0.027027,    0.028028,    0.029029,     0.03003,    0.031031,    0.032032,    0.033033,    0.034034,    0.035035,    0.036036,    0.037037,    0.038038,    0.039039,     0.04004,    0.041041,    0.042042,    0.043043,    0.044044,    0.045045,    0.046046,    0.047047,\n",
              "          0.048048,    0.049049,     0.05005,    0.051051,    0.052052,    0.053053,    0.054054,    0.055055,    0.056056,    0.057057,    0.058058,    0.059059,     0.06006,    0.061061,    0.062062,    0.063063,    0.064064,    0.065065,    0.066066,    0.067067,    0.068068,    0.069069,     0.07007,    0.071071,\n",
              "          0.072072,    0.073073,    0.074074,    0.075075,    0.076076,    0.077077,    0.078078,    0.079079,     0.08008,    0.081081,    0.082082,    0.083083,    0.084084,    0.085085,    0.086086,    0.087087,    0.088088,    0.089089,     0.09009,    0.091091,    0.092092,    0.093093,    0.094094,    0.095095,\n",
              "          0.096096,    0.097097,    0.098098,    0.099099,      0.1001,      0.1011,      0.1021,      0.1031,      0.1041,     0.10511,     0.10611,     0.10711,     0.10811,     0.10911,     0.11011,     0.11111,     0.11211,     0.11311,     0.11411,     0.11512,     0.11612,     0.11712,     0.11812,     0.11912,\n",
              "           0.12012,     0.12112,     0.12212,     0.12312,     0.12412,     0.12513,     0.12613,     0.12713,     0.12813,     0.12913,     0.13013,     0.13113,     0.13213,     0.13313,     0.13413,     0.13514,     0.13614,     0.13714,     0.13814,     0.13914,     0.14014,     0.14114,     0.14214,     0.14314,\n",
              "           0.14414,     0.14515,     0.14615,     0.14715,     0.14815,     0.14915,     0.15015,     0.15115,     0.15215,     0.15315,     0.15415,     0.15516,     0.15616,     0.15716,     0.15816,     0.15916,     0.16016,     0.16116,     0.16216,     0.16316,     0.16416,     0.16517,     0.16617,     0.16717,\n",
              "           0.16817,     0.16917,     0.17017,     0.17117,     0.17217,     0.17317,     0.17417,     0.17518,     0.17618,     0.17718,     0.17818,     0.17918,     0.18018,     0.18118,     0.18218,     0.18318,     0.18418,     0.18519,     0.18619,     0.18719,     0.18819,     0.18919,     0.19019,     0.19119,\n",
              "           0.19219,     0.19319,     0.19419,      0.1952,      0.1962,      0.1972,      0.1982,      0.1992,      0.2002,      0.2012,      0.2022,      0.2032,      0.2042,     0.20521,     0.20621,     0.20721,     0.20821,     0.20921,     0.21021,     0.21121,     0.21221,     0.21321,     0.21421,     0.21522,\n",
              "           0.21622,     0.21722,     0.21822,     0.21922,     0.22022,     0.22122,     0.22222,     0.22322,     0.22422,     0.22523,     0.22623,     0.22723,     0.22823,     0.22923,     0.23023,     0.23123,     0.23223,     0.23323,     0.23423,     0.23524,     0.23624,     0.23724,     0.23824,     0.23924,\n",
              "           0.24024,     0.24124,     0.24224,     0.24324,     0.24424,     0.24525,     0.24625,     0.24725,     0.24825,     0.24925,     0.25025,     0.25125,     0.25225,     0.25325,     0.25425,     0.25526,     0.25626,     0.25726,     0.25826,     0.25926,     0.26026,     0.26126,     0.26226,     0.26326,\n",
              "           0.26426,     0.26527,     0.26627,     0.26727,     0.26827,     0.26927,     0.27027,     0.27127,     0.27227,     0.27327,     0.27427,     0.27528,     0.27628,     0.27728,     0.27828,     0.27928,     0.28028,     0.28128,     0.28228,     0.28328,     0.28428,     0.28529,     0.28629,     0.28729,\n",
              "           0.28829,     0.28929,     0.29029,     0.29129,     0.29229,     0.29329,     0.29429,      0.2953,      0.2963,      0.2973,      0.2983,      0.2993,      0.3003,      0.3013,      0.3023,      0.3033,      0.3043,     0.30531,     0.30631,     0.30731,     0.30831,     0.30931,     0.31031,     0.31131,\n",
              "           0.31231,     0.31331,     0.31431,     0.31532,     0.31632,     0.31732,     0.31832,     0.31932,     0.32032,     0.32132,     0.32232,     0.32332,     0.32432,     0.32533,     0.32633,     0.32733,     0.32833,     0.32933,     0.33033,     0.33133,     0.33233,     0.33333,     0.33433,     0.33534,\n",
              "           0.33634,     0.33734,     0.33834,     0.33934,     0.34034,     0.34134,     0.34234,     0.34334,     0.34434,     0.34535,     0.34635,     0.34735,     0.34835,     0.34935,     0.35035,     0.35135,     0.35235,     0.35335,     0.35435,     0.35536,     0.35636,     0.35736,     0.35836,     0.35936,\n",
              "           0.36036,     0.36136,     0.36236,     0.36336,     0.36436,     0.36537,     0.36637,     0.36737,     0.36837,     0.36937,     0.37037,     0.37137,     0.37237,     0.37337,     0.37437,     0.37538,     0.37638,     0.37738,     0.37838,     0.37938,     0.38038,     0.38138,     0.38238,     0.38338,\n",
              "           0.38438,     0.38539,     0.38639,     0.38739,     0.38839,     0.38939,     0.39039,     0.39139,     0.39239,     0.39339,     0.39439,      0.3954,      0.3964,      0.3974,      0.3984,      0.3994,      0.4004,      0.4014,      0.4024,      0.4034,      0.4044,     0.40541,     0.40641,     0.40741,\n",
              "           0.40841,     0.40941,     0.41041,     0.41141,     0.41241,     0.41341,     0.41441,     0.41542,     0.41642,     0.41742,     0.41842,     0.41942,     0.42042,     0.42142,     0.42242,     0.42342,     0.42442,     0.42543,     0.42643,     0.42743,     0.42843,     0.42943,     0.43043,     0.43143,\n",
              "           0.43243,     0.43343,     0.43443,     0.43544,     0.43644,     0.43744,     0.43844,     0.43944,     0.44044,     0.44144,     0.44244,     0.44344,     0.44444,     0.44545,     0.44645,     0.44745,     0.44845,     0.44945,     0.45045,     0.45145,     0.45245,     0.45345,     0.45445,     0.45546,\n",
              "           0.45646,     0.45746,     0.45846,     0.45946,     0.46046,     0.46146,     0.46246,     0.46346,     0.46446,     0.46547,     0.46647,     0.46747,     0.46847,     0.46947,     0.47047,     0.47147,     0.47247,     0.47347,     0.47447,     0.47548,     0.47648,     0.47748,     0.47848,     0.47948,\n",
              "           0.48048,     0.48148,     0.48248,     0.48348,     0.48448,     0.48549,     0.48649,     0.48749,     0.48849,     0.48949,     0.49049,     0.49149,     0.49249,     0.49349,     0.49449,      0.4955,      0.4965,      0.4975,      0.4985,      0.4995,      0.5005,      0.5015,      0.5025,      0.5035,\n",
              "            0.5045,     0.50551,     0.50651,     0.50751,     0.50851,     0.50951,     0.51051,     0.51151,     0.51251,     0.51351,     0.51451,     0.51552,     0.51652,     0.51752,     0.51852,     0.51952,     0.52052,     0.52152,     0.52252,     0.52352,     0.52452,     0.52553,     0.52653,     0.52753,\n",
              "           0.52853,     0.52953,     0.53053,     0.53153,     0.53253,     0.53353,     0.53453,     0.53554,     0.53654,     0.53754,     0.53854,     0.53954,     0.54054,     0.54154,     0.54254,     0.54354,     0.54454,     0.54555,     0.54655,     0.54755,     0.54855,     0.54955,     0.55055,     0.55155,\n",
              "           0.55255,     0.55355,     0.55455,     0.55556,     0.55656,     0.55756,     0.55856,     0.55956,     0.56056,     0.56156,     0.56256,     0.56356,     0.56456,     0.56557,     0.56657,     0.56757,     0.56857,     0.56957,     0.57057,     0.57157,     0.57257,     0.57357,     0.57457,     0.57558,\n",
              "           0.57658,     0.57758,     0.57858,     0.57958,     0.58058,     0.58158,     0.58258,     0.58358,     0.58458,     0.58559,     0.58659,     0.58759,     0.58859,     0.58959,     0.59059,     0.59159,     0.59259,     0.59359,     0.59459,      0.5956,      0.5966,      0.5976,      0.5986,      0.5996,\n",
              "            0.6006,      0.6016,      0.6026,      0.6036,      0.6046,     0.60561,     0.60661,     0.60761,     0.60861,     0.60961,     0.61061,     0.61161,     0.61261,     0.61361,     0.61461,     0.61562,     0.61662,     0.61762,     0.61862,     0.61962,     0.62062,     0.62162,     0.62262,     0.62362,\n",
              "           0.62462,     0.62563,     0.62663,     0.62763,     0.62863,     0.62963,     0.63063,     0.63163,     0.63263,     0.63363,     0.63463,     0.63564,     0.63664,     0.63764,     0.63864,     0.63964,     0.64064,     0.64164,     0.64264,     0.64364,     0.64464,     0.64565,     0.64665,     0.64765,\n",
              "           0.64865,     0.64965,     0.65065,     0.65165,     0.65265,     0.65365,     0.65465,     0.65566,     0.65666,     0.65766,     0.65866,     0.65966,     0.66066,     0.66166,     0.66266,     0.66366,     0.66466,     0.66567,     0.66667,     0.66767,     0.66867,     0.66967,     0.67067,     0.67167,\n",
              "           0.67267,     0.67367,     0.67467,     0.67568,     0.67668,     0.67768,     0.67868,     0.67968,     0.68068,     0.68168,     0.68268,     0.68368,     0.68468,     0.68569,     0.68669,     0.68769,     0.68869,     0.68969,     0.69069,     0.69169,     0.69269,     0.69369,     0.69469,      0.6957,\n",
              "            0.6967,      0.6977,      0.6987,      0.6997,      0.7007,      0.7017,      0.7027,      0.7037,      0.7047,     0.70571,     0.70671,     0.70771,     0.70871,     0.70971,     0.71071,     0.71171,     0.71271,     0.71371,     0.71471,     0.71572,     0.71672,     0.71772,     0.71872,     0.71972,\n",
              "           0.72072,     0.72172,     0.72272,     0.72372,     0.72472,     0.72573,     0.72673,     0.72773,     0.72873,     0.72973,     0.73073,     0.73173,     0.73273,     0.73373,     0.73473,     0.73574,     0.73674,     0.73774,     0.73874,     0.73974,     0.74074,     0.74174,     0.74274,     0.74374,\n",
              "           0.74474,     0.74575,     0.74675,     0.74775,     0.74875,     0.74975,     0.75075,     0.75175,     0.75275,     0.75375,     0.75475,     0.75576,     0.75676,     0.75776,     0.75876,     0.75976,     0.76076,     0.76176,     0.76276,     0.76376,     0.76476,     0.76577,     0.76677,     0.76777,\n",
              "           0.76877,     0.76977,     0.77077,     0.77177,     0.77277,     0.77377,     0.77477,     0.77578,     0.77678,     0.77778,     0.77878,     0.77978,     0.78078,     0.78178,     0.78278,     0.78378,     0.78478,     0.78579,     0.78679,     0.78779,     0.78879,     0.78979,     0.79079,     0.79179,\n",
              "           0.79279,     0.79379,     0.79479,      0.7958,      0.7968,      0.7978,      0.7988,      0.7998,      0.8008,      0.8018,      0.8028,      0.8038,      0.8048,     0.80581,     0.80681,     0.80781,     0.80881,     0.80981,     0.81081,     0.81181,     0.81281,     0.81381,     0.81481,     0.81582,\n",
              "           0.81682,     0.81782,     0.81882,     0.81982,     0.82082,     0.82182,     0.82282,     0.82382,     0.82482,     0.82583,     0.82683,     0.82783,     0.82883,     0.82983,     0.83083,     0.83183,     0.83283,     0.83383,     0.83483,     0.83584,     0.83684,     0.83784,     0.83884,     0.83984,\n",
              "           0.84084,     0.84184,     0.84284,     0.84384,     0.84484,     0.84585,     0.84685,     0.84785,     0.84885,     0.84985,     0.85085,     0.85185,     0.85285,     0.85385,     0.85485,     0.85586,     0.85686,     0.85786,     0.85886,     0.85986,     0.86086,     0.86186,     0.86286,     0.86386,\n",
              "           0.86486,     0.86587,     0.86687,     0.86787,     0.86887,     0.86987,     0.87087,     0.87187,     0.87287,     0.87387,     0.87487,     0.87588,     0.87688,     0.87788,     0.87888,     0.87988,     0.88088,     0.88188,     0.88288,     0.88388,     0.88488,     0.88589,     0.88689,     0.88789,\n",
              "           0.88889,     0.88989,     0.89089,     0.89189,     0.89289,     0.89389,     0.89489,      0.8959,      0.8969,      0.8979,      0.8989,      0.8999,      0.9009,      0.9019,      0.9029,      0.9039,      0.9049,     0.90591,     0.90691,     0.90791,     0.90891,     0.90991,     0.91091,     0.91191,\n",
              "           0.91291,     0.91391,     0.91491,     0.91592,     0.91692,     0.91792,     0.91892,     0.91992,     0.92092,     0.92192,     0.92292,     0.92392,     0.92492,     0.92593,     0.92693,     0.92793,     0.92893,     0.92993,     0.93093,     0.93193,     0.93293,     0.93393,     0.93493,     0.93594,\n",
              "           0.93694,     0.93794,     0.93894,     0.93994,     0.94094,     0.94194,     0.94294,     0.94394,     0.94494,     0.94595,     0.94695,     0.94795,     0.94895,     0.94995,     0.95095,     0.95195,     0.95295,     0.95395,     0.95495,     0.95596,     0.95696,     0.95796,     0.95896,     0.95996,\n",
              "           0.96096,     0.96196,     0.96296,     0.96396,     0.96496,     0.96597,     0.96697,     0.96797,     0.96897,     0.96997,     0.97097,     0.97197,     0.97297,     0.97397,     0.97497,     0.97598,     0.97698,     0.97798,     0.97898,     0.97998,     0.98098,     0.98198,     0.98298,     0.98398,\n",
              "           0.98498,     0.98599,     0.98699,     0.98799,     0.98899,     0.98999,     0.99099,     0.99199,     0.99299,     0.99399,     0.99499,       0.996,       0.997,       0.998,       0.999,           1]), array([[          1,           1,           1, ...,        0.92,        0.92,           0],\n",
              "       [          1,           1,           1, ...,   0.0084214,   0.0042107,           0],\n",
              "       [          1,     0.99301,     0.99301, ...,    0.019648,   0.0098239,           0],\n",
              "       [          1,           1,           1, ...,    0.042506,    0.021253,           0]]), 'Recall', 'Precision'], [array([          0,    0.001001,    0.002002,    0.003003,    0.004004,    0.005005,    0.006006,    0.007007,    0.008008,    0.009009,     0.01001,    0.011011,    0.012012,    0.013013,    0.014014,    0.015015,    0.016016,    0.017017,    0.018018,    0.019019,     0.02002,    0.021021,    0.022022,    0.023023,\n",
              "          0.024024,    0.025025,    0.026026,    0.027027,    0.028028,    0.029029,     0.03003,    0.031031,    0.032032,    0.033033,    0.034034,    0.035035,    0.036036,    0.037037,    0.038038,    0.039039,     0.04004,    0.041041,    0.042042,    0.043043,    0.044044,    0.045045,    0.046046,    0.047047,\n",
              "          0.048048,    0.049049,     0.05005,    0.051051,    0.052052,    0.053053,    0.054054,    0.055055,    0.056056,    0.057057,    0.058058,    0.059059,     0.06006,    0.061061,    0.062062,    0.063063,    0.064064,    0.065065,    0.066066,    0.067067,    0.068068,    0.069069,     0.07007,    0.071071,\n",
              "          0.072072,    0.073073,    0.074074,    0.075075,    0.076076,    0.077077,    0.078078,    0.079079,     0.08008,    0.081081,    0.082082,    0.083083,    0.084084,    0.085085,    0.086086,    0.087087,    0.088088,    0.089089,     0.09009,    0.091091,    0.092092,    0.093093,    0.094094,    0.095095,\n",
              "          0.096096,    0.097097,    0.098098,    0.099099,      0.1001,      0.1011,      0.1021,      0.1031,      0.1041,     0.10511,     0.10611,     0.10711,     0.10811,     0.10911,     0.11011,     0.11111,     0.11211,     0.11311,     0.11411,     0.11512,     0.11612,     0.11712,     0.11812,     0.11912,\n",
              "           0.12012,     0.12112,     0.12212,     0.12312,     0.12412,     0.12513,     0.12613,     0.12713,     0.12813,     0.12913,     0.13013,     0.13113,     0.13213,     0.13313,     0.13413,     0.13514,     0.13614,     0.13714,     0.13814,     0.13914,     0.14014,     0.14114,     0.14214,     0.14314,\n",
              "           0.14414,     0.14515,     0.14615,     0.14715,     0.14815,     0.14915,     0.15015,     0.15115,     0.15215,     0.15315,     0.15415,     0.15516,     0.15616,     0.15716,     0.15816,     0.15916,     0.16016,     0.16116,     0.16216,     0.16316,     0.16416,     0.16517,     0.16617,     0.16717,\n",
              "           0.16817,     0.16917,     0.17017,     0.17117,     0.17217,     0.17317,     0.17417,     0.17518,     0.17618,     0.17718,     0.17818,     0.17918,     0.18018,     0.18118,     0.18218,     0.18318,     0.18418,     0.18519,     0.18619,     0.18719,     0.18819,     0.18919,     0.19019,     0.19119,\n",
              "           0.19219,     0.19319,     0.19419,      0.1952,      0.1962,      0.1972,      0.1982,      0.1992,      0.2002,      0.2012,      0.2022,      0.2032,      0.2042,     0.20521,     0.20621,     0.20721,     0.20821,     0.20921,     0.21021,     0.21121,     0.21221,     0.21321,     0.21421,     0.21522,\n",
              "           0.21622,     0.21722,     0.21822,     0.21922,     0.22022,     0.22122,     0.22222,     0.22322,     0.22422,     0.22523,     0.22623,     0.22723,     0.22823,     0.22923,     0.23023,     0.23123,     0.23223,     0.23323,     0.23423,     0.23524,     0.23624,     0.23724,     0.23824,     0.23924,\n",
              "           0.24024,     0.24124,     0.24224,     0.24324,     0.24424,     0.24525,     0.24625,     0.24725,     0.24825,     0.24925,     0.25025,     0.25125,     0.25225,     0.25325,     0.25425,     0.25526,     0.25626,     0.25726,     0.25826,     0.25926,     0.26026,     0.26126,     0.26226,     0.26326,\n",
              "           0.26426,     0.26527,     0.26627,     0.26727,     0.26827,     0.26927,     0.27027,     0.27127,     0.27227,     0.27327,     0.27427,     0.27528,     0.27628,     0.27728,     0.27828,     0.27928,     0.28028,     0.28128,     0.28228,     0.28328,     0.28428,     0.28529,     0.28629,     0.28729,\n",
              "           0.28829,     0.28929,     0.29029,     0.29129,     0.29229,     0.29329,     0.29429,      0.2953,      0.2963,      0.2973,      0.2983,      0.2993,      0.3003,      0.3013,      0.3023,      0.3033,      0.3043,     0.30531,     0.30631,     0.30731,     0.30831,     0.30931,     0.31031,     0.31131,\n",
              "           0.31231,     0.31331,     0.31431,     0.31532,     0.31632,     0.31732,     0.31832,     0.31932,     0.32032,     0.32132,     0.32232,     0.32332,     0.32432,     0.32533,     0.32633,     0.32733,     0.32833,     0.32933,     0.33033,     0.33133,     0.33233,     0.33333,     0.33433,     0.33534,\n",
              "           0.33634,     0.33734,     0.33834,     0.33934,     0.34034,     0.34134,     0.34234,     0.34334,     0.34434,     0.34535,     0.34635,     0.34735,     0.34835,     0.34935,     0.35035,     0.35135,     0.35235,     0.35335,     0.35435,     0.35536,     0.35636,     0.35736,     0.35836,     0.35936,\n",
              "           0.36036,     0.36136,     0.36236,     0.36336,     0.36436,     0.36537,     0.36637,     0.36737,     0.36837,     0.36937,     0.37037,     0.37137,     0.37237,     0.37337,     0.37437,     0.37538,     0.37638,     0.37738,     0.37838,     0.37938,     0.38038,     0.38138,     0.38238,     0.38338,\n",
              "           0.38438,     0.38539,     0.38639,     0.38739,     0.38839,     0.38939,     0.39039,     0.39139,     0.39239,     0.39339,     0.39439,      0.3954,      0.3964,      0.3974,      0.3984,      0.3994,      0.4004,      0.4014,      0.4024,      0.4034,      0.4044,     0.40541,     0.40641,     0.40741,\n",
              "           0.40841,     0.40941,     0.41041,     0.41141,     0.41241,     0.41341,     0.41441,     0.41542,     0.41642,     0.41742,     0.41842,     0.41942,     0.42042,     0.42142,     0.42242,     0.42342,     0.42442,     0.42543,     0.42643,     0.42743,     0.42843,     0.42943,     0.43043,     0.43143,\n",
              "           0.43243,     0.43343,     0.43443,     0.43544,     0.43644,     0.43744,     0.43844,     0.43944,     0.44044,     0.44144,     0.44244,     0.44344,     0.44444,     0.44545,     0.44645,     0.44745,     0.44845,     0.44945,     0.45045,     0.45145,     0.45245,     0.45345,     0.45445,     0.45546,\n",
              "           0.45646,     0.45746,     0.45846,     0.45946,     0.46046,     0.46146,     0.46246,     0.46346,     0.46446,     0.46547,     0.46647,     0.46747,     0.46847,     0.46947,     0.47047,     0.47147,     0.47247,     0.47347,     0.47447,     0.47548,     0.47648,     0.47748,     0.47848,     0.47948,\n",
              "           0.48048,     0.48148,     0.48248,     0.48348,     0.48448,     0.48549,     0.48649,     0.48749,     0.48849,     0.48949,     0.49049,     0.49149,     0.49249,     0.49349,     0.49449,      0.4955,      0.4965,      0.4975,      0.4985,      0.4995,      0.5005,      0.5015,      0.5025,      0.5035,\n",
              "            0.5045,     0.50551,     0.50651,     0.50751,     0.50851,     0.50951,     0.51051,     0.51151,     0.51251,     0.51351,     0.51451,     0.51552,     0.51652,     0.51752,     0.51852,     0.51952,     0.52052,     0.52152,     0.52252,     0.52352,     0.52452,     0.52553,     0.52653,     0.52753,\n",
              "           0.52853,     0.52953,     0.53053,     0.53153,     0.53253,     0.53353,     0.53453,     0.53554,     0.53654,     0.53754,     0.53854,     0.53954,     0.54054,     0.54154,     0.54254,     0.54354,     0.54454,     0.54555,     0.54655,     0.54755,     0.54855,     0.54955,     0.55055,     0.55155,\n",
              "           0.55255,     0.55355,     0.55455,     0.55556,     0.55656,     0.55756,     0.55856,     0.55956,     0.56056,     0.56156,     0.56256,     0.56356,     0.56456,     0.56557,     0.56657,     0.56757,     0.56857,     0.56957,     0.57057,     0.57157,     0.57257,     0.57357,     0.57457,     0.57558,\n",
              "           0.57658,     0.57758,     0.57858,     0.57958,     0.58058,     0.58158,     0.58258,     0.58358,     0.58458,     0.58559,     0.58659,     0.58759,     0.58859,     0.58959,     0.59059,     0.59159,     0.59259,     0.59359,     0.59459,      0.5956,      0.5966,      0.5976,      0.5986,      0.5996,\n",
              "            0.6006,      0.6016,      0.6026,      0.6036,      0.6046,     0.60561,     0.60661,     0.60761,     0.60861,     0.60961,     0.61061,     0.61161,     0.61261,     0.61361,     0.61461,     0.61562,     0.61662,     0.61762,     0.61862,     0.61962,     0.62062,     0.62162,     0.62262,     0.62362,\n",
              "           0.62462,     0.62563,     0.62663,     0.62763,     0.62863,     0.62963,     0.63063,     0.63163,     0.63263,     0.63363,     0.63463,     0.63564,     0.63664,     0.63764,     0.63864,     0.63964,     0.64064,     0.64164,     0.64264,     0.64364,     0.64464,     0.64565,     0.64665,     0.64765,\n",
              "           0.64865,     0.64965,     0.65065,     0.65165,     0.65265,     0.65365,     0.65465,     0.65566,     0.65666,     0.65766,     0.65866,     0.65966,     0.66066,     0.66166,     0.66266,     0.66366,     0.66466,     0.66567,     0.66667,     0.66767,     0.66867,     0.66967,     0.67067,     0.67167,\n",
              "           0.67267,     0.67367,     0.67467,     0.67568,     0.67668,     0.67768,     0.67868,     0.67968,     0.68068,     0.68168,     0.68268,     0.68368,     0.68468,     0.68569,     0.68669,     0.68769,     0.68869,     0.68969,     0.69069,     0.69169,     0.69269,     0.69369,     0.69469,      0.6957,\n",
              "            0.6967,      0.6977,      0.6987,      0.6997,      0.7007,      0.7017,      0.7027,      0.7037,      0.7047,     0.70571,     0.70671,     0.70771,     0.70871,     0.70971,     0.71071,     0.71171,     0.71271,     0.71371,     0.71471,     0.71572,     0.71672,     0.71772,     0.71872,     0.71972,\n",
              "           0.72072,     0.72172,     0.72272,     0.72372,     0.72472,     0.72573,     0.72673,     0.72773,     0.72873,     0.72973,     0.73073,     0.73173,     0.73273,     0.73373,     0.73473,     0.73574,     0.73674,     0.73774,     0.73874,     0.73974,     0.74074,     0.74174,     0.74274,     0.74374,\n",
              "           0.74474,     0.74575,     0.74675,     0.74775,     0.74875,     0.74975,     0.75075,     0.75175,     0.75275,     0.75375,     0.75475,     0.75576,     0.75676,     0.75776,     0.75876,     0.75976,     0.76076,     0.76176,     0.76276,     0.76376,     0.76476,     0.76577,     0.76677,     0.76777,\n",
              "           0.76877,     0.76977,     0.77077,     0.77177,     0.77277,     0.77377,     0.77477,     0.77578,     0.77678,     0.77778,     0.77878,     0.77978,     0.78078,     0.78178,     0.78278,     0.78378,     0.78478,     0.78579,     0.78679,     0.78779,     0.78879,     0.78979,     0.79079,     0.79179,\n",
              "           0.79279,     0.79379,     0.79479,      0.7958,      0.7968,      0.7978,      0.7988,      0.7998,      0.8008,      0.8018,      0.8028,      0.8038,      0.8048,     0.80581,     0.80681,     0.80781,     0.80881,     0.80981,     0.81081,     0.81181,     0.81281,     0.81381,     0.81481,     0.81582,\n",
              "           0.81682,     0.81782,     0.81882,     0.81982,     0.82082,     0.82182,     0.82282,     0.82382,     0.82482,     0.82583,     0.82683,     0.82783,     0.82883,     0.82983,     0.83083,     0.83183,     0.83283,     0.83383,     0.83483,     0.83584,     0.83684,     0.83784,     0.83884,     0.83984,\n",
              "           0.84084,     0.84184,     0.84284,     0.84384,     0.84484,     0.84585,     0.84685,     0.84785,     0.84885,     0.84985,     0.85085,     0.85185,     0.85285,     0.85385,     0.85485,     0.85586,     0.85686,     0.85786,     0.85886,     0.85986,     0.86086,     0.86186,     0.86286,     0.86386,\n",
              "           0.86486,     0.86587,     0.86687,     0.86787,     0.86887,     0.86987,     0.87087,     0.87187,     0.87287,     0.87387,     0.87487,     0.87588,     0.87688,     0.87788,     0.87888,     0.87988,     0.88088,     0.88188,     0.88288,     0.88388,     0.88488,     0.88589,     0.88689,     0.88789,\n",
              "           0.88889,     0.88989,     0.89089,     0.89189,     0.89289,     0.89389,     0.89489,      0.8959,      0.8969,      0.8979,      0.8989,      0.8999,      0.9009,      0.9019,      0.9029,      0.9039,      0.9049,     0.90591,     0.90691,     0.90791,     0.90891,     0.90991,     0.91091,     0.91191,\n",
              "           0.91291,     0.91391,     0.91491,     0.91592,     0.91692,     0.91792,     0.91892,     0.91992,     0.92092,     0.92192,     0.92292,     0.92392,     0.92492,     0.92593,     0.92693,     0.92793,     0.92893,     0.92993,     0.93093,     0.93193,     0.93293,     0.93393,     0.93493,     0.93594,\n",
              "           0.93694,     0.93794,     0.93894,     0.93994,     0.94094,     0.94194,     0.94294,     0.94394,     0.94494,     0.94595,     0.94695,     0.94795,     0.94895,     0.94995,     0.95095,     0.95195,     0.95295,     0.95395,     0.95495,     0.95596,     0.95696,     0.95796,     0.95896,     0.95996,\n",
              "           0.96096,     0.96196,     0.96296,     0.96396,     0.96496,     0.96597,     0.96697,     0.96797,     0.96897,     0.96997,     0.97097,     0.97197,     0.97297,     0.97397,     0.97497,     0.97598,     0.97698,     0.97798,     0.97898,     0.97998,     0.98098,     0.98198,     0.98298,     0.98398,\n",
              "           0.98498,     0.98599,     0.98699,     0.98799,     0.98899,     0.98999,     0.99099,     0.99199,     0.99299,     0.99399,     0.99499,       0.996,       0.997,       0.998,       0.999,           1]), array([[    0.86792,     0.86792,     0.90621, ...,           0,           0,           0],\n",
              "       [        0.4,         0.4,     0.52761, ...,           0,           0,           0],\n",
              "       [    0.44387,     0.44387,     0.54732, ...,           0,           0,           0],\n",
              "       [    0.74945,     0.74945,     0.86288, ...,           0,           0,           0]]), 'Confidence', 'F1'], [array([          0,    0.001001,    0.002002,    0.003003,    0.004004,    0.005005,    0.006006,    0.007007,    0.008008,    0.009009,     0.01001,    0.011011,    0.012012,    0.013013,    0.014014,    0.015015,    0.016016,    0.017017,    0.018018,    0.019019,     0.02002,    0.021021,    0.022022,    0.023023,\n",
              "          0.024024,    0.025025,    0.026026,    0.027027,    0.028028,    0.029029,     0.03003,    0.031031,    0.032032,    0.033033,    0.034034,    0.035035,    0.036036,    0.037037,    0.038038,    0.039039,     0.04004,    0.041041,    0.042042,    0.043043,    0.044044,    0.045045,    0.046046,    0.047047,\n",
              "          0.048048,    0.049049,     0.05005,    0.051051,    0.052052,    0.053053,    0.054054,    0.055055,    0.056056,    0.057057,    0.058058,    0.059059,     0.06006,    0.061061,    0.062062,    0.063063,    0.064064,    0.065065,    0.066066,    0.067067,    0.068068,    0.069069,     0.07007,    0.071071,\n",
              "          0.072072,    0.073073,    0.074074,    0.075075,    0.076076,    0.077077,    0.078078,    0.079079,     0.08008,    0.081081,    0.082082,    0.083083,    0.084084,    0.085085,    0.086086,    0.087087,    0.088088,    0.089089,     0.09009,    0.091091,    0.092092,    0.093093,    0.094094,    0.095095,\n",
              "          0.096096,    0.097097,    0.098098,    0.099099,      0.1001,      0.1011,      0.1021,      0.1031,      0.1041,     0.10511,     0.10611,     0.10711,     0.10811,     0.10911,     0.11011,     0.11111,     0.11211,     0.11311,     0.11411,     0.11512,     0.11612,     0.11712,     0.11812,     0.11912,\n",
              "           0.12012,     0.12112,     0.12212,     0.12312,     0.12412,     0.12513,     0.12613,     0.12713,     0.12813,     0.12913,     0.13013,     0.13113,     0.13213,     0.13313,     0.13413,     0.13514,     0.13614,     0.13714,     0.13814,     0.13914,     0.14014,     0.14114,     0.14214,     0.14314,\n",
              "           0.14414,     0.14515,     0.14615,     0.14715,     0.14815,     0.14915,     0.15015,     0.15115,     0.15215,     0.15315,     0.15415,     0.15516,     0.15616,     0.15716,     0.15816,     0.15916,     0.16016,     0.16116,     0.16216,     0.16316,     0.16416,     0.16517,     0.16617,     0.16717,\n",
              "           0.16817,     0.16917,     0.17017,     0.17117,     0.17217,     0.17317,     0.17417,     0.17518,     0.17618,     0.17718,     0.17818,     0.17918,     0.18018,     0.18118,     0.18218,     0.18318,     0.18418,     0.18519,     0.18619,     0.18719,     0.18819,     0.18919,     0.19019,     0.19119,\n",
              "           0.19219,     0.19319,     0.19419,      0.1952,      0.1962,      0.1972,      0.1982,      0.1992,      0.2002,      0.2012,      0.2022,      0.2032,      0.2042,     0.20521,     0.20621,     0.20721,     0.20821,     0.20921,     0.21021,     0.21121,     0.21221,     0.21321,     0.21421,     0.21522,\n",
              "           0.21622,     0.21722,     0.21822,     0.21922,     0.22022,     0.22122,     0.22222,     0.22322,     0.22422,     0.22523,     0.22623,     0.22723,     0.22823,     0.22923,     0.23023,     0.23123,     0.23223,     0.23323,     0.23423,     0.23524,     0.23624,     0.23724,     0.23824,     0.23924,\n",
              "           0.24024,     0.24124,     0.24224,     0.24324,     0.24424,     0.24525,     0.24625,     0.24725,     0.24825,     0.24925,     0.25025,     0.25125,     0.25225,     0.25325,     0.25425,     0.25526,     0.25626,     0.25726,     0.25826,     0.25926,     0.26026,     0.26126,     0.26226,     0.26326,\n",
              "           0.26426,     0.26527,     0.26627,     0.26727,     0.26827,     0.26927,     0.27027,     0.27127,     0.27227,     0.27327,     0.27427,     0.27528,     0.27628,     0.27728,     0.27828,     0.27928,     0.28028,     0.28128,     0.28228,     0.28328,     0.28428,     0.28529,     0.28629,     0.28729,\n",
              "           0.28829,     0.28929,     0.29029,     0.29129,     0.29229,     0.29329,     0.29429,      0.2953,      0.2963,      0.2973,      0.2983,      0.2993,      0.3003,      0.3013,      0.3023,      0.3033,      0.3043,     0.30531,     0.30631,     0.30731,     0.30831,     0.30931,     0.31031,     0.31131,\n",
              "           0.31231,     0.31331,     0.31431,     0.31532,     0.31632,     0.31732,     0.31832,     0.31932,     0.32032,     0.32132,     0.32232,     0.32332,     0.32432,     0.32533,     0.32633,     0.32733,     0.32833,     0.32933,     0.33033,     0.33133,     0.33233,     0.33333,     0.33433,     0.33534,\n",
              "           0.33634,     0.33734,     0.33834,     0.33934,     0.34034,     0.34134,     0.34234,     0.34334,     0.34434,     0.34535,     0.34635,     0.34735,     0.34835,     0.34935,     0.35035,     0.35135,     0.35235,     0.35335,     0.35435,     0.35536,     0.35636,     0.35736,     0.35836,     0.35936,\n",
              "           0.36036,     0.36136,     0.36236,     0.36336,     0.36436,     0.36537,     0.36637,     0.36737,     0.36837,     0.36937,     0.37037,     0.37137,     0.37237,     0.37337,     0.37437,     0.37538,     0.37638,     0.37738,     0.37838,     0.37938,     0.38038,     0.38138,     0.38238,     0.38338,\n",
              "           0.38438,     0.38539,     0.38639,     0.38739,     0.38839,     0.38939,     0.39039,     0.39139,     0.39239,     0.39339,     0.39439,      0.3954,      0.3964,      0.3974,      0.3984,      0.3994,      0.4004,      0.4014,      0.4024,      0.4034,      0.4044,     0.40541,     0.40641,     0.40741,\n",
              "           0.40841,     0.40941,     0.41041,     0.41141,     0.41241,     0.41341,     0.41441,     0.41542,     0.41642,     0.41742,     0.41842,     0.41942,     0.42042,     0.42142,     0.42242,     0.42342,     0.42442,     0.42543,     0.42643,     0.42743,     0.42843,     0.42943,     0.43043,     0.43143,\n",
              "           0.43243,     0.43343,     0.43443,     0.43544,     0.43644,     0.43744,     0.43844,     0.43944,     0.44044,     0.44144,     0.44244,     0.44344,     0.44444,     0.44545,     0.44645,     0.44745,     0.44845,     0.44945,     0.45045,     0.45145,     0.45245,     0.45345,     0.45445,     0.45546,\n",
              "           0.45646,     0.45746,     0.45846,     0.45946,     0.46046,     0.46146,     0.46246,     0.46346,     0.46446,     0.46547,     0.46647,     0.46747,     0.46847,     0.46947,     0.47047,     0.47147,     0.47247,     0.47347,     0.47447,     0.47548,     0.47648,     0.47748,     0.47848,     0.47948,\n",
              "           0.48048,     0.48148,     0.48248,     0.48348,     0.48448,     0.48549,     0.48649,     0.48749,     0.48849,     0.48949,     0.49049,     0.49149,     0.49249,     0.49349,     0.49449,      0.4955,      0.4965,      0.4975,      0.4985,      0.4995,      0.5005,      0.5015,      0.5025,      0.5035,\n",
              "            0.5045,     0.50551,     0.50651,     0.50751,     0.50851,     0.50951,     0.51051,     0.51151,     0.51251,     0.51351,     0.51451,     0.51552,     0.51652,     0.51752,     0.51852,     0.51952,     0.52052,     0.52152,     0.52252,     0.52352,     0.52452,     0.52553,     0.52653,     0.52753,\n",
              "           0.52853,     0.52953,     0.53053,     0.53153,     0.53253,     0.53353,     0.53453,     0.53554,     0.53654,     0.53754,     0.53854,     0.53954,     0.54054,     0.54154,     0.54254,     0.54354,     0.54454,     0.54555,     0.54655,     0.54755,     0.54855,     0.54955,     0.55055,     0.55155,\n",
              "           0.55255,     0.55355,     0.55455,     0.55556,     0.55656,     0.55756,     0.55856,     0.55956,     0.56056,     0.56156,     0.56256,     0.56356,     0.56456,     0.56557,     0.56657,     0.56757,     0.56857,     0.56957,     0.57057,     0.57157,     0.57257,     0.57357,     0.57457,     0.57558,\n",
              "           0.57658,     0.57758,     0.57858,     0.57958,     0.58058,     0.58158,     0.58258,     0.58358,     0.58458,     0.58559,     0.58659,     0.58759,     0.58859,     0.58959,     0.59059,     0.59159,     0.59259,     0.59359,     0.59459,      0.5956,      0.5966,      0.5976,      0.5986,      0.5996,\n",
              "            0.6006,      0.6016,      0.6026,      0.6036,      0.6046,     0.60561,     0.60661,     0.60761,     0.60861,     0.60961,     0.61061,     0.61161,     0.61261,     0.61361,     0.61461,     0.61562,     0.61662,     0.61762,     0.61862,     0.61962,     0.62062,     0.62162,     0.62262,     0.62362,\n",
              "           0.62462,     0.62563,     0.62663,     0.62763,     0.62863,     0.62963,     0.63063,     0.63163,     0.63263,     0.63363,     0.63463,     0.63564,     0.63664,     0.63764,     0.63864,     0.63964,     0.64064,     0.64164,     0.64264,     0.64364,     0.64464,     0.64565,     0.64665,     0.64765,\n",
              "           0.64865,     0.64965,     0.65065,     0.65165,     0.65265,     0.65365,     0.65465,     0.65566,     0.65666,     0.65766,     0.65866,     0.65966,     0.66066,     0.66166,     0.66266,     0.66366,     0.66466,     0.66567,     0.66667,     0.66767,     0.66867,     0.66967,     0.67067,     0.67167,\n",
              "           0.67267,     0.67367,     0.67467,     0.67568,     0.67668,     0.67768,     0.67868,     0.67968,     0.68068,     0.68168,     0.68268,     0.68368,     0.68468,     0.68569,     0.68669,     0.68769,     0.68869,     0.68969,     0.69069,     0.69169,     0.69269,     0.69369,     0.69469,      0.6957,\n",
              "            0.6967,      0.6977,      0.6987,      0.6997,      0.7007,      0.7017,      0.7027,      0.7037,      0.7047,     0.70571,     0.70671,     0.70771,     0.70871,     0.70971,     0.71071,     0.71171,     0.71271,     0.71371,     0.71471,     0.71572,     0.71672,     0.71772,     0.71872,     0.71972,\n",
              "           0.72072,     0.72172,     0.72272,     0.72372,     0.72472,     0.72573,     0.72673,     0.72773,     0.72873,     0.72973,     0.73073,     0.73173,     0.73273,     0.73373,     0.73473,     0.73574,     0.73674,     0.73774,     0.73874,     0.73974,     0.74074,     0.74174,     0.74274,     0.74374,\n",
              "           0.74474,     0.74575,     0.74675,     0.74775,     0.74875,     0.74975,     0.75075,     0.75175,     0.75275,     0.75375,     0.75475,     0.75576,     0.75676,     0.75776,     0.75876,     0.75976,     0.76076,     0.76176,     0.76276,     0.76376,     0.76476,     0.76577,     0.76677,     0.76777,\n",
              "           0.76877,     0.76977,     0.77077,     0.77177,     0.77277,     0.77377,     0.77477,     0.77578,     0.77678,     0.77778,     0.77878,     0.77978,     0.78078,     0.78178,     0.78278,     0.78378,     0.78478,     0.78579,     0.78679,     0.78779,     0.78879,     0.78979,     0.79079,     0.79179,\n",
              "           0.79279,     0.79379,     0.79479,      0.7958,      0.7968,      0.7978,      0.7988,      0.7998,      0.8008,      0.8018,      0.8028,      0.8038,      0.8048,     0.80581,     0.80681,     0.80781,     0.80881,     0.80981,     0.81081,     0.81181,     0.81281,     0.81381,     0.81481,     0.81582,\n",
              "           0.81682,     0.81782,     0.81882,     0.81982,     0.82082,     0.82182,     0.82282,     0.82382,     0.82482,     0.82583,     0.82683,     0.82783,     0.82883,     0.82983,     0.83083,     0.83183,     0.83283,     0.83383,     0.83483,     0.83584,     0.83684,     0.83784,     0.83884,     0.83984,\n",
              "           0.84084,     0.84184,     0.84284,     0.84384,     0.84484,     0.84585,     0.84685,     0.84785,     0.84885,     0.84985,     0.85085,     0.85185,     0.85285,     0.85385,     0.85485,     0.85586,     0.85686,     0.85786,     0.85886,     0.85986,     0.86086,     0.86186,     0.86286,     0.86386,\n",
              "           0.86486,     0.86587,     0.86687,     0.86787,     0.86887,     0.86987,     0.87087,     0.87187,     0.87287,     0.87387,     0.87487,     0.87588,     0.87688,     0.87788,     0.87888,     0.87988,     0.88088,     0.88188,     0.88288,     0.88388,     0.88488,     0.88589,     0.88689,     0.88789,\n",
              "           0.88889,     0.88989,     0.89089,     0.89189,     0.89289,     0.89389,     0.89489,      0.8959,      0.8969,      0.8979,      0.8989,      0.8999,      0.9009,      0.9019,      0.9029,      0.9039,      0.9049,     0.90591,     0.90691,     0.90791,     0.90891,     0.90991,     0.91091,     0.91191,\n",
              "           0.91291,     0.91391,     0.91491,     0.91592,     0.91692,     0.91792,     0.91892,     0.91992,     0.92092,     0.92192,     0.92292,     0.92392,     0.92492,     0.92593,     0.92693,     0.92793,     0.92893,     0.92993,     0.93093,     0.93193,     0.93293,     0.93393,     0.93493,     0.93594,\n",
              "           0.93694,     0.93794,     0.93894,     0.93994,     0.94094,     0.94194,     0.94294,     0.94394,     0.94494,     0.94595,     0.94695,     0.94795,     0.94895,     0.94995,     0.95095,     0.95195,     0.95295,     0.95395,     0.95495,     0.95596,     0.95696,     0.95796,     0.95896,     0.95996,\n",
              "           0.96096,     0.96196,     0.96296,     0.96396,     0.96496,     0.96597,     0.96697,     0.96797,     0.96897,     0.96997,     0.97097,     0.97197,     0.97297,     0.97397,     0.97497,     0.97598,     0.97698,     0.97798,     0.97898,     0.97998,     0.98098,     0.98198,     0.98298,     0.98398,\n",
              "           0.98498,     0.98599,     0.98699,     0.98799,     0.98899,     0.98999,     0.99099,     0.99199,     0.99299,     0.99399,     0.99499,       0.996,       0.997,       0.998,       0.999,           1]), array([[    0.76667,     0.76667,     0.82851, ...,           1,           1,           1],\n",
              "       [    0.25408,     0.25408,     0.36679, ...,           1,           1,           1],\n",
              "       [    0.28772,     0.28772,      0.3817, ...,           1,           1,           1],\n",
              "       [    0.61011,     0.61011,     0.77626, ...,           1,           1,           1]]), 'Confidence', 'Precision'], [array([          0,    0.001001,    0.002002,    0.003003,    0.004004,    0.005005,    0.006006,    0.007007,    0.008008,    0.009009,     0.01001,    0.011011,    0.012012,    0.013013,    0.014014,    0.015015,    0.016016,    0.017017,    0.018018,    0.019019,     0.02002,    0.021021,    0.022022,    0.023023,\n",
              "          0.024024,    0.025025,    0.026026,    0.027027,    0.028028,    0.029029,     0.03003,    0.031031,    0.032032,    0.033033,    0.034034,    0.035035,    0.036036,    0.037037,    0.038038,    0.039039,     0.04004,    0.041041,    0.042042,    0.043043,    0.044044,    0.045045,    0.046046,    0.047047,\n",
              "          0.048048,    0.049049,     0.05005,    0.051051,    0.052052,    0.053053,    0.054054,    0.055055,    0.056056,    0.057057,    0.058058,    0.059059,     0.06006,    0.061061,    0.062062,    0.063063,    0.064064,    0.065065,    0.066066,    0.067067,    0.068068,    0.069069,     0.07007,    0.071071,\n",
              "          0.072072,    0.073073,    0.074074,    0.075075,    0.076076,    0.077077,    0.078078,    0.079079,     0.08008,    0.081081,    0.082082,    0.083083,    0.084084,    0.085085,    0.086086,    0.087087,    0.088088,    0.089089,     0.09009,    0.091091,    0.092092,    0.093093,    0.094094,    0.095095,\n",
              "          0.096096,    0.097097,    0.098098,    0.099099,      0.1001,      0.1011,      0.1021,      0.1031,      0.1041,     0.10511,     0.10611,     0.10711,     0.10811,     0.10911,     0.11011,     0.11111,     0.11211,     0.11311,     0.11411,     0.11512,     0.11612,     0.11712,     0.11812,     0.11912,\n",
              "           0.12012,     0.12112,     0.12212,     0.12312,     0.12412,     0.12513,     0.12613,     0.12713,     0.12813,     0.12913,     0.13013,     0.13113,     0.13213,     0.13313,     0.13413,     0.13514,     0.13614,     0.13714,     0.13814,     0.13914,     0.14014,     0.14114,     0.14214,     0.14314,\n",
              "           0.14414,     0.14515,     0.14615,     0.14715,     0.14815,     0.14915,     0.15015,     0.15115,     0.15215,     0.15315,     0.15415,     0.15516,     0.15616,     0.15716,     0.15816,     0.15916,     0.16016,     0.16116,     0.16216,     0.16316,     0.16416,     0.16517,     0.16617,     0.16717,\n",
              "           0.16817,     0.16917,     0.17017,     0.17117,     0.17217,     0.17317,     0.17417,     0.17518,     0.17618,     0.17718,     0.17818,     0.17918,     0.18018,     0.18118,     0.18218,     0.18318,     0.18418,     0.18519,     0.18619,     0.18719,     0.18819,     0.18919,     0.19019,     0.19119,\n",
              "           0.19219,     0.19319,     0.19419,      0.1952,      0.1962,      0.1972,      0.1982,      0.1992,      0.2002,      0.2012,      0.2022,      0.2032,      0.2042,     0.20521,     0.20621,     0.20721,     0.20821,     0.20921,     0.21021,     0.21121,     0.21221,     0.21321,     0.21421,     0.21522,\n",
              "           0.21622,     0.21722,     0.21822,     0.21922,     0.22022,     0.22122,     0.22222,     0.22322,     0.22422,     0.22523,     0.22623,     0.22723,     0.22823,     0.22923,     0.23023,     0.23123,     0.23223,     0.23323,     0.23423,     0.23524,     0.23624,     0.23724,     0.23824,     0.23924,\n",
              "           0.24024,     0.24124,     0.24224,     0.24324,     0.24424,     0.24525,     0.24625,     0.24725,     0.24825,     0.24925,     0.25025,     0.25125,     0.25225,     0.25325,     0.25425,     0.25526,     0.25626,     0.25726,     0.25826,     0.25926,     0.26026,     0.26126,     0.26226,     0.26326,\n",
              "           0.26426,     0.26527,     0.26627,     0.26727,     0.26827,     0.26927,     0.27027,     0.27127,     0.27227,     0.27327,     0.27427,     0.27528,     0.27628,     0.27728,     0.27828,     0.27928,     0.28028,     0.28128,     0.28228,     0.28328,     0.28428,     0.28529,     0.28629,     0.28729,\n",
              "           0.28829,     0.28929,     0.29029,     0.29129,     0.29229,     0.29329,     0.29429,      0.2953,      0.2963,      0.2973,      0.2983,      0.2993,      0.3003,      0.3013,      0.3023,      0.3033,      0.3043,     0.30531,     0.30631,     0.30731,     0.30831,     0.30931,     0.31031,     0.31131,\n",
              "           0.31231,     0.31331,     0.31431,     0.31532,     0.31632,     0.31732,     0.31832,     0.31932,     0.32032,     0.32132,     0.32232,     0.32332,     0.32432,     0.32533,     0.32633,     0.32733,     0.32833,     0.32933,     0.33033,     0.33133,     0.33233,     0.33333,     0.33433,     0.33534,\n",
              "           0.33634,     0.33734,     0.33834,     0.33934,     0.34034,     0.34134,     0.34234,     0.34334,     0.34434,     0.34535,     0.34635,     0.34735,     0.34835,     0.34935,     0.35035,     0.35135,     0.35235,     0.35335,     0.35435,     0.35536,     0.35636,     0.35736,     0.35836,     0.35936,\n",
              "           0.36036,     0.36136,     0.36236,     0.36336,     0.36436,     0.36537,     0.36637,     0.36737,     0.36837,     0.36937,     0.37037,     0.37137,     0.37237,     0.37337,     0.37437,     0.37538,     0.37638,     0.37738,     0.37838,     0.37938,     0.38038,     0.38138,     0.38238,     0.38338,\n",
              "           0.38438,     0.38539,     0.38639,     0.38739,     0.38839,     0.38939,     0.39039,     0.39139,     0.39239,     0.39339,     0.39439,      0.3954,      0.3964,      0.3974,      0.3984,      0.3994,      0.4004,      0.4014,      0.4024,      0.4034,      0.4044,     0.40541,     0.40641,     0.40741,\n",
              "           0.40841,     0.40941,     0.41041,     0.41141,     0.41241,     0.41341,     0.41441,     0.41542,     0.41642,     0.41742,     0.41842,     0.41942,     0.42042,     0.42142,     0.42242,     0.42342,     0.42442,     0.42543,     0.42643,     0.42743,     0.42843,     0.42943,     0.43043,     0.43143,\n",
              "           0.43243,     0.43343,     0.43443,     0.43544,     0.43644,     0.43744,     0.43844,     0.43944,     0.44044,     0.44144,     0.44244,     0.44344,     0.44444,     0.44545,     0.44645,     0.44745,     0.44845,     0.44945,     0.45045,     0.45145,     0.45245,     0.45345,     0.45445,     0.45546,\n",
              "           0.45646,     0.45746,     0.45846,     0.45946,     0.46046,     0.46146,     0.46246,     0.46346,     0.46446,     0.46547,     0.46647,     0.46747,     0.46847,     0.46947,     0.47047,     0.47147,     0.47247,     0.47347,     0.47447,     0.47548,     0.47648,     0.47748,     0.47848,     0.47948,\n",
              "           0.48048,     0.48148,     0.48248,     0.48348,     0.48448,     0.48549,     0.48649,     0.48749,     0.48849,     0.48949,     0.49049,     0.49149,     0.49249,     0.49349,     0.49449,      0.4955,      0.4965,      0.4975,      0.4985,      0.4995,      0.5005,      0.5015,      0.5025,      0.5035,\n",
              "            0.5045,     0.50551,     0.50651,     0.50751,     0.50851,     0.50951,     0.51051,     0.51151,     0.51251,     0.51351,     0.51451,     0.51552,     0.51652,     0.51752,     0.51852,     0.51952,     0.52052,     0.52152,     0.52252,     0.52352,     0.52452,     0.52553,     0.52653,     0.52753,\n",
              "           0.52853,     0.52953,     0.53053,     0.53153,     0.53253,     0.53353,     0.53453,     0.53554,     0.53654,     0.53754,     0.53854,     0.53954,     0.54054,     0.54154,     0.54254,     0.54354,     0.54454,     0.54555,     0.54655,     0.54755,     0.54855,     0.54955,     0.55055,     0.55155,\n",
              "           0.55255,     0.55355,     0.55455,     0.55556,     0.55656,     0.55756,     0.55856,     0.55956,     0.56056,     0.56156,     0.56256,     0.56356,     0.56456,     0.56557,     0.56657,     0.56757,     0.56857,     0.56957,     0.57057,     0.57157,     0.57257,     0.57357,     0.57457,     0.57558,\n",
              "           0.57658,     0.57758,     0.57858,     0.57958,     0.58058,     0.58158,     0.58258,     0.58358,     0.58458,     0.58559,     0.58659,     0.58759,     0.58859,     0.58959,     0.59059,     0.59159,     0.59259,     0.59359,     0.59459,      0.5956,      0.5966,      0.5976,      0.5986,      0.5996,\n",
              "            0.6006,      0.6016,      0.6026,      0.6036,      0.6046,     0.60561,     0.60661,     0.60761,     0.60861,     0.60961,     0.61061,     0.61161,     0.61261,     0.61361,     0.61461,     0.61562,     0.61662,     0.61762,     0.61862,     0.61962,     0.62062,     0.62162,     0.62262,     0.62362,\n",
              "           0.62462,     0.62563,     0.62663,     0.62763,     0.62863,     0.62963,     0.63063,     0.63163,     0.63263,     0.63363,     0.63463,     0.63564,     0.63664,     0.63764,     0.63864,     0.63964,     0.64064,     0.64164,     0.64264,     0.64364,     0.64464,     0.64565,     0.64665,     0.64765,\n",
              "           0.64865,     0.64965,     0.65065,     0.65165,     0.65265,     0.65365,     0.65465,     0.65566,     0.65666,     0.65766,     0.65866,     0.65966,     0.66066,     0.66166,     0.66266,     0.66366,     0.66466,     0.66567,     0.66667,     0.66767,     0.66867,     0.66967,     0.67067,     0.67167,\n",
              "           0.67267,     0.67367,     0.67467,     0.67568,     0.67668,     0.67768,     0.67868,     0.67968,     0.68068,     0.68168,     0.68268,     0.68368,     0.68468,     0.68569,     0.68669,     0.68769,     0.68869,     0.68969,     0.69069,     0.69169,     0.69269,     0.69369,     0.69469,      0.6957,\n",
              "            0.6967,      0.6977,      0.6987,      0.6997,      0.7007,      0.7017,      0.7027,      0.7037,      0.7047,     0.70571,     0.70671,     0.70771,     0.70871,     0.70971,     0.71071,     0.71171,     0.71271,     0.71371,     0.71471,     0.71572,     0.71672,     0.71772,     0.71872,     0.71972,\n",
              "           0.72072,     0.72172,     0.72272,     0.72372,     0.72472,     0.72573,     0.72673,     0.72773,     0.72873,     0.72973,     0.73073,     0.73173,     0.73273,     0.73373,     0.73473,     0.73574,     0.73674,     0.73774,     0.73874,     0.73974,     0.74074,     0.74174,     0.74274,     0.74374,\n",
              "           0.74474,     0.74575,     0.74675,     0.74775,     0.74875,     0.74975,     0.75075,     0.75175,     0.75275,     0.75375,     0.75475,     0.75576,     0.75676,     0.75776,     0.75876,     0.75976,     0.76076,     0.76176,     0.76276,     0.76376,     0.76476,     0.76577,     0.76677,     0.76777,\n",
              "           0.76877,     0.76977,     0.77077,     0.77177,     0.77277,     0.77377,     0.77477,     0.77578,     0.77678,     0.77778,     0.77878,     0.77978,     0.78078,     0.78178,     0.78278,     0.78378,     0.78478,     0.78579,     0.78679,     0.78779,     0.78879,     0.78979,     0.79079,     0.79179,\n",
              "           0.79279,     0.79379,     0.79479,      0.7958,      0.7968,      0.7978,      0.7988,      0.7998,      0.8008,      0.8018,      0.8028,      0.8038,      0.8048,     0.80581,     0.80681,     0.80781,     0.80881,     0.80981,     0.81081,     0.81181,     0.81281,     0.81381,     0.81481,     0.81582,\n",
              "           0.81682,     0.81782,     0.81882,     0.81982,     0.82082,     0.82182,     0.82282,     0.82382,     0.82482,     0.82583,     0.82683,     0.82783,     0.82883,     0.82983,     0.83083,     0.83183,     0.83283,     0.83383,     0.83483,     0.83584,     0.83684,     0.83784,     0.83884,     0.83984,\n",
              "           0.84084,     0.84184,     0.84284,     0.84384,     0.84484,     0.84585,     0.84685,     0.84785,     0.84885,     0.84985,     0.85085,     0.85185,     0.85285,     0.85385,     0.85485,     0.85586,     0.85686,     0.85786,     0.85886,     0.85986,     0.86086,     0.86186,     0.86286,     0.86386,\n",
              "           0.86486,     0.86587,     0.86687,     0.86787,     0.86887,     0.86987,     0.87087,     0.87187,     0.87287,     0.87387,     0.87487,     0.87588,     0.87688,     0.87788,     0.87888,     0.87988,     0.88088,     0.88188,     0.88288,     0.88388,     0.88488,     0.88589,     0.88689,     0.88789,\n",
              "           0.88889,     0.88989,     0.89089,     0.89189,     0.89289,     0.89389,     0.89489,      0.8959,      0.8969,      0.8979,      0.8989,      0.8999,      0.9009,      0.9019,      0.9029,      0.9039,      0.9049,     0.90591,     0.90691,     0.90791,     0.90891,     0.90991,     0.91091,     0.91191,\n",
              "           0.91291,     0.91391,     0.91491,     0.91592,     0.91692,     0.91792,     0.91892,     0.91992,     0.92092,     0.92192,     0.92292,     0.92392,     0.92492,     0.92593,     0.92693,     0.92793,     0.92893,     0.92993,     0.93093,     0.93193,     0.93293,     0.93393,     0.93493,     0.93594,\n",
              "           0.93694,     0.93794,     0.93894,     0.93994,     0.94094,     0.94194,     0.94294,     0.94394,     0.94494,     0.94595,     0.94695,     0.94795,     0.94895,     0.94995,     0.95095,     0.95195,     0.95295,     0.95395,     0.95495,     0.95596,     0.95696,     0.95796,     0.95896,     0.95996,\n",
              "           0.96096,     0.96196,     0.96296,     0.96396,     0.96496,     0.96597,     0.96697,     0.96797,     0.96897,     0.96997,     0.97097,     0.97197,     0.97297,     0.97397,     0.97497,     0.97598,     0.97698,     0.97798,     0.97898,     0.97998,     0.98098,     0.98198,     0.98298,     0.98398,\n",
              "           0.98498,     0.98599,     0.98699,     0.98799,     0.98899,     0.98999,     0.99099,     0.99199,     0.99299,     0.99399,     0.99499,       0.996,       0.997,       0.998,       0.999,           1]), array([[          1,           1,           1, ...,           0,           0,           0],\n",
              "       [     0.9396,      0.9396,      0.9396, ...,           0,           0,           0],\n",
              "       [    0.97068,     0.97068,     0.96682, ...,           0,           0,           0],\n",
              "       [    0.97126,     0.97126,     0.97126, ...,           0,           0,           0]]), 'Confidence', 'Recall']]\n",
              "fitness: np.float64(0.7842227063900047)\n",
              "keys: ['metrics/precision(B)', 'metrics/recall(B)', 'metrics/mAP50(B)', 'metrics/mAP50-95(B)']\n",
              "maps: array([    0.93238,     0.64352,     0.61738,     0.86591])\n",
              "names: {0: 'mouth', 1: 'cup', 2: 'pill', 3: 'hand'}\n",
              "nt_per_class: array([ 138,  149, 3104,  174])\n",
              "nt_per_image: array([138, 115, 369, 173])\n",
              "results_dict: {'metrics/precision(B)': np.float64(0.934551029596715), 'metrics/recall(B)': np.float64(0.9242700039679265), 'metrics/mAP50(B)': np.float64(0.9590508670052182), 'metrics/mAP50-95(B)': np.float64(0.7647973552105365), 'fitness': np.float64(0.7842227063900047)}\n",
              "speed: {'preprocess': 0.27480713784246663, 'inference': 5.109072342105022, 'loss': 0.006806511260664796, 'postprocess': 1.3638210238102253}\n",
              "stats: {'tp': [], 'conf': [], 'pred_cls': [], 'target_cls': [], 'target_img': []}\n",
              "task: 'detect'"
            ]
          },
          "metadata": {},
          "execution_count": 10
        }
      ]
    },
    {
      "cell_type": "code",
      "source": [
        "# 모델 성능 평가 ===\n",
        "metrics = model.val()\n",
        "print(f\"📊 mAP@0.5: {metrics.box.map50:.4f}\")\n",
        "print(f\"📊 mAP@.5:.95: {metrics.box.map:.4f}\")\n"
      ],
      "metadata": {
        "id": "N6VtHEy4G-Yd",
        "colab": {
          "base_uri": "https://localhost:8080/"
        },
        "outputId": "5aa39c04-a86f-4207-f745-99b0c1830ab5"
      },
      "execution_count": null,
      "outputs": [
        {
          "output_type": "stream",
          "name": "stdout",
          "text": [
            "Ultralytics 8.3.154 🚀 Python-3.11.13 torch-2.6.0+cu124 CUDA:0 (NVIDIA A100-SXM4-40GB, 40507MiB)\n",
            "Model summary (fused): 112 layers, 43,609,692 parameters, 0 gradients, 164.8 GFLOPs\n",
            "\u001b[34m\u001b[1mval: \u001b[0mFast image access ✅ (ping: 0.0±0.0 ms, read: 1772.7±533.8 MB/s, size: 60.6 KB)\n"
          ]
        },
        {
          "output_type": "stream",
          "name": "stderr",
          "text": [
            "\u001b[34m\u001b[1mval: \u001b[0mScanning /content/dataset_combined/valid/labels.cache... 798 images, 3 backgrounds, 0 corrupt: 100%|██████████| 798/798 [00:00<?, ?it/s]"
          ]
        },
        {
          "output_type": "stream",
          "name": "stdout",
          "text": [
            "WARNING ⚠️ Box and segment counts should be equal, but got len(segments) = 68, len(boxes) = 3565. To resolve this only boxes will be used and all segments will be removed. To avoid this please supply either a detect or segment dataset, not a detect-segment mixed dataset.\n",
            "WARNING ⚠️ cache='ram' may produce non-deterministic training results. Consider cache='disk' as a deterministic alternative if your disk space allows.\n"
          ]
        },
        {
          "output_type": "stream",
          "name": "stderr",
          "text": [
            "\n",
            "\u001b[34m\u001b[1mval: \u001b[0mCaching images (2.1GB RAM): 100%|██████████| 798/798 [00:00<00:00, 1225.95it/s]\n",
            "                 Class     Images  Instances      Box(P          R      mAP50  mAP50-95): 100%|██████████| 50/50 [00:10<00:00,  4.69it/s]\n"
          ]
        },
        {
          "output_type": "stream",
          "name": "stdout",
          "text": [
            "                   all        798       3565      0.935      0.924      0.959      0.765\n",
            "                 mouth        138        138      0.957      0.993       0.99      0.933\n",
            "                   cup        115        149      0.869      0.913      0.927      0.643\n",
            "                  pill        369       3104      0.912      0.895       0.94      0.618\n",
            "                  hand        173        174          1      0.896      0.979      0.867\n",
            "Speed: 0.8ms preprocess, 8.0ms inference, 0.0ms loss, 0.9ms postprocess per image\n",
            "Results saved to \u001b[1mruns/detect/best.pt2\u001b[0m\n",
            "📊 mAP@0.5: 0.9590\n",
            "📊 mAP@.5:.95: 0.7651\n"
          ]
        }
      ]
    },
    {
      "cell_type": "code",
      "source": [
        "# 동영상 업로드 및 테스트\n",
        "from google.colab import files\n",
        "\n",
        "uploaded = files.upload()\n",
        "video_path = list(uploaded.keys())[0]  # 예: \"pill_test.mp4\"\n"
      ],
      "metadata": {
        "id": "qoCjeaO4G-aj",
        "colab": {
          "base_uri": "https://localhost:8080/",
          "height": 78
        },
        "outputId": "9de04ba4-248d-42c6-fb15-6c290bfd38ea"
      },
      "execution_count": null,
      "outputs": [
        {
          "output_type": "display_data",
          "data": {
            "text/plain": [
              "<IPython.core.display.HTML object>"
            ],
            "text/html": [
              "\n",
              "     <input type=\"file\" id=\"files-19ad6fe3-5bbb-4c6d-b81b-1f29c706db4f\" name=\"files[]\" multiple disabled\n",
              "        style=\"border:none\" />\n",
              "     <output id=\"result-19ad6fe3-5bbb-4c6d-b81b-1f29c706db4f\">\n",
              "      Upload widget is only available when the cell has been executed in the\n",
              "      current browser session. Please rerun this cell to enable.\n",
              "      </output>\n",
              "      <script>// Copyright 2017 Google LLC\n",
              "//\n",
              "// Licensed under the Apache License, Version 2.0 (the \"License\");\n",
              "// you may not use this file except in compliance with the License.\n",
              "// You may obtain a copy of the License at\n",
              "//\n",
              "//      http://www.apache.org/licenses/LICENSE-2.0\n",
              "//\n",
              "// Unless required by applicable law or agreed to in writing, software\n",
              "// distributed under the License is distributed on an \"AS IS\" BASIS,\n",
              "// WITHOUT WARRANTIES OR CONDITIONS OF ANY KIND, either express or implied.\n",
              "// See the License for the specific language governing permissions and\n",
              "// limitations under the License.\n",
              "\n",
              "/**\n",
              " * @fileoverview Helpers for google.colab Python module.\n",
              " */\n",
              "(function(scope) {\n",
              "function span(text, styleAttributes = {}) {\n",
              "  const element = document.createElement('span');\n",
              "  element.textContent = text;\n",
              "  for (const key of Object.keys(styleAttributes)) {\n",
              "    element.style[key] = styleAttributes[key];\n",
              "  }\n",
              "  return element;\n",
              "}\n",
              "\n",
              "// Max number of bytes which will be uploaded at a time.\n",
              "const MAX_PAYLOAD_SIZE = 100 * 1024;\n",
              "\n",
              "function _uploadFiles(inputId, outputId) {\n",
              "  const steps = uploadFilesStep(inputId, outputId);\n",
              "  const outputElement = document.getElementById(outputId);\n",
              "  // Cache steps on the outputElement to make it available for the next call\n",
              "  // to uploadFilesContinue from Python.\n",
              "  outputElement.steps = steps;\n",
              "\n",
              "  return _uploadFilesContinue(outputId);\n",
              "}\n",
              "\n",
              "// This is roughly an async generator (not supported in the browser yet),\n",
              "// where there are multiple asynchronous steps and the Python side is going\n",
              "// to poll for completion of each step.\n",
              "// This uses a Promise to block the python side on completion of each step,\n",
              "// then passes the result of the previous step as the input to the next step.\n",
              "function _uploadFilesContinue(outputId) {\n",
              "  const outputElement = document.getElementById(outputId);\n",
              "  const steps = outputElement.steps;\n",
              "\n",
              "  const next = steps.next(outputElement.lastPromiseValue);\n",
              "  return Promise.resolve(next.value.promise).then((value) => {\n",
              "    // Cache the last promise value to make it available to the next\n",
              "    // step of the generator.\n",
              "    outputElement.lastPromiseValue = value;\n",
              "    return next.value.response;\n",
              "  });\n",
              "}\n",
              "\n",
              "/**\n",
              " * Generator function which is called between each async step of the upload\n",
              " * process.\n",
              " * @param {string} inputId Element ID of the input file picker element.\n",
              " * @param {string} outputId Element ID of the output display.\n",
              " * @return {!Iterable<!Object>} Iterable of next steps.\n",
              " */\n",
              "function* uploadFilesStep(inputId, outputId) {\n",
              "  const inputElement = document.getElementById(inputId);\n",
              "  inputElement.disabled = false;\n",
              "\n",
              "  const outputElement = document.getElementById(outputId);\n",
              "  outputElement.innerHTML = '';\n",
              "\n",
              "  const pickedPromise = new Promise((resolve) => {\n",
              "    inputElement.addEventListener('change', (e) => {\n",
              "      resolve(e.target.files);\n",
              "    });\n",
              "  });\n",
              "\n",
              "  const cancel = document.createElement('button');\n",
              "  inputElement.parentElement.appendChild(cancel);\n",
              "  cancel.textContent = 'Cancel upload';\n",
              "  const cancelPromise = new Promise((resolve) => {\n",
              "    cancel.onclick = () => {\n",
              "      resolve(null);\n",
              "    };\n",
              "  });\n",
              "\n",
              "  // Wait for the user to pick the files.\n",
              "  const files = yield {\n",
              "    promise: Promise.race([pickedPromise, cancelPromise]),\n",
              "    response: {\n",
              "      action: 'starting',\n",
              "    }\n",
              "  };\n",
              "\n",
              "  cancel.remove();\n",
              "\n",
              "  // Disable the input element since further picks are not allowed.\n",
              "  inputElement.disabled = true;\n",
              "\n",
              "  if (!files) {\n",
              "    return {\n",
              "      response: {\n",
              "        action: 'complete',\n",
              "      }\n",
              "    };\n",
              "  }\n",
              "\n",
              "  for (const file of files) {\n",
              "    const li = document.createElement('li');\n",
              "    li.append(span(file.name, {fontWeight: 'bold'}));\n",
              "    li.append(span(\n",
              "        `(${file.type || 'n/a'}) - ${file.size} bytes, ` +\n",
              "        `last modified: ${\n",
              "            file.lastModifiedDate ? file.lastModifiedDate.toLocaleDateString() :\n",
              "                                    'n/a'} - `));\n",
              "    const percent = span('0% done');\n",
              "    li.appendChild(percent);\n",
              "\n",
              "    outputElement.appendChild(li);\n",
              "\n",
              "    const fileDataPromise = new Promise((resolve) => {\n",
              "      const reader = new FileReader();\n",
              "      reader.onload = (e) => {\n",
              "        resolve(e.target.result);\n",
              "      };\n",
              "      reader.readAsArrayBuffer(file);\n",
              "    });\n",
              "    // Wait for the data to be ready.\n",
              "    let fileData = yield {\n",
              "      promise: fileDataPromise,\n",
              "      response: {\n",
              "        action: 'continue',\n",
              "      }\n",
              "    };\n",
              "\n",
              "    // Use a chunked sending to avoid message size limits. See b/62115660.\n",
              "    let position = 0;\n",
              "    do {\n",
              "      const length = Math.min(fileData.byteLength - position, MAX_PAYLOAD_SIZE);\n",
              "      const chunk = new Uint8Array(fileData, position, length);\n",
              "      position += length;\n",
              "\n",
              "      const base64 = btoa(String.fromCharCode.apply(null, chunk));\n",
              "      yield {\n",
              "        response: {\n",
              "          action: 'append',\n",
              "          file: file.name,\n",
              "          data: base64,\n",
              "        },\n",
              "      };\n",
              "\n",
              "      let percentDone = fileData.byteLength === 0 ?\n",
              "          100 :\n",
              "          Math.round((position / fileData.byteLength) * 100);\n",
              "      percent.textContent = `${percentDone}% done`;\n",
              "\n",
              "    } while (position < fileData.byteLength);\n",
              "  }\n",
              "\n",
              "  // All done.\n",
              "  yield {\n",
              "    response: {\n",
              "      action: 'complete',\n",
              "    }\n",
              "  };\n",
              "}\n",
              "\n",
              "scope.google = scope.google || {};\n",
              "scope.google.colab = scope.google.colab || {};\n",
              "scope.google.colab._files = {\n",
              "  _uploadFiles,\n",
              "  _uploadFilesContinue,\n",
              "};\n",
              "})(self);\n",
              "</script> "
            ]
          },
          "metadata": {}
        },
        {
          "output_type": "stream",
          "name": "stdout",
          "text": [
            "Saving 민지.mp4 to 민지 (1).mp4\n"
          ]
        }
      ]
    },
    {
      "cell_type": "code",
      "source": [
        "from ultralytics import YOLO\n",
        "import cv2\n",
        "import os\n",
        "\n",
        "# 모델 로드\n",
        "model = YOLO('/content/runs/detect/best.pt/weights/best.pt')\n",
        "\n",
        "# 결과 저장할 폴더 설정\n",
        "save_dir = \"/content/predicted_frames\"\n",
        "os.makedirs(save_dir, exist_ok=True)\n",
        "\n",
        "# 감지 조건 변수\n",
        "pill_detected = False\n",
        "hand_detected = False\n",
        "mouth_detected = False\n",
        "cup_detected = False\n",
        "\n",
        "# 영상 예측 (conf, iou 조건 포함 + stream=True로 프레임 반복 가능하게)\n",
        "results = model.predict(\n",
        "    source=video_path,\n",
        "    conf=0.25,              # 신뢰도 낮춰서 더 많이 보게 함\n",
        "    iou=0.3,                # 겹침 억제를 줄임\n",
        "    imgsz=1280,             # 해상도 높이면 더 정확하게\n",
        "    stream=True,\n",
        "    agnostic_nms=True,     # 클래스 관계없이 박스 유지\n",
        "    max_det=1000           # 한 프레임에 최대 1000개까지 탐지\n",
        ")\n",
        "\n",
        "\n",
        "frame_idx = 0\n",
        "for result in results:\n",
        "    classes = [model.names[int(cls)] for cls in result.boxes.cls]\n",
        "\n",
        "    if \"pill\" in classes:\n",
        "        pill_detected = True\n",
        "    if \"hand\" in classes:\n",
        "        hand_detected = True\n",
        "    if \"mouth\" in classes:\n",
        "        mouth_detected = True\n",
        "    if \"cup\" in classes:\n",
        "        cup_detected = True\n",
        "\n",
        "    # 이미지 프레임 얻기\n",
        "    frame = result.orig_img.copy()\n",
        "\n",
        "    # 조건 판단\n",
        "    if all([pill_detected, hand_detected, mouth_detected, cup_detected]):\n",
        "        text = \"💊 복약 인식 완료\"\n",
        "        color = (0, 255, 0)\n",
        "    else:\n",
        "        text = \"🔍 조건 불충족\"\n",
        "        color = (0, 0, 255)\n",
        "\n",
        "    # 텍스트 오버레이\n",
        "    cv2.putText(frame, text, (10, 30), cv2.FONT_HERSHEY_SIMPLEX,\n",
        "                1, color, 2, cv2.LINE_AA)\n",
        "\n",
        "    # 저장\n",
        "    frame_path = os.path.join(save_dir, f\"frame_{frame_idx:04d}.jpg\")\n",
        "    cv2.imwrite(frame_path, frame)\n",
        "    frame_idx += 1\n",
        "\n",
        "print(\"✅ 프레임 저장 완료. 텍스트가 포함된 프레임은 /content/predicted_frames 디렉토리에 저장됨\")\n",
        "\n",
        "# 저장된 프레임을 하나의 영상으로 병합\n",
        "output_video_path = \"/content/predicted_output.mp4\"\n",
        "frame_list = sorted([f for f in os.listdir(save_dir) if f.endswith('.jpg')])\n",
        "\n",
        "# 프레임 사이즈 얻기\n",
        "sample_frame = cv2.imread(os.path.join(save_dir, frame_list[0]))\n",
        "height, width, _ = sample_frame.shape\n",
        "\n",
        "# 비디오 저장 설정\n",
        "fourcc = cv2.VideoWriter_fourcc(*'mp4v')  # 또는 'avc1', 'XVID'\n",
        "fps = 20  # 원본 영상과 동일하게 맞추면 좋음\n",
        "video_writer = cv2.VideoWriter(output_video_path, fourcc, fps, (width, height))\n",
        "\n",
        "# 프레임을 순서대로 영상에 추가\n",
        "for frame_name in frame_list:\n",
        "    frame = cv2.imread(os.path.join(save_dir, frame_name))\n",
        "    video_writer.write(frame)\n",
        "\n",
        "video_writer.release()\n",
        "print(f\"🎥 최종 영상 저장 완료: {output_video_path}\")\n"
      ],
      "metadata": {
        "id": "oCDPQh2SG-cz",
        "colab": {
          "base_uri": "https://localhost:8080/"
        },
        "outputId": "feccb369-5926-49e4-d095-f93ef6cd1ff6"
      },
      "execution_count": null,
      "outputs": [
        {
          "output_type": "stream",
          "name": "stdout",
          "text": [
            "\n",
            "video 1/1 (frame 1/310) /content/민지 (1).mp4: 1280x608 1 cup, 13.1ms\n",
            "video 1/1 (frame 2/310) /content/민지 (1).mp4: 1280x608 1 cup, 12.6ms\n",
            "video 1/1 (frame 3/310) /content/민지 (1).mp4: 1280x608 1 cup, 17.0ms\n",
            "video 1/1 (frame 4/310) /content/민지 (1).mp4: 1280x608 1 cup, 15.4ms\n",
            "video 1/1 (frame 5/310) /content/민지 (1).mp4: 1280x608 1 cup, 12.2ms\n",
            "video 1/1 (frame 6/310) /content/민지 (1).mp4: 1280x608 1 cup, 12.1ms\n",
            "video 1/1 (frame 7/310) /content/민지 (1).mp4: 1280x608 1 cup, 12.5ms\n",
            "video 1/1 (frame 8/310) /content/민지 (1).mp4: 1280x608 1 cup, 12.6ms\n",
            "video 1/1 (frame 9/310) /content/민지 (1).mp4: 1280x608 1 cup, 12.2ms\n",
            "video 1/1 (frame 10/310) /content/민지 (1).mp4: 1280x608 1 cup, 12.3ms\n",
            "video 1/1 (frame 11/310) /content/민지 (1).mp4: 1280x608 1 cup, 16.6ms\n",
            "video 1/1 (frame 12/310) /content/민지 (1).mp4: 1280x608 1 cup, 12.1ms\n",
            "video 1/1 (frame 13/310) /content/민지 (1).mp4: 1280x608 1 cup, 1 pill, 12.2ms\n",
            "video 1/1 (frame 14/310) /content/민지 (1).mp4: 1280x608 1 cup, 1 pill, 12.3ms\n",
            "video 1/1 (frame 15/310) /content/민지 (1).mp4: 1280x608 1 cup, 1 pill, 12.2ms\n",
            "video 1/1 (frame 16/310) /content/민지 (1).mp4: 1280x608 1 cup, 1 pill, 12.1ms\n",
            "video 1/1 (frame 17/310) /content/민지 (1).mp4: 1280x608 1 cup, 2 pills, 16.4ms\n",
            "video 1/1 (frame 18/310) /content/민지 (1).mp4: 1280x608 1 cup, 1 pill, 12.3ms\n",
            "video 1/1 (frame 19/310) /content/민지 (1).mp4: 1280x608 1 cup, 1 pill, 12.0ms\n",
            "video 1/1 (frame 20/310) /content/민지 (1).mp4: 1280x608 1 cup, 1 pill, 12.1ms\n",
            "video 1/1 (frame 21/310) /content/민지 (1).mp4: 1280x608 1 cup, 1 pill, 13.1ms\n",
            "video 1/1 (frame 22/310) /content/민지 (1).mp4: 1280x608 1 cup, 2 pills, 12.1ms\n",
            "video 1/1 (frame 23/310) /content/민지 (1).mp4: 1280x608 1 cup, 2 pills, 16.7ms\n",
            "video 1/1 (frame 24/310) /content/민지 (1).mp4: 1280x608 1 cup, 1 pill, 13.2ms\n",
            "video 1/1 (frame 25/310) /content/민지 (1).mp4: 1280x608 1 cup, 3 pills, 12.4ms\n",
            "video 1/1 (frame 26/310) /content/민지 (1).mp4: 1280x608 1 cup, 1 pill, 12.3ms\n",
            "video 1/1 (frame 27/310) /content/민지 (1).mp4: 1280x608 1 cup, 2 pills, 12.4ms\n",
            "video 1/1 (frame 28/310) /content/민지 (1).mp4: 1280x608 1 cup, 12.7ms\n",
            "video 1/1 (frame 29/310) /content/민지 (1).mp4: 1280x608 1 cup, 16.7ms\n",
            "video 1/1 (frame 30/310) /content/민지 (1).mp4: 1280x608 1 cup, 12.2ms\n",
            "video 1/1 (frame 31/310) /content/민지 (1).mp4: 1280x608 1 cup, 12.2ms\n",
            "video 1/1 (frame 32/310) /content/민지 (1).mp4: 1280x608 1 mouth, 1 cup, 1 pill, 13.5ms\n",
            "video 1/1 (frame 33/310) /content/민지 (1).mp4: 1280x608 1 mouth, 1 cup, 1 pill, 12.1ms\n",
            "video 1/1 (frame 34/310) /content/민지 (1).mp4: 1280x608 1 mouth, 1 cup, 1 pill, 12.3ms\n",
            "video 1/1 (frame 35/310) /content/민지 (1).mp4: 1280x608 1 mouth, 1 cup, 1 pill, 16.7ms\n",
            "video 1/1 (frame 36/310) /content/민지 (1).mp4: 1280x608 1 cup, 1 pill, 12.3ms\n",
            "video 1/1 (frame 37/310) /content/민지 (1).mp4: 1280x608 1 cup, 1 pill, 12.4ms\n",
            "video 1/1 (frame 38/310) /content/민지 (1).mp4: 1280x608 1 pill, 12.9ms\n",
            "video 1/1 (frame 39/310) /content/민지 (1).mp4: 1280x608 1 pill, 12.4ms\n",
            "video 1/1 (frame 40/310) /content/민지 (1).mp4: 1280x608 1 mouth, 1 pill, 12.3ms\n",
            "video 1/1 (frame 41/310) /content/민지 (1).mp4: 1280x608 1 mouth, 1 cup, 1 pill, 16.7ms\n",
            "video 1/1 (frame 42/310) /content/민지 (1).mp4: 1280x608 1 mouth, 1 cup, 1 pill, 12.4ms\n",
            "video 1/1 (frame 43/310) /content/민지 (1).mp4: 1280x608 1 cup, 1 pill, 12.2ms\n",
            "video 1/1 (frame 44/310) /content/민지 (1).mp4: 1280x608 1 mouth, 1 cup, 1 pill, 12.0ms\n",
            "video 1/1 (frame 45/310) /content/민지 (1).mp4: 1280x608 1 mouth, 1 cup, 1 pill, 12.2ms\n",
            "video 1/1 (frame 46/310) /content/민지 (1).mp4: 1280x608 1 pill, 12.2ms\n",
            "video 1/1 (frame 47/310) /content/민지 (1).mp4: 1280x608 1 cup, 1 pill, 16.2ms\n",
            "video 1/1 (frame 48/310) /content/민지 (1).mp4: 1280x608 1 mouth, 1 cup, 1 pill, 12.1ms\n",
            "video 1/1 (frame 49/310) /content/민지 (1).mp4: 1280x608 1 mouth, 1 cup, 1 pill, 12.1ms\n",
            "video 1/1 (frame 50/310) /content/민지 (1).mp4: 1280x608 1 mouth, 1 cup, 1 pill, 12.3ms\n",
            "video 1/1 (frame 51/310) /content/민지 (1).mp4: 1280x608 1 mouth, 1 cup, 1 pill, 12.2ms\n",
            "video 1/1 (frame 52/310) /content/민지 (1).mp4: 1280x608 1 cup, 2 pills, 12.2ms\n",
            "video 1/1 (frame 53/310) /content/민지 (1).mp4: 1280x608 1 mouth, 1 cup, 2 pills, 15.7ms\n",
            "video 1/1 (frame 54/310) /content/민지 (1).mp4: 1280x608 1 mouth, 1 cup, 2 pills, 12.6ms\n",
            "video 1/1 (frame 55/310) /content/민지 (1).mp4: 1280x608 1 cup, 2 pills, 12.3ms\n",
            "video 1/1 (frame 56/310) /content/민지 (1).mp4: 1280x608 1 mouth, 1 cup, 2 pills, 12.5ms\n",
            "video 1/1 (frame 57/310) /content/민지 (1).mp4: 1280x608 1 mouth, 1 cup, 1 pill, 12.4ms\n",
            "video 1/1 (frame 58/310) /content/민지 (1).mp4: 1280x608 1 cup, 1 pill, 12.3ms\n",
            "video 1/1 (frame 59/310) /content/민지 (1).mp4: 1280x608 1 cup, 1 pill, 15.3ms\n",
            "video 1/1 (frame 60/310) /content/민지 (1).mp4: 1280x608 1 mouth, 1 cup, 2 pills, 12.4ms\n",
            "video 1/1 (frame 61/310) /content/민지 (1).mp4: 1280x608 1 mouth, 1 cup, 2 pills, 12.4ms\n",
            "video 1/1 (frame 62/310) /content/민지 (1).mp4: 1280x608 1 cup, 2 pills, 13.7ms\n",
            "video 1/1 (frame 63/310) /content/민지 (1).mp4: 1280x608 1 cup, 2 pills, 12.4ms\n",
            "video 1/1 (frame 64/310) /content/민지 (1).mp4: 1280x608 1 mouth, 1 cup, 2 pills, 12.4ms\n",
            "video 1/1 (frame 65/310) /content/민지 (1).mp4: 1280x608 1 mouth, 1 cup, 2 pills, 12.5ms\n",
            "video 1/1 (frame 66/310) /content/민지 (1).mp4: 1280x608 1 mouth, 1 cup, 3 pills, 12.5ms\n",
            "video 1/1 (frame 67/310) /content/민지 (1).mp4: 1280x608 1 cup, 3 pills, 12.6ms\n",
            "video 1/1 (frame 68/310) /content/민지 (1).mp4: 1280x608 1 mouth, 1 cup, 3 pills, 16.1ms\n",
            "video 1/1 (frame 69/310) /content/민지 (1).mp4: 1280x608 1 mouth, 1 cup, 3 pills, 12.8ms\n",
            "video 1/1 (frame 70/310) /content/민지 (1).mp4: 1280x608 1 mouth, 1 cup, 4 pills, 12.4ms\n",
            "video 1/1 (frame 71/310) /content/민지 (1).mp4: 1280x608 1 mouth, 1 cup, 4 pills, 12.4ms\n",
            "video 1/1 (frame 72/310) /content/민지 (1).mp4: 1280x608 1 mouth, 1 cup, 4 pills, 12.4ms\n",
            "video 1/1 (frame 73/310) /content/민지 (1).mp4: 1280x608 1 cup, 3 pills, 12.4ms\n",
            "video 1/1 (frame 74/310) /content/민지 (1).mp4: 1280x608 1 mouth, 1 cup, 4 pills, 11.9ms\n",
            "video 1/1 (frame 75/310) /content/민지 (1).mp4: 1280x608 1 mouth, 1 cup, 4 pills, 11.9ms\n",
            "video 1/1 (frame 76/310) /content/민지 (1).mp4: 1280x608 1 mouth, 1 cup, 3 pills, 12.8ms\n",
            "video 1/1 (frame 77/310) /content/민지 (1).mp4: 1280x608 1 mouth, 1 cup, 3 pills, 12.1ms\n",
            "video 1/1 (frame 78/310) /content/민지 (1).mp4: 1280x608 1 mouth, 1 cup, 2 pills, 12.2ms\n",
            "video 1/1 (frame 79/310) /content/민지 (1).mp4: 1280x608 1 mouth, 1 cup, 2 pills, 12.1ms\n",
            "video 1/1 (frame 80/310) /content/민지 (1).mp4: 1280x608 1 mouth, 1 cup, 13.0ms\n",
            "video 1/1 (frame 81/310) /content/민지 (1).mp4: 1280x608 1 cup, 12.0ms\n",
            "video 1/1 (frame 82/310) /content/민지 (1).mp4: 1280x608 1 cup, 12.1ms\n",
            "video 1/1 (frame 83/310) /content/민지 (1).mp4: 1280x608 1 cup, 14.8ms\n",
            "video 1/1 (frame 84/310) /content/민지 (1).mp4: 1280x608 1 cup, 13.0ms\n",
            "video 1/1 (frame 85/310) /content/민지 (1).mp4: 1280x608 1 mouth, 1 cup, 12.9ms\n",
            "video 1/1 (frame 86/310) /content/민지 (1).mp4: 1280x608 1 mouth, 1 cup, 12.4ms\n",
            "video 1/1 (frame 87/310) /content/민지 (1).mp4: 1280x608 1 mouth, 1 cup, 12.5ms\n",
            "video 1/1 (frame 88/310) /content/민지 (1).mp4: 1280x608 1 mouth, 1 cup, 12.4ms\n",
            "video 1/1 (frame 89/310) /content/민지 (1).mp4: 1280x608 1 cup, 12.5ms\n",
            "video 1/1 (frame 90/310) /content/민지 (1).mp4: 1280x608 1 cup, 12.2ms\n",
            "video 1/1 (frame 91/310) /content/민지 (1).mp4: 1280x608 1 cup, 12.4ms\n",
            "video 1/1 (frame 92/310) /content/민지 (1).mp4: 1280x608 1 mouth, 1 cup, 12.4ms\n",
            "video 1/1 (frame 93/310) /content/민지 (1).mp4: 1280x608 1 cup, 12.7ms\n",
            "video 1/1 (frame 94/310) /content/민지 (1).mp4: 1280x608 1 mouth, 1 cup, 13.3ms\n",
            "video 1/1 (frame 95/310) /content/민지 (1).mp4: 1280x608 1 mouth, 12.3ms\n",
            "video 1/1 (frame 96/310) /content/민지 (1).mp4: 1280x608 (no detections), 15.3ms\n",
            "video 1/1 (frame 97/310) /content/민지 (1).mp4: 1280x608 1 mouth, 12.5ms\n",
            "video 1/1 (frame 98/310) /content/민지 (1).mp4: 1280x608 1 mouth, 12.0ms\n",
            "video 1/1 (frame 99/310) /content/민지 (1).mp4: 1280x608 1 mouth, 12.5ms\n",
            "video 1/1 (frame 100/310) /content/민지 (1).mp4: 1280x608 1 mouth, 12.0ms\n",
            "video 1/1 (frame 101/310) /content/민지 (1).mp4: 1280x608 1 mouth, 12.1ms\n",
            "video 1/1 (frame 102/310) /content/민지 (1).mp4: 1280x608 1 mouth, 12.3ms\n",
            "video 1/1 (frame 103/310) /content/민지 (1).mp4: 1280x608 1 mouth, 12.3ms\n",
            "video 1/1 (frame 104/310) /content/민지 (1).mp4: 1280x608 1 pill, 12.3ms\n",
            "video 1/1 (frame 105/310) /content/민지 (1).mp4: 1280x608 (no detections), 12.2ms\n",
            "video 1/1 (frame 106/310) /content/민지 (1).mp4: 1280x608 (no detections), 12.1ms\n",
            "video 1/1 (frame 107/310) /content/민지 (1).mp4: 1280x608 (no detections), 12.1ms\n",
            "video 1/1 (frame 108/310) /content/민지 (1).mp4: 1280x608 (no detections), 12.2ms\n",
            "video 1/1 (frame 109/310) /content/민지 (1).mp4: 1280x608 (no detections), 12.2ms\n",
            "video 1/1 (frame 110/310) /content/민지 (1).mp4: 1280x608 (no detections), 12.3ms\n",
            "video 1/1 (frame 111/310) /content/민지 (1).mp4: 1280x608 (no detections), 12.1ms\n",
            "video 1/1 (frame 112/310) /content/민지 (1).mp4: 1280x608 (no detections), 12.1ms\n",
            "video 1/1 (frame 113/310) /content/민지 (1).mp4: 1280x608 (no detections), 12.6ms\n",
            "video 1/1 (frame 114/310) /content/민지 (1).mp4: 1280x608 (no detections), 12.3ms\n",
            "video 1/1 (frame 115/310) /content/민지 (1).mp4: 1280x608 (no detections), 12.4ms\n",
            "video 1/1 (frame 116/310) /content/민지 (1).mp4: 1280x608 (no detections), 12.2ms\n",
            "video 1/1 (frame 117/310) /content/민지 (1).mp4: 1280x608 (no detections), 12.2ms\n",
            "video 1/1 (frame 118/310) /content/민지 (1).mp4: 1280x608 (no detections), 12.2ms\n",
            "video 1/1 (frame 119/310) /content/민지 (1).mp4: 1280x608 (no detections), 12.2ms\n",
            "video 1/1 (frame 120/310) /content/민지 (1).mp4: 1280x608 (no detections), 12.2ms\n",
            "video 1/1 (frame 121/310) /content/민지 (1).mp4: 1280x608 (no detections), 12.1ms\n",
            "video 1/1 (frame 122/310) /content/민지 (1).mp4: 1280x608 (no detections), 12.1ms\n",
            "video 1/1 (frame 123/310) /content/민지 (1).mp4: 1280x608 1 pill, 12.1ms\n",
            "video 1/1 (frame 124/310) /content/민지 (1).mp4: 1280x608 1 pill, 12.4ms\n",
            "video 1/1 (frame 125/310) /content/민지 (1).mp4: 1280x608 1 pill, 12.2ms\n",
            "video 1/1 (frame 126/310) /content/민지 (1).mp4: 1280x608 1 pill, 12.3ms\n",
            "video 1/1 (frame 127/310) /content/민지 (1).mp4: 1280x608 1 pill, 12.3ms\n",
            "video 1/1 (frame 128/310) /content/민지 (1).mp4: 1280x608 (no detections), 11.9ms\n",
            "video 1/1 (frame 129/310) /content/민지 (1).mp4: 1280x608 (no detections), 12.1ms\n",
            "video 1/1 (frame 130/310) /content/민지 (1).mp4: 1280x608 (no detections), 12.1ms\n",
            "video 1/1 (frame 131/310) /content/민지 (1).mp4: 1280x608 (no detections), 12.1ms\n",
            "video 1/1 (frame 132/310) /content/민지 (1).mp4: 1280x608 1 pill, 15.3ms\n",
            "video 1/1 (frame 133/310) /content/민지 (1).mp4: 1280x608 (no detections), 15.3ms\n",
            "video 1/1 (frame 134/310) /content/민지 (1).mp4: 1280x608 (no detections), 14.8ms\n",
            "video 1/1 (frame 135/310) /content/민지 (1).mp4: 1280x608 (no detections), 12.5ms\n",
            "video 1/1 (frame 136/310) /content/민지 (1).mp4: 1280x608 (no detections), 12.0ms\n",
            "video 1/1 (frame 137/310) /content/민지 (1).mp4: 1280x608 (no detections), 12.3ms\n",
            "video 1/1 (frame 138/310) /content/민지 (1).mp4: 1280x608 (no detections), 14.7ms\n",
            "video 1/1 (frame 139/310) /content/민지 (1).mp4: 1280x608 (no detections), 12.5ms\n",
            "video 1/1 (frame 140/310) /content/민지 (1).mp4: 1280x608 (no detections), 12.3ms\n",
            "video 1/1 (frame 141/310) /content/민지 (1).mp4: 1280x608 (no detections), 12.4ms\n",
            "video 1/1 (frame 142/310) /content/민지 (1).mp4: 1280x608 (no detections), 12.3ms\n",
            "video 1/1 (frame 143/310) /content/민지 (1).mp4: 1280x608 (no detections), 12.3ms\n",
            "video 1/1 (frame 144/310) /content/민지 (1).mp4: 1280x608 (no detections), 12.3ms\n",
            "video 1/1 (frame 145/310) /content/민지 (1).mp4: 1280x608 (no detections), 12.5ms\n",
            "video 1/1 (frame 146/310) /content/민지 (1).mp4: 1280x608 (no detections), 12.5ms\n",
            "video 1/1 (frame 147/310) /content/민지 (1).mp4: 1280x608 (no detections), 12.3ms\n",
            "video 1/1 (frame 148/310) /content/민지 (1).mp4: 1280x608 (no detections), 12.2ms\n",
            "video 1/1 (frame 149/310) /content/민지 (1).mp4: 1280x608 (no detections), 12.2ms\n",
            "video 1/1 (frame 150/310) /content/민지 (1).mp4: 1280x608 (no detections), 12.3ms\n",
            "video 1/1 (frame 151/310) /content/민지 (1).mp4: 1280x608 (no detections), 12.6ms\n",
            "video 1/1 (frame 152/310) /content/민지 (1).mp4: 1280x608 (no detections), 12.2ms\n",
            "video 1/1 (frame 153/310) /content/민지 (1).mp4: 1280x608 (no detections), 12.3ms\n",
            "video 1/1 (frame 154/310) /content/민지 (1).mp4: 1280x608 (no detections), 12.3ms\n",
            "video 1/1 (frame 155/310) /content/민지 (1).mp4: 1280x608 (no detections), 12.3ms\n",
            "video 1/1 (frame 156/310) /content/민지 (1).mp4: 1280x608 1 hand, 12.2ms\n",
            "video 1/1 (frame 157/310) /content/민지 (1).mp4: 1280x608 1 hand, 12.5ms\n",
            "video 1/1 (frame 158/310) /content/민지 (1).mp4: 1280x608 (no detections), 12.5ms\n",
            "video 1/1 (frame 159/310) /content/민지 (1).mp4: 1280x608 1 hand, 13.2ms\n",
            "video 1/1 (frame 160/310) /content/민지 (1).mp4: 1280x608 (no detections), 12.4ms\n",
            "video 1/1 (frame 161/310) /content/민지 (1).mp4: 1280x608 (no detections), 12.2ms\n",
            "video 1/1 (frame 162/310) /content/민지 (1).mp4: 1280x608 (no detections), 12.2ms\n",
            "video 1/1 (frame 163/310) /content/민지 (1).mp4: 1280x608 (no detections), 12.2ms\n",
            "video 1/1 (frame 164/310) /content/민지 (1).mp4: 1280x608 (no detections), 12.2ms\n",
            "video 1/1 (frame 165/310) /content/민지 (1).mp4: 1280x608 (no detections), 12.6ms\n",
            "video 1/1 (frame 166/310) /content/민지 (1).mp4: 1280x608 1 cup, 12.5ms\n",
            "video 1/1 (frame 167/310) /content/민지 (1).mp4: 1280x608 1 cup, 13.0ms\n",
            "video 1/1 (frame 168/310) /content/민지 (1).mp4: 1280x608 1 cup, 12.6ms\n",
            "video 1/1 (frame 169/310) /content/민지 (1).mp4: 1280x608 1 cup, 13.3ms\n",
            "video 1/1 (frame 170/310) /content/민지 (1).mp4: 1280x608 1 cup, 12.4ms\n",
            "video 1/1 (frame 171/310) /content/민지 (1).mp4: 1280x608 1 mouth, 1 cup, 12.5ms\n",
            "video 1/1 (frame 172/310) /content/민지 (1).mp4: 1280x608 1 cup, 12.4ms\n",
            "video 1/1 (frame 173/310) /content/민지 (1).mp4: 1280x608 1 cup, 12.6ms\n",
            "video 1/1 (frame 174/310) /content/민지 (1).mp4: 1280x608 1 cup, 12.1ms\n",
            "video 1/1 (frame 175/310) /content/민지 (1).mp4: 1280x608 1 cup, 12.6ms\n",
            "video 1/1 (frame 176/310) /content/민지 (1).mp4: 1280x608 1 cup, 12.2ms\n",
            "video 1/1 (frame 177/310) /content/민지 (1).mp4: 1280x608 1 cup, 12.2ms\n",
            "video 1/1 (frame 178/310) /content/민지 (1).mp4: 1280x608 1 cup, 12.2ms\n",
            "video 1/1 (frame 179/310) /content/민지 (1).mp4: 1280x608 1 cup, 13.1ms\n",
            "video 1/1 (frame 180/310) /content/민지 (1).mp4: 1280x608 1 cup, 12.1ms\n",
            "video 1/1 (frame 181/310) /content/민지 (1).mp4: 1280x608 1 cup, 12.2ms\n",
            "video 1/1 (frame 182/310) /content/민지 (1).mp4: 1280x608 1 cup, 1 pill, 12.0ms\n",
            "video 1/1 (frame 183/310) /content/민지 (1).mp4: 1280x608 1 cup, 13.3ms\n",
            "video 1/1 (frame 184/310) /content/민지 (1).mp4: 1280x608 1 cup, 12.2ms\n",
            "video 1/1 (frame 185/310) /content/민지 (1).mp4: 1280x608 1 cup, 12.0ms\n",
            "video 1/1 (frame 186/310) /content/민지 (1).mp4: 1280x608 1 cup, 12.2ms\n",
            "video 1/1 (frame 187/310) /content/민지 (1).mp4: 1280x608 1 cup, 12.3ms\n",
            "video 1/1 (frame 188/310) /content/민지 (1).mp4: 1280x608 1 cup, 12.3ms\n",
            "video 1/1 (frame 189/310) /content/민지 (1).mp4: 1280x608 1 cup, 12.3ms\n",
            "video 1/1 (frame 190/310) /content/민지 (1).mp4: 1280x608 1 cup, 15.4ms\n",
            "video 1/1 (frame 191/310) /content/민지 (1).mp4: 1280x608 1 cup, 12.2ms\n",
            "video 1/1 (frame 192/310) /content/민지 (1).mp4: 1280x608 1 cup, 12.1ms\n",
            "video 1/1 (frame 193/310) /content/민지 (1).mp4: 1280x608 1 cup, 12.4ms\n",
            "video 1/1 (frame 194/310) /content/민지 (1).mp4: 1280x608 1 cup, 12.4ms\n",
            "video 1/1 (frame 195/310) /content/민지 (1).mp4: 1280x608 1 cup, 12.1ms\n",
            "video 1/1 (frame 196/310) /content/민지 (1).mp4: 1280x608 1 cup, 12.2ms\n",
            "video 1/1 (frame 197/310) /content/민지 (1).mp4: 1280x608 1 cup, 12.5ms\n",
            "video 1/1 (frame 198/310) /content/민지 (1).mp4: 1280x608 1 cup, 12.3ms\n",
            "video 1/1 (frame 199/310) /content/민지 (1).mp4: 1280x608 1 cup, 12.6ms\n",
            "video 1/1 (frame 200/310) /content/민지 (1).mp4: 1280x608 1 cup, 12.3ms\n",
            "video 1/1 (frame 201/310) /content/민지 (1).mp4: 1280x608 1 cup, 12.5ms\n",
            "video 1/1 (frame 202/310) /content/민지 (1).mp4: 1280x608 1 cup, 12.2ms\n",
            "video 1/1 (frame 203/310) /content/민지 (1).mp4: 1280x608 1 cup, 12.2ms\n",
            "video 1/1 (frame 204/310) /content/민지 (1).mp4: 1280x608 1 cup, 12.5ms\n",
            "video 1/1 (frame 205/310) /content/민지 (1).mp4: 1280x608 1 cup, 13.4ms\n",
            "video 1/1 (frame 206/310) /content/민지 (1).mp4: 1280x608 1 cup, 12.3ms\n",
            "video 1/1 (frame 207/310) /content/민지 (1).mp4: 1280x608 1 cup, 13.2ms\n",
            "video 1/1 (frame 208/310) /content/민지 (1).mp4: 1280x608 1 cup, 12.4ms\n",
            "video 1/1 (frame 209/310) /content/민지 (1).mp4: 1280x608 1 cup, 12.2ms\n",
            "video 1/1 (frame 210/310) /content/민지 (1).mp4: 1280x608 1 cup, 12.5ms\n",
            "video 1/1 (frame 211/310) /content/민지 (1).mp4: 1280x608 1 cup, 12.8ms\n",
            "video 1/1 (frame 212/310) /content/민지 (1).mp4: 1280x608 1 cup, 12.2ms\n",
            "video 1/1 (frame 213/310) /content/민지 (1).mp4: 1280x608 1 cup, 12.3ms\n",
            "video 1/1 (frame 214/310) /content/민지 (1).mp4: 1280x608 1 cup, 12.2ms\n",
            "video 1/1 (frame 215/310) /content/민지 (1).mp4: 1280x608 1 cup, 12.4ms\n",
            "video 1/1 (frame 216/310) /content/민지 (1).mp4: 1280x608 1 cup, 12.1ms\n",
            "video 1/1 (frame 217/310) /content/민지 (1).mp4: 1280x608 1 cup, 12.1ms\n",
            "video 1/1 (frame 218/310) /content/민지 (1).mp4: 1280x608 1 cup, 12.3ms\n",
            "video 1/1 (frame 219/310) /content/민지 (1).mp4: 1280x608 1 cup, 12.3ms\n",
            "video 1/1 (frame 220/310) /content/민지 (1).mp4: 1280x608 1 cup, 12.8ms\n",
            "video 1/1 (frame 221/310) /content/민지 (1).mp4: 1280x608 1 cup, 12.3ms\n",
            "video 1/1 (frame 222/310) /content/민지 (1).mp4: 1280x608 1 cup, 12.3ms\n",
            "video 1/1 (frame 223/310) /content/민지 (1).mp4: 1280x608 1 cup, 12.1ms\n",
            "video 1/1 (frame 224/310) /content/민지 (1).mp4: 1280x608 1 cup, 12.2ms\n",
            "video 1/1 (frame 225/310) /content/민지 (1).mp4: 1280x608 1 cup, 12.1ms\n",
            "video 1/1 (frame 226/310) /content/민지 (1).mp4: 1280x608 1 cup, 12.0ms\n",
            "video 1/1 (frame 227/310) /content/민지 (1).mp4: 1280x608 1 cup, 12.0ms\n",
            "video 1/1 (frame 228/310) /content/민지 (1).mp4: 1280x608 1 cup, 12.3ms\n",
            "video 1/1 (frame 229/310) /content/민지 (1).mp4: 1280x608 1 cup, 12.3ms\n",
            "video 1/1 (frame 230/310) /content/민지 (1).mp4: 1280x608 1 cup, 12.1ms\n",
            "video 1/1 (frame 231/310) /content/민지 (1).mp4: 1280x608 1 cup, 12.4ms\n",
            "video 1/1 (frame 232/310) /content/민지 (1).mp4: 1280x608 1 cup, 12.3ms\n",
            "video 1/1 (frame 233/310) /content/민지 (1).mp4: 1280x608 1 cup, 12.5ms\n",
            "video 1/1 (frame 234/310) /content/민지 (1).mp4: 1280x608 1 cup, 12.3ms\n",
            "video 1/1 (frame 235/310) /content/민지 (1).mp4: 1280x608 1 cup, 12.2ms\n",
            "video 1/1 (frame 236/310) /content/민지 (1).mp4: 1280x608 1 cup, 12.3ms\n",
            "video 1/1 (frame 237/310) /content/민지 (1).mp4: 1280x608 1 cup, 15.9ms\n",
            "video 1/1 (frame 238/310) /content/민지 (1).mp4: 1280x608 1 cup, 11.9ms\n",
            "video 1/1 (frame 239/310) /content/민지 (1).mp4: 1280x608 1 cup, 13.8ms\n",
            "video 1/1 (frame 240/310) /content/민지 (1).mp4: 1280x608 1 cup, 12.7ms\n",
            "video 1/1 (frame 241/310) /content/민지 (1).mp4: 1280x608 1 cup, 12.3ms\n",
            "video 1/1 (frame 242/310) /content/민지 (1).mp4: 1280x608 1 cup, 12.3ms\n",
            "video 1/1 (frame 243/310) /content/민지 (1).mp4: 1280x608 1 cup, 12.3ms\n",
            "video 1/1 (frame 244/310) /content/민지 (1).mp4: 1280x608 1 cup, 12.5ms\n",
            "video 1/1 (frame 245/310) /content/민지 (1).mp4: 1280x608 1 cup, 12.2ms\n",
            "video 1/1 (frame 246/310) /content/민지 (1).mp4: 1280x608 1 cup, 12.4ms\n",
            "video 1/1 (frame 247/310) /content/민지 (1).mp4: 1280x608 1 cup, 12.4ms\n",
            "video 1/1 (frame 248/310) /content/민지 (1).mp4: 1280x608 1 cup, 12.2ms\n",
            "video 1/1 (frame 249/310) /content/민지 (1).mp4: 1280x608 1 cup, 12.3ms\n",
            "video 1/1 (frame 250/310) /content/민지 (1).mp4: 1280x608 1 cup, 12.3ms\n",
            "video 1/1 (frame 251/310) /content/민지 (1).mp4: 1280x608 1 cup, 12.5ms\n",
            "video 1/1 (frame 252/310) /content/민지 (1).mp4: 1280x608 1 cup, 12.2ms\n",
            "video 1/1 (frame 253/310) /content/민지 (1).mp4: 1280x608 1 cup, 12.2ms\n",
            "video 1/1 (frame 254/310) /content/민지 (1).mp4: 1280x608 1 cup, 12.2ms\n",
            "video 1/1 (frame 255/310) /content/민지 (1).mp4: 1280x608 1 cup, 12.5ms\n",
            "video 1/1 (frame 256/310) /content/민지 (1).mp4: 1280x608 1 cup, 12.2ms\n",
            "video 1/1 (frame 257/310) /content/민지 (1).mp4: 1280x608 1 cup, 12.3ms\n",
            "video 1/1 (frame 258/310) /content/민지 (1).mp4: 1280x608 1 cup, 12.3ms\n",
            "video 1/1 (frame 259/310) /content/민지 (1).mp4: 1280x608 1 cup, 12.5ms\n",
            "video 1/1 (frame 260/310) /content/민지 (1).mp4: 1280x608 1 cup, 12.4ms\n",
            "video 1/1 (frame 261/310) /content/민지 (1).mp4: 1280x608 1 cup, 12.6ms\n",
            "video 1/1 (frame 262/310) /content/민지 (1).mp4: 1280x608 1 mouth, 1 cup, 12.6ms\n",
            "video 1/1 (frame 263/310) /content/민지 (1).mp4: 1280x608 1 mouth, 1 cup, 12.6ms\n",
            "video 1/1 (frame 264/310) /content/민지 (1).mp4: 1280x608 1 mouth, 1 cup, 12.4ms\n",
            "video 1/1 (frame 265/310) /content/민지 (1).mp4: 1280x608 1 mouth, 1 cup, 12.7ms\n",
            "video 1/1 (frame 266/310) /content/민지 (1).mp4: 1280x608 1 mouth, 1 cup, 12.4ms\n",
            "video 1/1 (frame 267/310) /content/민지 (1).mp4: 1280x608 1 mouth, 1 cup, 12.5ms\n",
            "video 1/1 (frame 268/310) /content/민지 (1).mp4: 1280x608 1 mouth, 1 cup, 12.2ms\n",
            "video 1/1 (frame 269/310) /content/민지 (1).mp4: 1280x608 1 mouth, 1 cup, 12.4ms\n",
            "video 1/1 (frame 270/310) /content/민지 (1).mp4: 1280x608 1 mouth, 1 cup, 12.3ms\n",
            "video 1/1 (frame 271/310) /content/민지 (1).mp4: 1280x608 1 mouth, 1 cup, 12.4ms\n",
            "video 1/1 (frame 272/310) /content/민지 (1).mp4: 1280x608 1 mouth, 1 cup, 12.2ms\n",
            "video 1/1 (frame 273/310) /content/민지 (1).mp4: 1280x608 1 mouth, 1 cup, 12.7ms\n",
            "video 1/1 (frame 274/310) /content/민지 (1).mp4: 1280x608 1 mouth, 1 cup, 12.2ms\n",
            "video 1/1 (frame 275/310) /content/민지 (1).mp4: 1280x608 1 mouth, 1 cup, 12.3ms\n",
            "video 1/1 (frame 276/310) /content/민지 (1).mp4: 1280x608 1 mouth, 1 cup, 12.6ms\n",
            "video 1/1 (frame 277/310) /content/민지 (1).mp4: 1280x608 1 cup, 12.3ms\n",
            "video 1/1 (frame 278/310) /content/민지 (1).mp4: 1280x608 1 cup, 12.2ms\n",
            "video 1/1 (frame 279/310) /content/민지 (1).mp4: 1280x608 1 cup, 12.2ms\n",
            "video 1/1 (frame 280/310) /content/민지 (1).mp4: 1280x608 1 cup, 12.2ms\n",
            "video 1/1 (frame 281/310) /content/민지 (1).mp4: 1280x608 1 cup, 12.6ms\n",
            "video 1/1 (frame 282/310) /content/민지 (1).mp4: 1280x608 1 mouth, 1 cup, 12.3ms\n",
            "video 1/1 (frame 283/310) /content/민지 (1).mp4: 1280x608 1 mouth, 1 cup, 12.2ms\n",
            "video 1/1 (frame 284/310) /content/민지 (1).mp4: 1280x608 1 mouth, 1 cup, 12.2ms\n",
            "video 1/1 (frame 285/310) /content/민지 (1).mp4: 1280x608 1 mouth, 1 cup, 11.8ms\n",
            "video 1/1 (frame 286/310) /content/민지 (1).mp4: 1280x608 1 mouth, 1 cup, 12.3ms\n",
            "video 1/1 (frame 287/310) /content/민지 (1).mp4: 1280x608 1 mouth, 1 cup, 12.2ms\n",
            "video 1/1 (frame 288/310) /content/민지 (1).mp4: 1280x608 1 mouth, 1 cup, 12.1ms\n",
            "video 1/1 (frame 289/310) /content/민지 (1).mp4: 1280x608 1 mouth, 1 cup, 12.1ms\n",
            "video 1/1 (frame 290/310) /content/민지 (1).mp4: 1280x608 1 mouth, 1 cup, 12.4ms\n",
            "video 1/1 (frame 291/310) /content/민지 (1).mp4: 1280x608 1 cup, 12.8ms\n",
            "video 1/1 (frame 292/310) /content/민지 (1).mp4: 1280x608 1 cup, 12.7ms\n",
            "video 1/1 (frame 293/310) /content/민지 (1).mp4: 1280x608 1 cup, 12.3ms\n",
            "video 1/1 (frame 294/310) /content/민지 (1).mp4: 1280x608 1 cup, 12.5ms\n",
            "video 1/1 (frame 295/310) /content/민지 (1).mp4: 1280x608 1 mouth, 1 cup, 12.5ms\n",
            "video 1/1 (frame 296/310) /content/민지 (1).mp4: 1280x608 1 mouth, 1 cup, 12.4ms\n",
            "video 1/1 (frame 297/310) /content/민지 (1).mp4: 1280x608 1 mouth, 1 cup, 12.6ms\n",
            "video 1/1 (frame 298/310) /content/민지 (1).mp4: 1280x608 1 cup, 12.6ms\n",
            "video 1/1 (frame 299/310) /content/민지 (1).mp4: 1280x608 1 cup, 13.1ms\n",
            "video 1/1 (frame 300/310) /content/민지 (1).mp4: 1280x608 1 cup, 12.5ms\n",
            "video 1/1 (frame 301/310) /content/민지 (1).mp4: 1280x608 1 cup, 12.2ms\n",
            "video 1/1 (frame 302/310) /content/민지 (1).mp4: 1280x608 1 cup, 12.5ms\n",
            "video 1/1 (frame 303/310) /content/민지 (1).mp4: 1280x608 1 cup, 12.4ms\n",
            "video 1/1 (frame 304/310) /content/민지 (1).mp4: 1280x608 1 cup, 12.4ms\n",
            "video 1/1 (frame 305/310) /content/민지 (1).mp4: 1280x608 1 mouth, 1 cup, 12.4ms\n",
            "video 1/1 (frame 306/310) /content/민지 (1).mp4: 1280x608 1 cup, 12.5ms\n",
            "video 1/1 (frame 307/310) /content/민지 (1).mp4: 1280x608 1 mouth, 1 cup, 12.4ms\n",
            "video 1/1 (frame 308/310) /content/민지 (1).mp4: 1280x608 1 mouth, 1 cup, 12.6ms\n",
            "video 1/1 (frame 309/310) /content/민지 (1).mp4: 1280x608 1 mouth, 1 cup, 12.5ms\n",
            "video 1/1 (frame 310/310) /content/민지 (1).mp4: 1280x608 1 cup, 12.7ms\n",
            "Speed: 6.4ms preprocess, 12.6ms inference, 1.5ms postprocess per image at shape (1, 3, 1280, 608)\n",
            "✅ 프레임 저장 완료. 텍스트가 포함된 프레임은 /content/predicted_frames 디렉토리에 저장됨\n",
            "🎥 최종 영상 저장 완료: /content/predicted_output.mp4\n"
          ]
        }
      ]
    },
    {
      "cell_type": "code",
      "source": [
        "import glob\n",
        "\n",
        "# 예측된 동영상 파일 경로\n",
        "video_results = glob.glob('/content/runs/detect/predict/*.mp4')\n",
        "for vid in video_results:\n",
        "    files.download(vid)\n"
      ],
      "metadata": {
        "id": "CDcbdHEHG-fH"
      },
      "execution_count": null,
      "outputs": []
    },
    {
      "cell_type": "code",
      "source": [],
      "metadata": {
        "id": "0rZkuGfCei9R"
      },
      "execution_count": null,
      "outputs": []
    },
    {
      "cell_type": "code",
      "source": [
        "import cv2\n",
        "import numpy as np\n",
        "from ultralytics import YOLO\n",
        "import math\n",
        "import os\n",
        "\n",
        "# 경로 설정\n",
        "video_path = \"/content/민지.mp4\"\n",
        "model_path = \"/content/runs/detect/best.pt/weights/best.pt\"\n",
        "output_path = \"/content/output_result.mp4\"\n",
        "\n",
        "# 클래스별 색상 및 메시지 정의\n",
        "CLASS_INFO = {\n",
        "    0: {\"name\": \"mouth\", \"color\": (0, 0, 255), \"msg\": \"Mouth detected \"},\n",
        "    1: {\"name\": \"cup\", \"color\": (255, 255, 0), \"msg\": \"Cup detected \"},\n",
        "    2: {\"name\": \"pill\", \"color\": (255, 255, 255), \"msg\": \"Pill detected \"},\n",
        "    3: {\"name\": \"hand\", \"color\": (0, 255, 0), \"msg\": \"Hand detected \"},\n",
        "}\n",
        "\n",
        "# 임계 거리\n",
        "THRESHOLD_HAND_PILL = 60\n",
        "THRESHOLD_HAND_MOUTH = 60\n",
        "THRESHOLD_CUP_MOUTH = 60\n",
        "\n",
        "# 모델 로드\n",
        "model = YOLO(model_path)\n",
        "\n",
        "# 비디오 캡처 및 저장 설정\n",
        "cap = cv2.VideoCapture(video_path)\n",
        "fps = cap.get(cv2.CAP_PROP_FPS)\n",
        "w = int(cap.get(cv2.CAP_PROP_FRAME_WIDTH))\n",
        "h = int(cap.get(cv2.CAP_PROP_FRAME_HEIGHT))\n",
        "fourcc = cv2.VideoWriter_fourcc(*'mp4v')\n",
        "out = cv2.VideoWriter(output_path, fourcc, fps, (w, h))\n",
        "\n",
        "# 최종 이벤트 판단용 변수\n",
        "final_flags = {\"hand_pill\": False, \"hand_mouth\": False, \"cup_mouth\": False}\n",
        "\n",
        "while cap.isOpened():\n",
        "    ret, frame = cap.read()\n",
        "    if not ret:\n",
        "        break\n",
        "\n",
        "    results = model.predict(\n",
        "    frame,\n",
        "    conf=0.25,       # 더 많은 객체 탐지\n",
        "    iou=0.3,         # 겹친 박스 좀 더 유지\n",
        "    imgsz=1280,       # 이미지 크기 키움 (더 정밀한 탐지)\n",
        "    agnostic_nms=True,  # 클래스 무관 NMS\n",
        "    max_det=1000,       # 박스 수 증가\n",
        "    verbose=False\n",
        ")[0]\n",
        "\n",
        "    boxes = results.boxes\n",
        "    centers = {\"mouth\": [], \"cup\": [], \"pill\": [], \"hand\": []}\n",
        "    labels_on = set()\n",
        "\n",
        "    # 바운딩 박스 출력 및 중심 계산\n",
        "    for box in boxes.data:\n",
        "        x1, y1, x2, y2, conf, cls = box.tolist()\n",
        "        cls = int(cls)\n",
        "        class_info = CLASS_INFO.get(cls, None)\n",
        "        if class_info is None:\n",
        "            continue\n",
        "\n",
        "        label = class_info[\"name\"]\n",
        "        color = class_info[\"color\"]\n",
        "        conf_percent = f\"{label} {conf:.2f}\"\n",
        "\n",
        "        # 박스 그리기\n",
        "        cv2.rectangle(frame, (int(x1), int(y1)), (int(x2), int(y2)), color, 2)\n",
        "        cv2.putText(frame, conf_percent, (int(x1), int(y1)-10), cv2.FONT_HERSHEY_SIMPLEX, 0.8, color, 2)\n",
        "\n",
        "        # 중심 좌표 저장\n",
        "        cx, cy = int((x1 + x2) / 2), int((y1 + y2) / 2)\n",
        "        centers[label].append((cx, cy))\n",
        "        labels_on.add(label)\n",
        "\n",
        "    # 프레임 상단 메시지 표시\n",
        "    y_offset = 30\n",
        "    for cls_id, cls_info in CLASS_INFO.items():\n",
        "        if cls_info[\"name\"] in labels_on:\n",
        "            cv2.putText(frame, cls_info[\"msg\"], (10, y_offset), cv2.FONT_HERSHEY_SIMPLEX, 0.8, cls_info[\"color\"], 2)\n",
        "            y_offset += 35\n",
        "\n",
        "    # 거리 기반 판단 및 메시지 추가\n",
        "    def check_and_draw(event_key, list1, list2, threshold, color, message):\n",
        "        for pt1 in list1:\n",
        "            for pt2 in list2:\n",
        "                dist = math.dist(pt1, pt2)\n",
        "                if dist < threshold:\n",
        "                    final_flags[event_key] = True\n",
        "                    cv2.line(frame, pt1, pt2, color, 2)\n",
        "                    mid = (int((pt1[0]+pt2[0])/2), int((pt1[1]+pt2[1])/2))\n",
        "                    cv2.putText(frame, f\"{message} ({int(dist)})\", mid, cv2.FONT_HERSHEY_SIMPLEX, 0.6, color, 2)\n",
        "\n",
        "    check_and_draw(\"hand_pill\", centers[\"hand\"], centers[\"pill\"], THRESHOLD_HAND_PILL, (0, 255, 255), \"✅ 약 섭취 준비완료\")\n",
        "    check_and_draw(\"hand_mouth\", centers[\"hand\"], centers[\"mouth\"], THRESHOLD_HAND_MOUTH, (255, 0, 255), \"✅ 약 섭취 완료\")\n",
        "    check_and_draw(\"cup_mouth\", centers[\"cup\"], centers[\"mouth\"], THRESHOLD_CUP_MOUTH, (255, 255, 0), \"✅ 물 섭취 완료\")\n",
        "\n",
        "    out.write(frame)\n",
        "\n",
        "cap.release()\n",
        "out.release()\n",
        "\n",
        "# 최종 결과 출력\n",
        "if final_flags[\"hand_pill\"] and (final_flags[\"hand_mouth\"] or final_flags[\"cup_mouth\"]):\n",
        "    print(\"✅ 복용 완료 가능성 있음!\")\n",
        "else:\n",
        "    print(\"❌ 복용 동작이 확인되지 않음.\")\n",
        "\n",
        "print(f\"🎬 영상 저장 완료: {output_path}\")\n"
      ],
      "metadata": {
        "colab": {
          "base_uri": "https://localhost:8080/"
        },
        "id": "JyhsPowvWhuT",
        "outputId": "97f8b1cf-c668-4b70-b0bd-f0c75798956a"
      },
      "execution_count": null,
      "outputs": [
        {
          "output_type": "stream",
          "name": "stdout",
          "text": [
            "❌ 복용 동작이 확인되지 않음.\n",
            "🎬 영상 저장 완료: /content/output_result.mp4\n"
          ]
        }
      ]
    },
    {
      "cell_type": "code",
      "source": [
        "\n",
        "import cv2\n",
        "import numpy as np\n",
        "from ultralytics import YOLO\n",
        "import math\n",
        "\n",
        "# 모델 경로 및 입력 영상 경로\n",
        "model_path = \"/content/runs/detect/best.pt/weights/best.pt\"\n",
        "video_path = \"/content/민지.mp4\"\n",
        "output_path = \"/content/output_result.mp4\"\n",
        "\n",
        "# 임계 거리 설정\n",
        "THRESHOLD_HAND_PILL = 50\n",
        "THRESHOLD_HAND_MOUTH = 50\n",
        "THRESHOLD_CUP_MOUTH = 50\n",
        "\n",
        "# 모델 불러오기\n",
        "model = YOLO(model_path)\n",
        "\n",
        "# 동영상 열기\n",
        "cap = cv2.VideoCapture(video_path)\n",
        "fps = cap.get(cv2.CAP_PROP_FPS)\n",
        "w = int(cap.get(cv2.CAP_PROP_FRAME_WIDTH))\n",
        "h = int(cap.get(cv2.CAP_PROP_FRAME_HEIGHT))\n",
        "\n",
        "fourcc = cv2.VideoWriter_fourcc(*'mp4v')\n",
        "out = cv2.VideoWriter(output_path, fourcc, fps, (w, h))\n",
        "\n",
        "while cap.isOpened():\n",
        "    ret, frame = cap.read()\n",
        "    if not ret:\n",
        "        break\n",
        "\n",
        "    results = model.predict(frame, imgsz=960, conf=0.4, verbose=False)[0]\n",
        "\n",
        "    centers = {'hand': [], 'pill': [], 'cup': [], 'mouth': []}\n",
        "\n",
        "    for box in results.boxes.data:\n",
        "        x1, y1, x2, y2, conf, cls = box.tolist()\n",
        "        cx = (x1 + x2) / 2\n",
        "        cy = (y1 + y2) / 2\n",
        "        label = int(cls)\n",
        "\n",
        "        if label == 0:\n",
        "            centers['mouth'].append((cx, cy))\n",
        "            cv2.circle(frame, (int(cx), int(cy)), 5, (0, 255, 255), -1)\n",
        "        elif label == 1:\n",
        "            centers['cup'].append((cx, cy))\n",
        "            cv2.circle(frame, (int(cx), int(cy)), 5, (255, 255, 0), -1)\n",
        "        elif label == 2:\n",
        "            centers['pill'].append((cx, cy))\n",
        "            cv2.circle(frame, (int(cx), int(cy)), 5, (255, 0, 255), -1)\n",
        "        elif label == 3:\n",
        "            centers['hand'].append((cx, cy))\n",
        "            cv2.circle(frame, (int(cx), int(cy)), 5, (0, 255, 0), -1)\n",
        "\n",
        "    # 상태 초기화\n",
        "    ready_for_pill = False\n",
        "    pill_taken = False\n",
        "    water_taken = False\n",
        "\n",
        "    for hand in centers['hand']:\n",
        "        for pill in centers['pill']:\n",
        "            dist = math.dist(hand, pill)\n",
        "            if dist < THRESHOLD_HAND_PILL:\n",
        "                ready_for_pill = True\n",
        "                cv2.line(frame, (int(hand[0]), int(hand[1])), (int(pill[0]), int(pill[1])), (0, 255, 255), 2)\n",
        "\n",
        "    for obj in centers['hand'] + centers['pill']:\n",
        "        for mouth in centers['mouth']:\n",
        "            dist = math.dist(obj, mouth)\n",
        "            if dist < THRESHOLD_HAND_MOUTH:\n",
        "                pill_taken = True\n",
        "                cv2.line(frame, (int(obj[0]), int(obj[1])), (int(mouth[0]), int(mouth[1])), (255, 0, 255), 2)\n",
        "\n",
        "    for cup in centers['cup']:\n",
        "        for mouth in centers['mouth']:\n",
        "            dist = math.dist(cup, mouth)\n",
        "            if dist < THRESHOLD_CUP_MOUTH:\n",
        "                water_taken = True\n",
        "                cv2.line(frame, (int(cup[0]), int(cup[1])), (int(mouth[0]), int(mouth[1])), (255, 255, 0), 2)\n",
        "\n",
        "    # 텍스트 출력\n",
        "    y_offset = 30\n",
        "    font = cv2.FONT_HERSHEY_SIMPLEX\n",
        "    if ready_for_pill:\n",
        "        cv2.putText(frame, \"✅ 약 섭취 준비완료\", (10, y_offset), font, 0.8, (0, 255, 0), 2)\n",
        "        y_offset += 30\n",
        "    if pill_taken:\n",
        "        cv2.putText(frame, \"✅ 약 섭취 완료\", (10, y_offset), font, 0.8, (255, 0, 255), 2)\n",
        "        y_offset += 30\n",
        "    if water_taken:\n",
        "        cv2.putText(frame, \"✅ 물 섭취 완료\", (10, y_offset), font, 0.8, (255, 255, 0), 2)\n",
        "\n",
        "    out.write(frame)\n",
        "\n",
        "cap.release()\n",
        "out.release()\n",
        "print(\"🎬 결과 영상 저장 완료:\", output_path)\n"
      ],
      "metadata": {
        "id": "hxs_PIfDG-hE",
        "colab": {
          "base_uri": "https://localhost:8080/"
        },
        "outputId": "2fccece5-19fb-41ec-9ee7-9168d1926339"
      },
      "execution_count": null,
      "outputs": [
        {
          "output_type": "stream",
          "name": "stdout",
          "text": [
            "🎬 결과 영상 저장 완료: /content/output_result.mp4\n"
          ]
        }
      ]
    },
    {
      "cell_type": "code",
      "source": [
        "from ultralytics import YOLO\n",
        "from google.colab import files\n",
        "\n",
        "# best.pt 모델 로드\n",
        "model = YOLO('/content/runs/detect/best.pt/weights/best.pt')\n",
        "\n",
        "# ONNX로 변환\n",
        "model.export(format='onnx')\n",
        "\n",
        "# 변환된 best.onnx 파일 다운로드\n",
        "files.download('/content/runs/detect/best.pt/weights/best.onnx')\n"
      ],
      "metadata": {
        "id": "u7C9YON2G-jc",
        "colab": {
          "base_uri": "https://localhost:8080/",
          "height": 391
        },
        "outputId": "cdf581b7-3e40-4b19-bc78-36113716f1e2"
      },
      "execution_count": null,
      "outputs": [
        {
          "output_type": "stream",
          "name": "stdout",
          "text": [
            "Ultralytics 8.3.154 🚀 Python-3.11.13 torch-2.6.0+cu124 CPU (Intel Xeon 2.20GHz)\n",
            "💡 ProTip: Export to OpenVINO format for best performance on Intel CPUs. Learn more at https://docs.ultralytics.com/integrations/openvino/\n",
            "Model summary (fused): 112 layers, 43,609,692 parameters, 0 gradients, 164.8 GFLOPs\n",
            "\n",
            "\u001b[34m\u001b[1mPyTorch:\u001b[0m starting from '/content/runs/detect/best.pt/weights/best.pt' with input shape (1, 3, 960, 960) BCHW and output shape(s) (1, 8, 18900) (83.7 MB)\n",
            "\u001b[31m\u001b[1mrequirements:\u001b[0m Ultralytics requirements ['onnx>=1.12.0,<1.18.0', 'onnxslim>=0.1.56', 'onnxruntime-gpu'] not found, attempting AutoUpdate...\n",
            "\n",
            "\u001b[31m\u001b[1mrequirements:\u001b[0m AutoUpdate success ✅ 4.4s\n",
            "WARNING ⚠️ \u001b[31m\u001b[1mrequirements:\u001b[0m \u001b[1mRestart runtime or rerun command for updates to take effect\u001b[0m\n",
            "\n",
            "\n",
            "\u001b[34m\u001b[1mONNX:\u001b[0m starting export with onnx 1.17.0 opset 19...\n",
            "\u001b[34m\u001b[1mONNX:\u001b[0m slimming with onnxslim 0.1.57...\n",
            "\u001b[34m\u001b[1mONNX:\u001b[0m export success ✅ 12.3s, saved as '/content/runs/detect/best.pt/weights/best.onnx' (166.8 MB)\n",
            "\n",
            "Export complete (15.2s)\n",
            "Results saved to \u001b[1m/content/runs/detect/best.pt/weights\u001b[0m\n",
            "Predict:         yolo predict task=detect model=/content/runs/detect/best.pt/weights/best.onnx imgsz=960  \n",
            "Validate:        yolo val task=detect model=/content/runs/detect/best.pt/weights/best.onnx imgsz=960 data=/content/data.yaml  \n",
            "Visualize:       https://netron.app\n"
          ]
        },
        {
          "output_type": "display_data",
          "data": {
            "text/plain": [
              "<IPython.core.display.Javascript object>"
            ],
            "application/javascript": [
              "\n",
              "    async function download(id, filename, size) {\n",
              "      if (!google.colab.kernel.accessAllowed) {\n",
              "        return;\n",
              "      }\n",
              "      const div = document.createElement('div');\n",
              "      const label = document.createElement('label');\n",
              "      label.textContent = `Downloading \"${filename}\": `;\n",
              "      div.appendChild(label);\n",
              "      const progress = document.createElement('progress');\n",
              "      progress.max = size;\n",
              "      div.appendChild(progress);\n",
              "      document.body.appendChild(div);\n",
              "\n",
              "      const buffers = [];\n",
              "      let downloaded = 0;\n",
              "\n",
              "      const channel = await google.colab.kernel.comms.open(id);\n",
              "      // Send a message to notify the kernel that we're ready.\n",
              "      channel.send({})\n",
              "\n",
              "      for await (const message of channel.messages) {\n",
              "        // Send a message to notify the kernel that we're ready.\n",
              "        channel.send({})\n",
              "        if (message.buffers) {\n",
              "          for (const buffer of message.buffers) {\n",
              "            buffers.push(buffer);\n",
              "            downloaded += buffer.byteLength;\n",
              "            progress.value = downloaded;\n",
              "          }\n",
              "        }\n",
              "      }\n",
              "      const blob = new Blob(buffers, {type: 'application/binary'});\n",
              "      const a = document.createElement('a');\n",
              "      a.href = window.URL.createObjectURL(blob);\n",
              "      a.download = filename;\n",
              "      div.appendChild(a);\n",
              "      a.click();\n",
              "      div.remove();\n",
              "    }\n",
              "  "
            ]
          },
          "metadata": {}
        },
        {
          "output_type": "display_data",
          "data": {
            "text/plain": [
              "<IPython.core.display.Javascript object>"
            ],
            "application/javascript": [
              "download(\"download_6258ba20-0835-4455-ab06-e71562fda28c\", \"best.onnx\", 174911579)"
            ]
          },
          "metadata": {}
        }
      ]
    },
    {
      "cell_type": "code",
      "source": [
        "from ultralytics import YOLO\n",
        "from google.colab import files\n",
        "\n",
        "# best.pt 모델 로드\n",
        "model = YOLO('/content/runs/detect/best.pt/weights/best.pt')\n",
        "\n",
        "# TFLite로 변환\n",
        "model.export(format='tflite')\n",
        "\n",
        "\n",
        "# 변환된 TFLite 파일 다운로드 (올바른 경로로 수정)\n",
        "files.download('/content/runs/detect/best_saved_model/weights/best_saved_model/best_float32.tflite')\n",
        "\n"
      ],
      "metadata": {
        "id": "lie9A571G-lo",
        "colab": {
          "base_uri": "https://localhost:8080/",
          "height": 1000
        },
        "outputId": "8f32a772-2937-474a-b0c0-fc96683c1210"
      },
      "execution_count": null,
      "outputs": [
        {
          "output_type": "stream",
          "name": "stdout",
          "text": [
            "Ultralytics 8.3.154 🚀 Python-3.11.13 torch-2.6.0+cu124 CPU (Intel Xeon 2.20GHz)\n",
            "Model summary (fused): 112 layers, 43,609,692 parameters, 0 gradients, 164.8 GFLOPs\n",
            "\n",
            "\u001b[34m\u001b[1mPyTorch:\u001b[0m starting from '/content/runs/detect/best.pt/weights/best.pt' with input shape (1, 3, 960, 960) BCHW and output shape(s) (1, 8, 18900) (83.7 MB)\n",
            "\u001b[31m\u001b[1mrequirements:\u001b[0m Ultralytics requirements ['sng4onnx>=1.0.1', 'onnx_graphsurgeon>=0.3.26', 'ai-edge-litert>=1.2.0', 'onnx2tf>=1.26.3'] not found, attempting AutoUpdate...\n",
            "\n",
            "\u001b[31m\u001b[1mrequirements:\u001b[0m AutoUpdate success ✅ 1.1s\n",
            "WARNING ⚠️ \u001b[31m\u001b[1mrequirements:\u001b[0m \u001b[1mRestart runtime or rerun command for updates to take effect\u001b[0m\n",
            "\n",
            "\n",
            "\u001b[34m\u001b[1mTensorFlow SavedModel:\u001b[0m starting export with tensorflow 2.18.0...\n",
            "Downloading https://github.com/ultralytics/assets/releases/download/v8.3.0/calibration_image_sample_data_20x128x128x3_float32.npy.zip to 'calibration_image_sample_data_20x128x128x3_float32.npy.zip'...\n"
          ]
        },
        {
          "output_type": "stream",
          "name": "stderr",
          "text": [
            "100%|██████████| 1.11M/1.11M [00:00<00:00, 20.8MB/s]\n",
            "Unzipping calibration_image_sample_data_20x128x128x3_float32.npy.zip to /content/calibration_image_sample_data_20x128x128x3_float32.npy...: 100%|██████████| 1/1 [00:00<00:00, 44.92file/s]"
          ]
        },
        {
          "output_type": "stream",
          "name": "stdout",
          "text": [
            "\n",
            "\u001b[34m\u001b[1mONNX:\u001b[0m starting export with onnx 1.17.0 opset 19...\n"
          ]
        },
        {
          "output_type": "stream",
          "name": "stderr",
          "text": [
            "\n"
          ]
        },
        {
          "output_type": "stream",
          "name": "stdout",
          "text": [
            "\u001b[34m\u001b[1mONNX:\u001b[0m slimming with onnxslim 0.1.57...\n",
            "\u001b[34m\u001b[1mONNX:\u001b[0m export success ✅ 6.6s, saved as '/content/runs/detect/best.pt/weights/best.onnx' (167.0 MB)\n",
            "\u001b[34m\u001b[1mTensorFlow SavedModel:\u001b[0m starting TFLite export with onnx2tf 1.27.10...\n",
            "Saved artifact at '/content/runs/detect/best_saved_model/weights/best_saved_model'. The following endpoints are available:\n",
            "\n",
            "* Endpoint 'serving_default'\n",
            "  inputs_0 (POSITIONAL_ONLY): TensorSpec(shape=(1, 960, 960, 3), dtype=tf.float32, name='images')\n",
            "Output Type:\n",
            "  TensorSpec(shape=(1, 8, 18900), dtype=tf.float32, name=None)\n",
            "Captures:\n",
            "  135546542017232: TensorSpec(shape=(4, 2), dtype=tf.int32, name=None)\n",
            "  135546542018576: TensorSpec(shape=(3, 3, 3, 64), dtype=tf.float32, name=None)\n",
            "  135546542019344: TensorSpec(shape=(64,), dtype=tf.float32, name=None)\n",
            "  135546542023568: TensorSpec(shape=(4, 2), dtype=tf.int32, name=None)\n",
            "  135546542023184: TensorSpec(shape=(3, 3, 64, 128), dtype=tf.float32, name=None)\n",
            "  135546542024144: TensorSpec(shape=(128,), dtype=tf.float32, name=None)\n",
            "  135546542020880: TensorSpec(shape=(1, 1, 128, 128), dtype=tf.float32, name=None)\n",
            "  135546542024528: TensorSpec(shape=(128,), dtype=tf.float32, name=None)\n",
            "  135546542025104: TensorSpec(shape=(4,), dtype=tf.int64, name=None)\n",
            "  135546542024912: TensorSpec(shape=(4,), dtype=tf.int64, name=None)\n",
            "  135546542027408: TensorSpec(shape=(3, 3, 64, 64), dtype=tf.float32, name=None)\n",
            "  135546542027792: TensorSpec(shape=(64,), dtype=tf.float32, name=None)\n",
            "  135546542024720: TensorSpec(shape=(3, 3, 64, 64), dtype=tf.float32, name=None)\n",
            "  135546542024336: TensorSpec(shape=(64,), dtype=tf.float32, name=None)\n",
            "  135546542028176: TensorSpec(shape=(3, 3, 64, 64), dtype=tf.float32, name=None)\n",
            "  135546542027984: TensorSpec(shape=(64,), dtype=tf.float32, name=None)\n",
            "  135546542026064: TensorSpec(shape=(3, 3, 64, 64), dtype=tf.float32, name=None)\n",
            "  135546542026640: TensorSpec(shape=(64,), dtype=tf.float32, name=None)\n",
            "  135546542028560: TensorSpec(shape=(3, 3, 64, 64), dtype=tf.float32, name=None)\n",
            "  135546542028752: TensorSpec(shape=(64,), dtype=tf.float32, name=None)\n",
            "  135546542026448: TensorSpec(shape=(3, 3, 64, 64), dtype=tf.float32, name=None)\n",
            "  135546542028944: TensorSpec(shape=(64,), dtype=tf.float32, name=None)\n",
            "  135546542025296: TensorSpec(shape=(4,), dtype=tf.int64, name=None)\n",
            "  135546542025488: TensorSpec(shape=(4,), dtype=tf.int64, name=None)\n",
            "  135546542028368: TensorSpec(shape=(1, 1, 320, 128), dtype=tf.float32, name=None)\n",
            "  135546542029328: TensorSpec(shape=(128,), dtype=tf.float32, name=None)\n",
            "  135546542029712: TensorSpec(shape=(4, 2), dtype=tf.int32, name=None)\n",
            "  135546542029904: TensorSpec(shape=(3, 3, 128, 256), dtype=tf.float32, name=None)\n",
            "  135546542030480: TensorSpec(shape=(256,), dtype=tf.float32, name=None)\n",
            "  135546542029136: TensorSpec(shape=(1, 1, 256, 256), dtype=tf.float32, name=None)\n",
            "  135546542030096: TensorSpec(shape=(256,), dtype=tf.float32, name=None)\n",
            "  135553070809360: TensorSpec(shape=(4,), dtype=tf.int64, name=None)\n",
            "  135553070809168: TensorSpec(shape=(4,), dtype=tf.int64, name=None)\n",
            "  135546542030672: TensorSpec(shape=(3, 3, 128, 128), dtype=tf.float32, name=None)\n",
            "  135546542030288: TensorSpec(shape=(128,), dtype=tf.float32, name=None)\n",
            "  135553070810128: TensorSpec(shape=(3, 3, 128, 128), dtype=tf.float32, name=None)\n",
            "  135553070810704: TensorSpec(shape=(128,), dtype=tf.float32, name=None)\n",
            "  135553070811856: TensorSpec(shape=(3, 3, 128, 128), dtype=tf.float32, name=None)\n",
            "  135553070811664: TensorSpec(shape=(128,), dtype=tf.float32, name=None)\n",
            "  135553070811472: TensorSpec(shape=(3, 3, 128, 128), dtype=tf.float32, name=None)\n",
            "  135553070810896: TensorSpec(shape=(128,), dtype=tf.float32, name=None)\n",
            "  135553070812240: TensorSpec(shape=(3, 3, 128, 128), dtype=tf.float32, name=None)\n",
            "  135553070812432: TensorSpec(shape=(128,), dtype=tf.float32, name=None)\n",
            "  135553070810320: TensorSpec(shape=(3, 3, 128, 128), dtype=tf.float32, name=None)\n",
            "  135553070812624: TensorSpec(shape=(128,), dtype=tf.float32, name=None)\n",
            "  135553070813008: TensorSpec(shape=(3, 3, 128, 128), dtype=tf.float32, name=None)\n",
            "  135553070813200: TensorSpec(shape=(128,), dtype=tf.float32, name=None)\n",
            "  135553070812048: TensorSpec(shape=(3, 3, 128, 128), dtype=tf.float32, name=None)\n",
            "  135553070813392: TensorSpec(shape=(128,), dtype=tf.float32, name=None)\n",
            "  135553070813776: TensorSpec(shape=(3, 3, 128, 128), dtype=tf.float32, name=None)\n",
            "  135553070813968: TensorSpec(shape=(128,), dtype=tf.float32, name=None)\n",
            "  135553070812816: TensorSpec(shape=(3, 3, 128, 128), dtype=tf.float32, name=None)\n",
            "  135553070814160: TensorSpec(shape=(128,), dtype=tf.float32, name=None)\n",
            "  135553070814544: TensorSpec(shape=(3, 3, 128, 128), dtype=tf.float32, name=None)\n",
            "  135553070814928: TensorSpec(shape=(128,), dtype=tf.float32, name=None)\n",
            "  135553070814736: TensorSpec(shape=(3, 3, 128, 128), dtype=tf.float32, name=None)\n",
            "  135553070813584: TensorSpec(shape=(128,), dtype=tf.float32, name=None)\n",
            "  135553070809552: TensorSpec(shape=(4,), dtype=tf.int64, name=None)\n",
            "  135553070809744: TensorSpec(shape=(4,), dtype=tf.int64, name=None)\n",
            "  135553070815504: TensorSpec(shape=(1, 1, 1024, 256), dtype=tf.float32, name=None)\n",
            "  135553070815312: TensorSpec(shape=(256,), dtype=tf.float32, name=None)\n",
            "  135553070815696: TensorSpec(shape=(4, 2), dtype=tf.int32, name=None)\n",
            "  135553070814352: TensorSpec(shape=(3, 3, 256, 512), dtype=tf.float32, name=None)\n",
            "  135553070815120: TensorSpec(shape=(512,), dtype=tf.float32, name=None)\n",
            "  135553070815888: TensorSpec(shape=(1, 1, 512, 512), dtype=tf.float32, name=None)\n",
            "  135553070816272: TensorSpec(shape=(512,), dtype=tf.float32, name=None)\n",
            "  135553070816848: TensorSpec(shape=(4,), dtype=tf.int64, name=None)\n",
            "  135553070816656: TensorSpec(shape=(4,), dtype=tf.int64, name=None)\n",
            "  135553070817616: TensorSpec(shape=(3, 3, 256, 256), dtype=tf.float32, name=None)\n",
            "  135553070818960: TensorSpec(shape=(256,), dtype=tf.float32, name=None)\n",
            "  135553070816464: TensorSpec(shape=(3, 3, 256, 256), dtype=tf.float32, name=None)\n",
            "  135553070816080: TensorSpec(shape=(256,), dtype=tf.float32, name=None)\n",
            "  135553070819344: TensorSpec(shape=(3, 3, 256, 256), dtype=tf.float32, name=None)\n",
            "  135553070819152: TensorSpec(shape=(256,), dtype=tf.float32, name=None)\n",
            "  135553070817808: TensorSpec(shape=(3, 3, 256, 256), dtype=tf.float32, name=None)\n",
            "  135553070818384: TensorSpec(shape=(256,), dtype=tf.float32, name=None)\n",
            "  135553070819728: TensorSpec(shape=(3, 3, 256, 256), dtype=tf.float32, name=None)\n",
            "  135553070819920: TensorSpec(shape=(256,), dtype=tf.float32, name=None)\n",
            "  135553070818192: TensorSpec(shape=(3, 3, 256, 256), dtype=tf.float32, name=None)\n",
            "  135553070820112: TensorSpec(shape=(256,), dtype=tf.float32, name=None)\n",
            "  135553070820496: TensorSpec(shape=(3, 3, 256, 256), dtype=tf.float32, name=None)\n",
            "  135553070820688: TensorSpec(shape=(256,), dtype=tf.float32, name=None)\n",
            "  135553070819536: TensorSpec(shape=(3, 3, 256, 256), dtype=tf.float32, name=None)\n",
            "  135553070820880: TensorSpec(shape=(256,), dtype=tf.float32, name=None)\n",
            "  135553070821264: TensorSpec(shape=(3, 3, 256, 256), dtype=tf.float32, name=None)\n",
            "  135553070821456: TensorSpec(shape=(256,), dtype=tf.float32, name=None)\n",
            "  135553070820304: TensorSpec(shape=(3, 3, 256, 256), dtype=tf.float32, name=None)\n",
            "  135553070821648: TensorSpec(shape=(256,), dtype=tf.float32, name=None)\n",
            "  135553070821072: TensorSpec(shape=(3, 3, 256, 256), dtype=tf.float32, name=None)\n",
            "  135553070822032: TensorSpec(shape=(256,), dtype=tf.float32, name=None)\n",
            "  135553070822224: TensorSpec(shape=(3, 3, 256, 256), dtype=tf.float32, name=None)\n",
            "  135553070822416: TensorSpec(shape=(256,), dtype=tf.float32, name=None)\n",
            "  135553070817040: TensorSpec(shape=(4,), dtype=tf.int64, name=None)\n",
            "  135553070817232: TensorSpec(shape=(4,), dtype=tf.int64, name=None)\n",
            "  135553070822992: TensorSpec(shape=(1, 1, 2048, 512), dtype=tf.float32, name=None)\n",
            "  135553070822800: TensorSpec(shape=(512,), dtype=tf.float32, name=None)\n",
            "  135553070823184: TensorSpec(shape=(4, 2), dtype=tf.int32, name=None)\n",
            "  135553070821840: TensorSpec(shape=(3, 3, 512, 512), dtype=tf.float32, name=None)\n",
            "  135553070822608: TensorSpec(shape=(512,), dtype=tf.float32, name=None)\n",
            "  135553070823376: TensorSpec(shape=(1, 1, 512, 512), dtype=tf.float32, name=None)\n",
            "  135553070823760: TensorSpec(shape=(512,), dtype=tf.float32, name=None)\n",
            "  135553070824336: TensorSpec(shape=(4,), dtype=tf.int64, name=None)\n",
            "  135553070824144: TensorSpec(shape=(4,), dtype=tf.int64, name=None)\n",
            "  135553070823952: TensorSpec(shape=(3, 3, 256, 256), dtype=tf.float32, name=None)\n",
            "  135553070825296: TensorSpec(shape=(256,), dtype=tf.float32, name=None)\n",
            "  135553070823568: TensorSpec(shape=(3, 3, 256, 256), dtype=tf.float32, name=None)\n",
            "  135553070824912: TensorSpec(shape=(256,), dtype=tf.float32, name=None)\n",
            "  135553070825104: TensorSpec(shape=(3, 3, 256, 256), dtype=tf.float32, name=None)\n",
            "  135553066501520: TensorSpec(shape=(256,), dtype=tf.float32, name=None)\n",
            "  135553066500560: TensorSpec(shape=(3, 3, 256, 256), dtype=tf.float32, name=None)\n",
            "  135553066501328: TensorSpec(shape=(256,), dtype=tf.float32, name=None)\n",
            "  135553066501904: TensorSpec(shape=(3, 3, 256, 256), dtype=tf.float32, name=None)\n",
            "  135553066502096: TensorSpec(shape=(256,), dtype=tf.float32, name=None)\n",
            "  135553066501136: TensorSpec(shape=(3, 3, 256, 256), dtype=tf.float32, name=None)\n",
            "  135553066502288: TensorSpec(shape=(256,), dtype=tf.float32, name=None)\n",
            "  135553070824528: TensorSpec(shape=(4,), dtype=tf.int64, name=None)\n",
            "  135553070824720: TensorSpec(shape=(4,), dtype=tf.int64, name=None)\n",
            "  135553066502864: TensorSpec(shape=(1, 1, 1280, 512), dtype=tf.float32, name=None)\n",
            "  135553066502672: TensorSpec(shape=(512,), dtype=tf.float32, name=None)\n",
            "  135553066501712: TensorSpec(shape=(1, 1, 512, 256), dtype=tf.float32, name=None)\n",
            "  135553066503056: TensorSpec(shape=(256,), dtype=tf.float32, name=None)\n",
            "  135553066503440: TensorSpec(shape=(1, 1, 1024, 512), dtype=tf.float32, name=None)\n",
            "  135553066503248: TensorSpec(shape=(512,), dtype=tf.float32, name=None)\n",
            "  135547155310608: TensorSpec(shape=(1, 1, 1024, 512), dtype=tf.float32, name=None)\n",
            "  135547155310800: TensorSpec(shape=(512,), dtype=tf.float32, name=None)\n",
            "  135547155315216: TensorSpec(shape=(4,), dtype=tf.int64, name=None)\n",
            "  135546542019728: TensorSpec(shape=(4,), dtype=tf.int64, name=None)\n",
            "  135547155316176: TensorSpec(shape=(3, 3, 256, 256), dtype=tf.float32, name=None)\n",
            "  135547155311568: TensorSpec(shape=(256,), dtype=tf.float32, name=None)\n",
            "  135547155316368: TensorSpec(shape=(3, 3, 256, 256), dtype=tf.float32, name=None)\n",
            "  135547155311184: TensorSpec(shape=(256,), dtype=tf.float32, name=None)\n",
            "  135546542018384: TensorSpec(shape=(3, 3, 256, 256), dtype=tf.float32, name=None)\n",
            "  135546542015120: TensorSpec(shape=(256,), dtype=tf.float32, name=None)\n",
            "  135546542014544: TensorSpec(shape=(3, 3, 256, 256), dtype=tf.float32, name=None)\n",
            "  135546542014736: TensorSpec(shape=(256,), dtype=tf.float32, name=None)\n",
            "  135547171169744: TensorSpec(shape=(3, 3, 256, 256), dtype=tf.float32, name=None)\n",
            "  135547171170128: TensorSpec(shape=(256,), dtype=tf.float32, name=None)\n",
            "  135547171170320: TensorSpec(shape=(3, 3, 256, 256), dtype=tf.float32, name=None)\n",
            "  135553066504016: TensorSpec(shape=(256,), dtype=tf.float32, name=None)\n",
            "  135547155316560: TensorSpec(shape=(4,), dtype=tf.int64, name=None)\n",
            "  135547155315408: TensorSpec(shape=(4,), dtype=tf.int64, name=None)\n",
            "  135553066502480: TensorSpec(shape=(1, 1, 1280, 512), dtype=tf.float32, name=None)\n",
            "  135553066503632: TensorSpec(shape=(512,), dtype=tf.float32, name=None)\n",
            "  135553066504208: TensorSpec(shape=(1, 1, 768, 256), dtype=tf.float32, name=None)\n",
            "  135553066504400: TensorSpec(shape=(256,), dtype=tf.float32, name=None)\n",
            "  135553066504784: TensorSpec(shape=(4,), dtype=tf.int64, name=None)\n",
            "  135553066503824: TensorSpec(shape=(4,), dtype=tf.int64, name=None)\n",
            "  135553066505744: TensorSpec(shape=(3, 3, 128, 128), dtype=tf.float32, name=None)\n",
            "  135553066507088: TensorSpec(shape=(128,), dtype=tf.float32, name=None)\n",
            "  135553066504592: TensorSpec(shape=(3, 3, 128, 128), dtype=tf.float32, name=None)\n",
            "  135553066504976: TensorSpec(shape=(128,), dtype=tf.float32, name=None)\n",
            "  135553066506320: TensorSpec(shape=(3, 3, 128, 128), dtype=tf.float32, name=None)\n",
            "  135553066507472: TensorSpec(shape=(128,), dtype=tf.float32, name=None)\n",
            "  135553066507280: TensorSpec(shape=(3, 3, 128, 128), dtype=tf.float32, name=None)\n",
            "  135553066506512: TensorSpec(shape=(128,), dtype=tf.float32, name=None)\n",
            "  135553066507664: TensorSpec(shape=(3, 3, 128, 128), dtype=tf.float32, name=None)\n",
            "  135553066507856: TensorSpec(shape=(128,), dtype=tf.float32, name=None)\n",
            "  135553066508048: TensorSpec(shape=(3, 3, 128, 128), dtype=tf.float32, name=None)\n",
            "  135553066508240: TensorSpec(shape=(128,), dtype=tf.float32, name=None)\n",
            "  135553066505168: TensorSpec(shape=(4,), dtype=tf.int64, name=None)\n",
            "  135553066505360: TensorSpec(shape=(4,), dtype=tf.int64, name=None)\n",
            "  135553066508624: TensorSpec(shape=(1, 1, 640, 256), dtype=tf.float32, name=None)\n",
            "  135553066508432: TensorSpec(shape=(256,), dtype=tf.float32, name=None)\n",
            "  135553066509008: TensorSpec(shape=(4, 2), dtype=tf.int32, name=None)\n",
            "  135553066508816: TensorSpec(shape=(3, 3, 256, 256), dtype=tf.float32, name=None)\n",
            "  135553066505936: TensorSpec(shape=(256,), dtype=tf.float32, name=None)\n",
            "  135553066509968: TensorSpec(shape=(1, 1, 768, 512), dtype=tf.float32, name=None)\n",
            "  135553066510928: TensorSpec(shape=(512,), dtype=tf.float32, name=None)\n",
            "  135553066512272: TensorSpec(shape=(4,), dtype=tf.int64, name=None)\n",
            "  135553066511888: TensorSpec(shape=(4,), dtype=tf.int64, name=None)\n",
            "  135553066514960: TensorSpec(shape=(3, 3, 256, 256), dtype=tf.float32, name=None)\n",
            "  135553066514768: TensorSpec(shape=(256,), dtype=tf.float32, name=None)\n",
            "  135553066512464: TensorSpec(shape=(3, 3, 256, 256), dtype=tf.float32, name=None)\n",
            "  135553066513424: TensorSpec(shape=(256,), dtype=tf.float32, name=None)\n",
            "  135553066512080: TensorSpec(shape=(3, 3, 256, 256), dtype=tf.float32, name=None)\n",
            "  135553066513808: TensorSpec(shape=(256,), dtype=tf.float32, name=None)\n",
            "  135553066514576: TensorSpec(shape=(3, 3, 256, 256), dtype=tf.float32, name=None)\n",
            "  135553066513232: TensorSpec(shape=(256,), dtype=tf.float32, name=None)\n",
            "  135553066514000: TensorSpec(shape=(3, 3, 256, 256), dtype=tf.float32, name=None)\n",
            "  135553066515344: TensorSpec(shape=(256,), dtype=tf.float32, name=None)\n",
            "  135553066515536: TensorSpec(shape=(3, 3, 256, 256), dtype=tf.float32, name=None)\n",
            "  135553066515728: TensorSpec(shape=(256,), dtype=tf.float32, name=None)\n",
            "  135553066512656: TensorSpec(shape=(4,), dtype=tf.int64, name=None)\n",
            "  135553066512848: TensorSpec(shape=(4,), dtype=tf.int64, name=None)\n",
            "  135553066516112: TensorSpec(shape=(1, 1, 1280, 512), dtype=tf.float32, name=None)\n",
            "  135553066515920: TensorSpec(shape=(512,), dtype=tf.float32, name=None)\n",
            "  135553066515152: TensorSpec(shape=(4, 2), dtype=tf.int32, name=None)\n",
            "  135553066516304: TensorSpec(shape=(3, 3, 512, 512), dtype=tf.float32, name=None)\n",
            "  135555104276752: TensorSpec(shape=(512,), dtype=tf.float32, name=None)\n",
            "  135555104278288: TensorSpec(shape=(1, 1, 1024, 512), dtype=tf.float32, name=None)\n",
            "  135555104278480: TensorSpec(shape=(512,), dtype=tf.float32, name=None)\n",
            "  135555104279824: TensorSpec(shape=(4,), dtype=tf.int64, name=None)\n",
            "  135555104279248: TensorSpec(shape=(4,), dtype=tf.int64, name=None)\n",
            "  135555104282512: TensorSpec(shape=(3, 3, 256, 256), dtype=tf.float32, name=None)\n",
            "  135555104282320: TensorSpec(shape=(256,), dtype=tf.float32, name=None)\n",
            "  135555104281552: TensorSpec(shape=(3, 3, 256, 256), dtype=tf.float32, name=None)\n",
            "  135555104281360: TensorSpec(shape=(256,), dtype=tf.float32, name=None)\n",
            "  135555104280784: TensorSpec(shape=(3, 3, 256, 256), dtype=tf.float32, name=None)\n",
            "  135555104280016: TensorSpec(shape=(256,), dtype=tf.float32, name=None)\n",
            "  135555104280976: TensorSpec(shape=(3, 3, 256, 256), dtype=tf.float32, name=None)\n",
            "  135555104279632: TensorSpec(shape=(256,), dtype=tf.float32, name=None)\n",
            "  135555104282704: TensorSpec(shape=(3, 3, 256, 256), dtype=tf.float32, name=None)\n",
            "  135555104282896: TensorSpec(shape=(256,), dtype=tf.float32, name=None)\n",
            "  135555104283088: TensorSpec(shape=(3, 3, 256, 256), dtype=tf.float32, name=None)\n",
            "  135555104283280: TensorSpec(shape=(256,), dtype=tf.float32, name=None)\n",
            "  135555104280208: TensorSpec(shape=(4,), dtype=tf.int64, name=None)\n",
            "  135555104280400: TensorSpec(shape=(4,), dtype=tf.int64, name=None)\n",
            "  135555104283664: TensorSpec(shape=(1, 1, 1280, 512), dtype=tf.float32, name=None)\n",
            "  135555104283472: TensorSpec(shape=(512,), dtype=tf.float32, name=None)\n",
            "  135555104284240: TensorSpec(shape=(3, 3, 512, 256), dtype=tf.float32, name=None)\n",
            "  135555104283856: TensorSpec(shape=(3, 3, 512, 64), dtype=tf.float32, name=None)\n",
            "  135555104277136: TensorSpec(shape=(3, 3, 512, 256), dtype=tf.float32, name=None)\n",
            "  135555104276560: TensorSpec(shape=(3, 3, 512, 64), dtype=tf.float32, name=None)\n",
            "  135553066509584: TensorSpec(shape=(3, 3, 256, 256), dtype=tf.float32, name=None)\n",
            "  135553066509200: TensorSpec(shape=(3, 3, 256, 64), dtype=tf.float32, name=None)\n",
            "  135555104282128: TensorSpec(shape=(256,), dtype=tf.float32, name=None)\n",
            "  135555104284048: TensorSpec(shape=(64,), dtype=tf.float32, name=None)\n",
            "  135555104277328: TensorSpec(shape=(256,), dtype=tf.float32, name=None)\n",
            "  135555104276944: TensorSpec(shape=(64,), dtype=tf.float32, name=None)\n",
            "  135553066509776: TensorSpec(shape=(256,), dtype=tf.float32, name=None)\n",
            "  135553066509392: TensorSpec(shape=(64,), dtype=tf.float32, name=None)\n",
            "  135555104284432: TensorSpec(shape=(3, 3, 256, 256), dtype=tf.float32, name=None)\n",
            "  135555104284816: TensorSpec(shape=(3, 3, 64, 64), dtype=tf.float32, name=None)\n",
            "  135555104277520: TensorSpec(shape=(3, 3, 256, 256), dtype=tf.float32, name=None)\n",
            "  135555104277712: TensorSpec(shape=(3, 3, 64, 64), dtype=tf.float32, name=None)\n",
            "  135553066510352: TensorSpec(shape=(3, 3, 256, 256), dtype=tf.float32, name=None)\n",
            "  135553066510736: TensorSpec(shape=(3, 3, 64, 64), dtype=tf.float32, name=None)\n",
            "  135555104284624: TensorSpec(shape=(256,), dtype=tf.float32, name=None)\n",
            "  135555104285008: TensorSpec(shape=(64,), dtype=tf.float32, name=None)\n",
            "  135555104277904: TensorSpec(shape=(256,), dtype=tf.float32, name=None)\n",
            "  135555104278096: TensorSpec(shape=(64,), dtype=tf.float32, name=None)\n",
            "  135553066510544: TensorSpec(shape=(256,), dtype=tf.float32, name=None)\n",
            "  135553066510160: TensorSpec(shape=(64,), dtype=tf.float32, name=None)\n",
            "  135555104285200: TensorSpec(shape=(1, 1, 256, 4), dtype=tf.float32, name=None)\n",
            "  135555104285776: TensorSpec(shape=(1, 1, 64, 64), dtype=tf.float32, name=None)\n",
            "  135555104278672: TensorSpec(shape=(1, 1, 256, 4), dtype=tf.float32, name=None)\n",
            "  135555104279056: TensorSpec(shape=(1, 1, 64, 64), dtype=tf.float32, name=None)\n",
            "  135553066511120: TensorSpec(shape=(1, 1, 256, 4), dtype=tf.float32, name=None)\n",
            "  135553066511696: TensorSpec(shape=(1, 1, 64, 64), dtype=tf.float32, name=None)\n",
            "  135555104285584: TensorSpec(shape=(64,), dtype=tf.float32, name=None)\n",
            "  135555104285392: TensorSpec(shape=(4,), dtype=tf.float32, name=None)\n",
            "  135555104278864: TensorSpec(shape=(64,), dtype=tf.float32, name=None)\n",
            "  135555104279440: TensorSpec(shape=(4,), dtype=tf.float32, name=None)\n",
            "  135553066511312: TensorSpec(shape=(64,), dtype=tf.float32, name=None)\n",
            "  135553066511504: TensorSpec(shape=(4,), dtype=tf.float32, name=None)\n",
            "  135555104288272: TensorSpec(shape=(3,), dtype=tf.int64, name=None)\n",
            "  135555104288080: TensorSpec(shape=(3,), dtype=tf.int64, name=None)\n",
            "  135555104289232: TensorSpec(shape=(1, 1, 16, 1), dtype=tf.float32, name=None)\n",
            "  135555104285968: TensorSpec(shape=(1, 4, 18900), dtype=tf.float32, name=None)\n",
            "  135555104288464: TensorSpec(shape=(3,), dtype=tf.int64, name=None)\n",
            "  135555104287312: TensorSpec(shape=(3,), dtype=tf.int64, name=None)\n",
            "  135555104286928: TensorSpec(shape=(3,), dtype=tf.int64, name=None)\n",
            "  135555104286544: TensorSpec(shape=(3,), dtype=tf.int64, name=None)\n",
            "  135555104290960: TensorSpec(shape=(1, 2, 18900), dtype=tf.float32, name=None)\n",
            "  135555104286160: TensorSpec(shape=(1, 2, 18900), dtype=tf.float32, name=None)\n",
            "  135555104287504: TensorSpec(shape=(3,), dtype=tf.int64, name=None)\n",
            "  135555104287696: TensorSpec(shape=(3,), dtype=tf.int64, name=None)\n",
            "\u001b[34m\u001b[1mTensorFlow SavedModel:\u001b[0m export success ✅ 58.3s, saved as '/content/runs/detect/best_saved_model/weights/best_saved_model' (417.8 MB)\n",
            "\n",
            "\u001b[34m\u001b[1mTensorFlow Lite:\u001b[0m starting export with tensorflow 2.18.0...\n",
            "\u001b[34m\u001b[1mTensorFlow Lite:\u001b[0m export success ✅ 0.0s, saved as '/content/runs/detect/best_saved_model/weights/best_saved_model/best_float32.tflite' (166.9 MB)\n",
            "\n",
            "Export complete (61.1s)\n",
            "Results saved to \u001b[1m/content/runs/detect/best.pt/weights\u001b[0m\n",
            "Predict:         yolo predict task=detect model=/content/runs/detect/best_saved_model/weights/best_saved_model/best_float32.tflite imgsz=960  \n",
            "Validate:        yolo val task=detect model=/content/runs/detect/best_saved_model/weights/best_saved_model/best_float32.tflite imgsz=960 data=/content/data.yaml  \n",
            "Visualize:       https://netron.app\n"
          ]
        },
        {
          "output_type": "display_data",
          "data": {
            "text/plain": [
              "<IPython.core.display.Javascript object>"
            ],
            "application/javascript": [
              "\n",
              "    async function download(id, filename, size) {\n",
              "      if (!google.colab.kernel.accessAllowed) {\n",
              "        return;\n",
              "      }\n",
              "      const div = document.createElement('div');\n",
              "      const label = document.createElement('label');\n",
              "      label.textContent = `Downloading \"${filename}\": `;\n",
              "      div.appendChild(label);\n",
              "      const progress = document.createElement('progress');\n",
              "      progress.max = size;\n",
              "      div.appendChild(progress);\n",
              "      document.body.appendChild(div);\n",
              "\n",
              "      const buffers = [];\n",
              "      let downloaded = 0;\n",
              "\n",
              "      const channel = await google.colab.kernel.comms.open(id);\n",
              "      // Send a message to notify the kernel that we're ready.\n",
              "      channel.send({})\n",
              "\n",
              "      for await (const message of channel.messages) {\n",
              "        // Send a message to notify the kernel that we're ready.\n",
              "        channel.send({})\n",
              "        if (message.buffers) {\n",
              "          for (const buffer of message.buffers) {\n",
              "            buffers.push(buffer);\n",
              "            downloaded += buffer.byteLength;\n",
              "            progress.value = downloaded;\n",
              "          }\n",
              "        }\n",
              "      }\n",
              "      const blob = new Blob(buffers, {type: 'application/binary'});\n",
              "      const a = document.createElement('a');\n",
              "      a.href = window.URL.createObjectURL(blob);\n",
              "      a.download = filename;\n",
              "      div.appendChild(a);\n",
              "      a.click();\n",
              "      div.remove();\n",
              "    }\n",
              "  "
            ]
          },
          "metadata": {}
        },
        {
          "output_type": "display_data",
          "data": {
            "text/plain": [
              "<IPython.core.display.Javascript object>"
            ],
            "application/javascript": [
              "download(\"download_0a89ed51-cca8-4573-b514-1d8f89db97cb\", \"best_float32.tflite\", 175035083)"
            ]
          },
          "metadata": {}
        }
      ]
    },
    {
      "cell_type": "code",
      "source": [],
      "metadata": {
        "id": "Ql_WLaQAG-nk"
      },
      "execution_count": null,
      "outputs": []
    }
  ]
}